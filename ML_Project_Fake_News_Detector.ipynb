{
  "nbformat": 4,
  "nbformat_minor": 0,
  "metadata": {
    "colab": {
      "name": "ML-Project--Fake-News-Detector.ipynb",
      "provenance": [],
      "collapsed_sections": [],
      "mount_file_id": "1V7rlRWzwdjsGIOIKrdyVI3S_qT5W515v",
      "authorship_tag": "ABX9TyPfGKGCDUJ1Yhbe2+rrSPUs",
      "include_colab_link": true
    },
    "kernelspec": {
      "name": "python3",
      "display_name": "Python 3"
    },
    "accelerator": "GPU"
  },
  "cells": [
    {
      "cell_type": "markdown",
      "metadata": {
        "id": "view-in-github",
        "colab_type": "text"
      },
      "source": [
        "<a href=\"https://colab.research.google.com/github/IUT-Thesis-Group-Cmr/ML-Project/blob/master/ML_Project_Fake_News_Detector.ipynb\" target=\"_parent\"><img src=\"https://colab.research.google.com/assets/colab-badge.svg\" alt=\"Open In Colab\"/></a>"
      ]
    },
    {
      "cell_type": "markdown",
      "metadata": {
        "id": "GmhGmFH7-3R4",
        "colab_type": "text"
      },
      "source": [
        "# **Initialization tweaks**\n",
        "* Initiating GoogleDrive mounting\n",
        "* Necessary Library's imports\n",
        "* Load Dataset [**Optional**]\n"
      ]
    },
    {
      "cell_type": "code",
      "metadata": {
        "id": "CYXk4whjzlHg",
        "colab_type": "code",
        "colab": {
          "base_uri": "https://localhost:8080/",
          "height": 34
        },
        "outputId": "1fd37bac-33ca-4c5b-b5c2-7603eeaa4eff"
      },
      "source": [
        "#-Google Drive Access-Granting\n",
        "from google.colab import drive\n",
        "drive.mount('/content/drive')"
      ],
      "execution_count": 185,
      "outputs": [
        {
          "output_type": "stream",
          "text": [
            "Drive already mounted at /content/drive; to attempt to forcibly remount, call drive.mount(\"/content/drive\", force_remount=True).\n"
          ],
          "name": "stdout"
        }
      ]
    },
    {
      "cell_type": "code",
      "metadata": {
        "id": "5w4sSeGUL41N",
        "colab_type": "code",
        "colab": {
          "base_uri": "https://localhost:8080/",
          "height": 34
        },
        "outputId": "e7437073-f670-41e8-edb6-1472efcb1cbc"
      },
      "source": [
        "# files paths\n",
        "path = '/content/drive/My Drive/ThesisFile/datasets/ml-project/fake_real-news-dataset/'\n",
        "if path[-1] != '/':\n",
        "  path += '/'\n",
        "print('Good to go ✔')"
      ],
      "execution_count": 186,
      "outputs": [
        {
          "output_type": "stream",
          "text": [
            "Good to go ✔\n"
          ],
          "name": "stdout"
        }
      ]
    },
    {
      "cell_type": "code",
      "metadata": {
        "id": "6by1JrAb0YXY",
        "colab_type": "code",
        "colab": {}
      },
      "source": [
        "#-Library imports\n",
        "import pandas as pd\n",
        "import matplotlib\n",
        "import matplotlib.pyplot as plt\n",
        "import numpy as np\n",
        "import statistics\n",
        "import math \n",
        "import nltk\n",
        "import string\n",
        "from time import time\n",
        "import seaborn as sns\n",
        "from sklearn import preprocessing\n",
        "from sklearn import linear_model\n",
        "from sklearn import svm\n",
        "from sklearn import metrics\n",
        "from sklearn.utils import validation\n",
        "from sklearn.utils.extmath import density\n",
        "from sklearn.cluster import KMeans\n",
        "from sklearn.cluster import KMeans\n",
        "from sklearn.feature_extraction.text import TfidfVectorizer\n",
        "from sklearn.model_selection import train_test_split\n",
        "from sklearn.model_selection import KFold\n",
        "from sklearn.model_selection import StratifiedKFold\n",
        "from sklearn.model_selection import cross_val_score\n",
        "from sklearn.model_selection import cross_validate\n",
        "from sklearn.model_selection import GridSearchCV\n",
        "from sklearn.linear_model import LinearRegression, PassiveAggressiveClassifier\n",
        "from sklearn.decomposition import PCA\n",
        "from sklearn.preprocessing import normalize\n",
        "from sklearn.preprocessing import MinMaxScaler\n",
        "from sklearn.metrics import accuracy_score, pairwise_distances, mean_absolute_error, classification_report, confusion_matrix\n",
        "from sklearn.neighbors import KNeighborsClassifier\n",
        "from sklearn.datasets import make_blobs\n",
        "#Import Gaussian Naive Bayes model\n",
        "from sklearn.naive_bayes import GaussianNB\n",
        "from seaborn import heatmap\n",
        "from math import exp\n",
        "from random import randint, seed\n",
        "import itertools\n",
        "from statsmodels.graphics.mosaicplot import mosaic\n",
        "from matplotlib.patches import Patch\n",
        "from collections import deque\n",
        "\n",
        "%matplotlib inline"
      ],
      "execution_count": 187,
      "outputs": []
    },
    {
      "cell_type": "code",
      "metadata": {
        "id": "RciTrIB5_wfa",
        "colab_type": "code",
        "colab": {}
      },
      "source": [
        "def nclass_classification_mosaic_plot(n_classes, results):\n",
        "    \"\"\"\n",
        "    build a mosaic plot from the results of a classification\n",
        "    \n",
        "    parameters:\n",
        "    n_classes: number of classes\n",
        "    results: results of the prediction in form of an array of arrays\n",
        "    \n",
        "    In case of 3 classes the prdiction could look like\n",
        "    [[10, 2, 4],\n",
        "     [1, 12, 3],\n",
        "     [2, 2, 9]\n",
        "    ]\n",
        "    where there is one array for each class and each array holds the\n",
        "    predictions for each class [class 1, class 2, class 3].\n",
        "    \n",
        "    This is just a prototype including colors for 6 classes.\n",
        "    \"\"\"\n",
        "    class_lists = [range(n_classes)]*2\n",
        "    mosaic_tuples = tuple(itertools.product(*class_lists))\n",
        "    \n",
        "    res_list = results[0]\n",
        "    for i, l in enumerate(results):\n",
        "        if i == 0:\n",
        "            pass\n",
        "        else:\n",
        "            tmp = deque(l)\n",
        "            tmp.rotate(-i)\n",
        "            res_list.extend(tmp)\n",
        "    data = {t:res_list[i] for i,t in enumerate(mosaic_tuples)}\n",
        "\n",
        "    fig, ax = plt.subplots(figsize=(11, 10))\n",
        "    plt.rcParams.update({'font.size': 16})\n",
        "\n",
        "    font_color = '#2c3e50'\n",
        "    pallet = [\n",
        "        '#6a89cc', \n",
        "        '#4a69bd', \n",
        "        '#1e3799', \n",
        "        '#0c2461',\n",
        "        '#82ccdd',\n",
        "        '#60a3bc',\n",
        "    ]\n",
        "    colors = deque(pallet[:n_classes])\n",
        "    all_colors = []\n",
        "    for i in range(n_classes):\n",
        "        if i > 0:\n",
        "            colors.rotate(-1)\n",
        "        all_colors.extend(colors)\n",
        "\n",
        "    props = {(str(a), str(b)):{'color':all_colors[i]} for i,(a, b) in enumerate(mosaic_tuples)}\n",
        "\n",
        "    labelizer = lambda k: ''\n",
        "\n",
        "    p = mosaic(data, labelizer=labelizer, properties=props, ax=ax)\n",
        "\n",
        "    title_font_dict = {\n",
        "        'fontsize': 20,\n",
        "        'color' : font_color,\n",
        "    }\n",
        "    axis_label_font_dict = {\n",
        "        'fontsize': 16,\n",
        "        'color' : font_color,\n",
        "    }\n",
        "\n",
        "    ax.tick_params(axis = \"x\", which = \"both\", bottom = False, top = False)\n",
        "    ax.axes.yaxis.set_ticks([])\n",
        "    ax.tick_params(axis='x', which='major', labelsize=14)\n",
        "\n",
        "    ax.set_title('Classification Report', fontdict=title_font_dict, pad=25)\n",
        "    ax.set_xlabel('Observed Class', fontdict=axis_label_font_dict, labelpad=10)\n",
        "    ax.set_ylabel('Predicted Class', fontdict=axis_label_font_dict, labelpad=35)\n",
        "\n",
        "    legend_elements = [Patch(facecolor=all_colors[i], label='Class {}'.format(i)) for i in range(n_classes)]\n",
        "    ax.legend(handles=legend_elements, bbox_to_anchor=(1,1.018), fontsize=16)\n",
        "\n",
        "    plt.tight_layout()\n",
        "    plt.show()"
      ],
      "execution_count": 188,
      "outputs": []
    },
    {
      "cell_type": "code",
      "metadata": {
        "id": "1r6F4B-BbzgI",
        "colab_type": "code",
        "colab": {
          "base_uri": "https://localhost:8080/",
          "height": 1000
        },
        "outputId": "e594c713-fe65-4da8-e7e0-c0405ce8cb87"
      },
      "source": [
        "# Loading Dataset\n",
        "file0 = 'news.csv'\n",
        "file1 = 'Fake.csv'\n",
        "file2 = 'True.csv'\n",
        "\n",
        "df0 = pd.read_csv(path + file0)\n",
        "df1 = pd.read_csv(path + file1)\n",
        "df2 = pd.read_csv(path + file2)\n",
        "\n",
        "print(df0.columns, df0, sep='\\n', end='\\n\\n')\n",
        "print(df1.columns, df1, sep='\\n', end='\\n\\n')\n",
        "print(df2.columns, df2, sep='\\n', end='\\n\\n')\n",
        "\n",
        "df1['label'] = 'FAKE'\n",
        "df2['label'] = 'REAL'\n",
        "\n",
        "dataset = pd.concat([df0[['title','text','label']] , df1[['title','text','label']] , df2[['title','text','label']]], ignore_index=True)\n",
        "\n",
        "dataset = dataset.sample(frac=1).reset_index(drop=True)\n",
        "print(dataset.columns, dataset.shape)\n",
        "dataset.tail()\n",
        "\n",
        "# print('Dataset Attributes::', dataset.columns)\n",
        "# print('Dataset Dim::', dataset.shape)\n",
        "# print(dataset.head())\n",
        "# print('\\nData Output::\\n', dataset.label)"
      ],
      "execution_count": 189,
      "outputs": [
        {
          "output_type": "stream",
          "text": [
            "Index(['Unnamed: 0', 'title', 'text', 'label'], dtype='object')\n",
            "      Unnamed: 0  ... label\n",
            "0           8476  ...  FAKE\n",
            "1          10294  ...  FAKE\n",
            "2           3608  ...  REAL\n",
            "3          10142  ...  FAKE\n",
            "4            875  ...  REAL\n",
            "...          ...  ...   ...\n",
            "6330        4490  ...  REAL\n",
            "6331        8062  ...  FAKE\n",
            "6332        8622  ...  FAKE\n",
            "6333        4021  ...  REAL\n",
            "6334        4330  ...  REAL\n",
            "\n",
            "[6335 rows x 4 columns]\n",
            "\n",
            "Index(['title', 'text', 'subject', 'date'], dtype='object')\n",
            "                                                   title  ...               date\n",
            "0       Donald Trump Sends Out Embarrassing New Year’...  ...  December 31, 2017\n",
            "1       Drunk Bragging Trump Staffer Started Russian ...  ...  December 31, 2017\n",
            "2       Sheriff David Clarke Becomes An Internet Joke...  ...  December 30, 2017\n",
            "3       Trump Is So Obsessed He Even Has Obama’s Name...  ...  December 29, 2017\n",
            "4       Pope Francis Just Called Out Donald Trump Dur...  ...  December 25, 2017\n",
            "...                                                  ...  ...                ...\n",
            "23476  McPain: John McCain Furious That Iran Treated ...  ...   January 16, 2016\n",
            "23477  JUSTICE? Yahoo Settles E-mail Privacy Class-ac...  ...   January 16, 2016\n",
            "23478  Sunnistan: US and Allied ‘Safe Zone’ Plan to T...  ...   January 15, 2016\n",
            "23479  How to Blow $700 Million: Al Jazeera America F...  ...   January 14, 2016\n",
            "23480  10 U.S. Navy Sailors Held by Iranian Military ...  ...   January 12, 2016\n",
            "\n",
            "[23481 rows x 4 columns]\n",
            "\n",
            "Index(['title', 'text', 'subject', 'date'], dtype='object')\n",
            "                                                   title  ...                date\n",
            "0      As U.S. budget fight looms, Republicans flip t...  ...  December 31, 2017 \n",
            "1      U.S. military to accept transgender recruits o...  ...  December 29, 2017 \n",
            "2      Senior U.S. Republican senator: 'Let Mr. Muell...  ...  December 31, 2017 \n",
            "3      FBI Russia probe helped by Australian diplomat...  ...  December 30, 2017 \n",
            "4      Trump wants Postal Service to charge 'much mor...  ...  December 29, 2017 \n",
            "...                                                  ...  ...                 ...\n",
            "21412  'Fully committed' NATO backs new U.S. approach...  ...    August 22, 2017 \n",
            "21413  LexisNexis withdrew two products from Chinese ...  ...    August 22, 2017 \n",
            "21414  Minsk cultural hub becomes haven from authorities  ...    August 22, 2017 \n",
            "21415  Vatican upbeat on possibility of Pope Francis ...  ...    August 22, 2017 \n",
            "21416  Indonesia to buy $1.14 billion worth of Russia...  ...    August 22, 2017 \n",
            "\n",
            "[21417 rows x 4 columns]\n",
            "\n",
            "Index(['title', 'text', 'label'], dtype='object') (51233, 3)\n"
          ],
          "name": "stdout"
        },
        {
          "output_type": "execute_result",
          "data": {
            "text/html": [
              "<div>\n",
              "<style scoped>\n",
              "    .dataframe tbody tr th:only-of-type {\n",
              "        vertical-align: middle;\n",
              "    }\n",
              "\n",
              "    .dataframe tbody tr th {\n",
              "        vertical-align: top;\n",
              "    }\n",
              "\n",
              "    .dataframe thead th {\n",
              "        text-align: right;\n",
              "    }\n",
              "</style>\n",
              "<table border=\"1\" class=\"dataframe\">\n",
              "  <thead>\n",
              "    <tr style=\"text-align: right;\">\n",
              "      <th></th>\n",
              "      <th>title</th>\n",
              "      <th>text</th>\n",
              "      <th>label</th>\n",
              "    </tr>\n",
              "  </thead>\n",
              "  <tbody>\n",
              "    <tr>\n",
              "      <th>51228</th>\n",
              "      <td>Delay seen, again, on Trump growth agenda afte...</td>\n",
              "      <td>NEW YORK (Reuters) - Not even a week after the...</td>\n",
              "      <td>REAL</td>\n",
              "    </tr>\n",
              "    <tr>\n",
              "      <th>51229</th>\n",
              "      <td>Russia may send more Iskander missiles to Kali...</td>\n",
              "      <td>MOSCOW (Reuters) - Russia may send more Iskand...</td>\n",
              "      <td>REAL</td>\n",
              "    </tr>\n",
              "    <tr>\n",
              "      <th>51230</th>\n",
              "      <td>MISSISSIPPI Gov Signs “Confederate Heritage Mo...</td>\n",
              "      <td>How long will it take for Obama s Army to desc...</td>\n",
              "      <td>FAKE</td>\n",
              "    </tr>\n",
              "    <tr>\n",
              "      <th>51231</th>\n",
              "      <td>CIA chief says U.S.-Canadian couple held for f...</td>\n",
              "      <td>WASHINGTON (Reuters) - The head of the CIA sai...</td>\n",
              "      <td>REAL</td>\n",
              "    </tr>\n",
              "    <tr>\n",
              "      <th>51232</th>\n",
              "      <td>A Restaurant Worker Has Moved Millions With T...</td>\n",
              "      <td>Footage of a Georgia restaurant worker taking ...</td>\n",
              "      <td>FAKE</td>\n",
              "    </tr>\n",
              "  </tbody>\n",
              "</table>\n",
              "</div>"
            ],
            "text/plain": [
              "                                                   title  ... label\n",
              "51228  Delay seen, again, on Trump growth agenda afte...  ...  REAL\n",
              "51229  Russia may send more Iskander missiles to Kali...  ...  REAL\n",
              "51230  MISSISSIPPI Gov Signs “Confederate Heritage Mo...  ...  FAKE\n",
              "51231  CIA chief says U.S.-Canadian couple held for f...  ...  REAL\n",
              "51232   A Restaurant Worker Has Moved Millions With T...  ...  FAKE\n",
              "\n",
              "[5 rows x 3 columns]"
            ]
          },
          "metadata": {
            "tags": []
          },
          "execution_count": 189
        }
      ]
    },
    {
      "cell_type": "markdown",
      "metadata": {
        "id": "BRVFNlQWfk_r",
        "colab_type": "text"
      },
      "source": [
        "# **Analyzing Dataset**\n",
        "\n",
        "\n",
        "*   Determining the Labels(outputs) and Inputs\n",
        "\n"
      ]
    },
    {
      "cell_type": "code",
      "metadata": {
        "id": "0ZZ3UQvfhQ9G",
        "colab_type": "code",
        "colab": {
          "base_uri": "https://localhost:8080/",
          "height": 0
        },
        "outputId": "0421a9bf-4015-438e-dfc3-7a923d0f567d"
      },
      "source": [
        "# Outputs or Labels\n",
        "labels = dataset.label;\n",
        "print(labels)\n",
        "\n",
        "# Sample Data\n",
        "df = dataset['text']\n",
        "df"
      ],
      "execution_count": 190,
      "outputs": [
        {
          "output_type": "stream",
          "text": [
            "0        REAL\n",
            "1        FAKE\n",
            "2        REAL\n",
            "3        FAKE\n",
            "4        FAKE\n",
            "         ... \n",
            "51228    REAL\n",
            "51229    REAL\n",
            "51230    FAKE\n",
            "51231    REAL\n",
            "51232    FAKE\n",
            "Name: label, Length: 51233, dtype: object\n"
          ],
          "name": "stdout"
        },
        {
          "output_type": "execute_result",
          "data": {
            "text/plain": [
              "0        MOSCOW (Reuters) - A foreign policy adviser to...\n",
              "1        What is the price of one s dignity? Florida Se...\n",
              "2        UNITED NATIONS (Reuters) - French President Em...\n",
              "3        The new cold war between Saudi Arabia and Iran...\n",
              "4        Months into his presidency, Donald Trump seems...\n",
              "                               ...                        \n",
              "51228    NEW YORK (Reuters) - Not even a week after the...\n",
              "51229    MOSCOW (Reuters) - Russia may send more Iskand...\n",
              "51230    How long will it take for Obama s Army to desc...\n",
              "51231    WASHINGTON (Reuters) - The head of the CIA sai...\n",
              "51232    Footage of a Georgia restaurant worker taking ...\n",
              "Name: text, Length: 51233, dtype: object"
            ]
          },
          "metadata": {
            "tags": []
          },
          "execution_count": 190
        }
      ]
    },
    {
      "cell_type": "markdown",
      "metadata": {
        "id": "S4zs3liWjDny",
        "colab_type": "text"
      },
      "source": [
        "# **Splitting the dataset**\n",
        "\n",
        "*   Split the dataset into training and testing sets."
      ]
    },
    {
      "cell_type": "code",
      "metadata": {
        "id": "iw7uv66nj-pv",
        "colab_type": "code",
        "colab": {
          "base_uri": "https://localhost:8080/",
          "height": 622
        },
        "outputId": "d9f12d35-a363-4e41-e338-c5a796389410"
      },
      "source": [
        "# Split Dataset with a 8:2 ratio for training and testing\n",
        "#         sampple data:: the 'text' column only.\n",
        "x_train,x_test,y_train,y_test = train_test_split(df, labels, test_size=0.2, \n",
        "                                                 random_state=7)\n",
        "print(x_train)\n",
        "print(y_train)\n",
        "\n",
        "print(x_test)"
      ],
      "execution_count": 191,
      "outputs": [
        {
          "output_type": "stream",
          "text": [
            "6890     Tuesday night was an amazing night for Hillary...\n",
            "45936    VIENTIANE (Reuters) - U.S. President Barack Ob...\n",
            "22230    The New York Daily News, once again, has knock...\n",
            "40082    WARSAW (Reuters) - Poland s political establis...\n",
            "42905    DES MOINES (Reuters) - An influential conserva...\n",
            "                               ...                        \n",
            "13927     It s easy to blame the  White man that way, y...\n",
            "919      Hillary emails 'whitelisted' for Obama's Black...\n",
            "38467    Meryl Streep has certainly proven herself capa...\n",
            "10742    How can we expect our kids to do their homewor...\n",
            "49689    TALLINN (Reuters) - A physical border between ...\n",
            "Name: text, Length: 40986, dtype: object\n",
            "6890     REAL\n",
            "45936    REAL\n",
            "22230    FAKE\n",
            "40082    REAL\n",
            "42905    REAL\n",
            "         ... \n",
            "13927    FAKE\n",
            "919      FAKE\n",
            "38467    FAKE\n",
            "10742    FAKE\n",
            "49689    REAL\n",
            "Name: label, Length: 40986, dtype: object\n",
            "23499    DNC chairman Tom Perez decided to create his o...\n",
            "5965     The 2017 Christmas decorations were unveiled i...\n",
            "47211    UFO over the East Valley here in AZ last night...\n",
            "25930    Is it possible the curtain has been pulled bac...\n",
            "20885    Alert! Alinsky tactics at work here! Remember ...\n",
            "                               ...                        \n",
            "28054    Fox News is collapsing like a house of cards a...\n",
            "12110    In the late 1970 s, Alabama Senate Candidate R...\n",
            "36322    WASHINGTON/AMMAN (Reuters) - A Pentagon-backed...\n",
            "44194    These images were all taken from a Facebook pa...\n",
            "44946    The people insisting the only thing standing i...\n",
            "Name: text, Length: 10247, dtype: object\n"
          ],
          "name": "stdout"
        }
      ]
    },
    {
      "cell_type": "markdown",
      "metadata": {
        "id": "__6XR0KevMfv",
        "colab_type": "text"
      },
      "source": [
        "# **Dataset Preprocessing using a TfidfVectorizer**\n",
        "\n",
        "Let’s initialize a ***TfidfVectorizer*** with stop words from the English language and a maximum document frequency of 0.7 (terms with a higher document frequency will be discarded). Stop words are the most common words in a language that are to be filtered out before processing the natural language data. And a *TfidfVectorizer* turns a collection of raw documents into a matrix of TF-IDF features.\n",
        "\n",
        "*  **TF (Term Frequency)**: The number of times a word appears in a document is its Term Frequency. A higher value means a term appears more often than others, and so, the document is a good match when the term is part of the search terms.\n",
        "*  **IDF (Inverse Document Frequency):** Words that occur many times a document, but also occur many times in many others, may be irrelevant. IDF is a measure of how significant a term is in the entire corpus."
      ]
    },
    {
      "cell_type": "code",
      "metadata": {
        "id": "fHnwFNFixhag",
        "colab_type": "code",
        "colab": {
          "base_uri": "https://localhost:8080/",
          "height": 874
        },
        "outputId": "b11fb013-e498-4daa-e12d-9b5905837ae7"
      },
      "source": [
        "# Initialize a TfidfVectorizer\n",
        "tfidf_vectorizer = TfidfVectorizer(stop_words='english', max_df=0.7)\n",
        "\n",
        "# Fit and transform train set, transform test set\n",
        "tfidf_train = tfidf_vectorizer.fit_transform(x_train) \n",
        "tfidf_test = tfidf_vectorizer.transform(x_test)\n",
        "\n",
        "print(tfidf_test)"
      ],
      "execution_count": 192,
      "outputs": [
        {
          "output_type": "stream",
          "text": [
            "  (0, 127126)\t0.022785656683275406\n",
            "  (0, 126770)\t0.0088420451919739\n",
            "  (0, 126758)\t0.008060561306130799\n",
            "  (0, 126179)\t0.025724099664981317\n",
            "  (0, 125817)\t0.026082879664733046\n",
            "  (0, 125781)\t0.02030936992467132\n",
            "  (0, 125485)\t0.014547088844916543\n",
            "  (0, 125338)\t0.02352721414760721\n",
            "  (0, 125009)\t0.022685066505790677\n",
            "  (0, 124990)\t0.022629842403675052\n",
            "  (0, 124844)\t0.01816963826280986\n",
            "  (0, 124825)\t0.0971721919818816\n",
            "  (0, 124734)\t0.012497075444089213\n",
            "  (0, 124061)\t0.04118687036132699\n",
            "  (0, 123900)\t0.012195467951334752\n",
            "  (0, 123010)\t0.011478602470612278\n",
            "  (0, 122988)\t0.013737012089380154\n",
            "  (0, 122987)\t0.010157986318961422\n",
            "  (0, 122352)\t0.014875616519821139\n",
            "  (0, 122339)\t0.11623578421279201\n",
            "  (0, 122338)\t0.02505589940714007\n",
            "  (0, 122322)\t0.2285602427722418\n",
            "  (0, 122291)\t0.05624917917007843\n",
            "  (0, 121868)\t0.01593196530967173\n",
            "  (0, 121376)\t0.01688413404473968\n",
            "  :\t:\n",
            "  (10246, 21612)\t0.06939380228064931\n",
            "  (10246, 21604)\t0.05293669136567219\n",
            "  (10246, 21098)\t0.04916055240521542\n",
            "  (10246, 20081)\t0.050881995623222105\n",
            "  (10246, 18318)\t0.035009052257354595\n",
            "  (10246, 17539)\t0.04562303872638091\n",
            "  (10246, 17513)\t0.046453970177457525\n",
            "  (10246, 16796)\t0.06799720763351749\n",
            "  (10246, 16111)\t0.052503395706924194\n",
            "  (10246, 15237)\t0.13590571085054584\n",
            "  (10246, 13782)\t0.07476498950152226\n",
            "  (10246, 13672)\t0.048403140400391204\n",
            "  (10246, 13490)\t0.055021546508342796\n",
            "  (10246, 12776)\t0.05505522170863227\n",
            "  (10246, 12580)\t0.06911467069693261\n",
            "  (10246, 12509)\t0.0436782577052131\n",
            "  (10246, 12427)\t0.05655597804628963\n",
            "  (10246, 12059)\t0.06351314771637293\n",
            "  (10246, 9765)\t0.08082809441772541\n",
            "  (10246, 9570)\t0.051042709532072066\n",
            "  (10246, 9337)\t0.14787612131677183\n",
            "  (10246, 9265)\t0.04059813110768443\n",
            "  (10246, 5913)\t0.0410995676477463\n",
            "  (10246, 4232)\t0.07100178049941315\n",
            "  (10246, 2082)\t0.058666769425089256\n"
          ],
          "name": "stdout"
        }
      ]
    },
    {
      "cell_type": "markdown",
      "metadata": {
        "id": "eXaW5IEN3qtz",
        "colab_type": "text"
      },
      "source": [
        "# **Learning Model Selection**\n",
        "\n",
        "Choose a Learning Model, Methodology or Schema for training the dataset.\n",
        "\n",
        "Here, as it's a classification problem, we are using a ***PassiveAggressiveClassifier*** due to the fact that we have vectorized the sample data during the preprocessing step using a *TfidfVectorizer*.\n",
        "\n",
        "For explaination purpose, **Passive Aggressive algorithms** are online learning algorithms. Such an algorithm remains passive for a correct classification outcome, and turns aggressive in the event of a miscalculation, updating and adjusting. Unlike most other algorithms, it does not converge. Its purpose is to make updates that correct the loss, causing very little change in the norm of the weight vector.\n"
      ]
    },
    {
      "cell_type": "code",
      "metadata": {
        "id": "beJfbKbToOlv",
        "colab_type": "code",
        "colab": {
          "base_uri": "https://localhost:8080/",
          "height": 118
        },
        "outputId": "94db3f6a-164c-45cc-d8d0-3bfa873d2682"
      },
      "source": [
        "# Initialize a PassiveAggressiveClassifier\n",
        "model = PassiveAggressiveClassifier(max_iter=50)\n",
        "model"
      ],
      "execution_count": 193,
      "outputs": [
        {
          "output_type": "execute_result",
          "data": {
            "text/plain": [
              "PassiveAggressiveClassifier(C=1.0, average=False, class_weight=None,\n",
              "                            early_stopping=False, fit_intercept=True,\n",
              "                            loss='hinge', max_iter=50, n_iter_no_change=5,\n",
              "                            n_jobs=None, random_state=None, shuffle=True,\n",
              "                            tol=0.001, validation_fraction=0.1, verbose=0,\n",
              "                            warm_start=False)"
            ]
          },
          "metadata": {
            "tags": []
          },
          "execution_count": 193
        }
      ]
    },
    {
      "cell_type": "markdown",
      "metadata": {
        "id": "qUrGSRHm7wwf",
        "colab_type": "text"
      },
      "source": [
        "# **Fitting the Model and Predicting its outcomes.**\n",
        "\n",
        "Here we will fit the model with the trained vectorized sample data from ```tfidf_train``` of the **TfidfVectorizer** and the ```y_train``` of the initial sample data."
      ]
    },
    {
      "cell_type": "code",
      "metadata": {
        "id": "kf8T-xIt73Rs",
        "colab_type": "code",
        "colab": {
          "base_uri": "https://localhost:8080/",
          "height": 67
        },
        "outputId": "97aeb1fc-6ac5-4aa3-fcda-9767a8127c7e"
      },
      "source": [
        "# Fitting the Model with the tfidf_train & y_train.\n",
        "t0 = time()\n",
        "history = model.fit(tfidf_train,y_train)\n",
        "train_time = time() - t0\n",
        "\n",
        "\n",
        "# Predict on the test set tfidf_test from the TfidfVectorizer\n",
        "t0 = time()\n",
        "y_pred = model.predict(tfidf_test)\n",
        "test_time = time() - t0\n",
        "print('Predicted Outcomes -->', y_pred, y_pred.shape)\n",
        "\n",
        "#           and \n",
        "\n",
        "# Calculate the accuracy with accuracy_score()\n",
        "score = accuracy_score(y_test,y_pred)\n",
        "# score = model.score(tfidf_test,y_pred)\n",
        "print(f'\\nModel-Accuracy: {round(score*100,2)}%')"
      ],
      "execution_count": 194,
      "outputs": [
        {
          "output_type": "stream",
          "text": [
            "Predicted Outcomes --> ['FAKE' 'FAKE' 'FAKE' ... 'REAL' 'FAKE' 'FAKE'] (10247,)\n",
            "\n",
            "Model-Accuracy: 97.52%\n"
          ],
          "name": "stdout"
        }
      ]
    },
    {
      "cell_type": "markdown",
      "metadata": {
        "id": "K5Bgu9cIwEiO",
        "colab_type": "text"
      },
      "source": [
        "# **Report and Visualization on the selected Model**\n",
        "\n",
        "From the Previous Step, after training and testing the model using *PassiveAggressiveClassifier* we got an *accuracy* of more than **97%** on the testing sample.\n",
        "\n",
        "For more insights, we will print out the **confusion matrix** to view the number of false and true negatives and positives.\n",
        "\n",
        "We will also print out the **heat map** generated from the confusion matrix.\n"
      ]
    },
    {
      "cell_type": "code",
      "metadata": {
        "id": "3zpDS9QBzHLG",
        "colab_type": "code",
        "colab": {
          "base_uri": "https://localhost:8080/",
          "height": 622
        },
        "outputId": "b09dc06e-7d85-474a-8480-e7986f70923e"
      },
      "source": [
        "# Model Report\n",
        "report = classification_report(y_test,y_pred, labels=['FAKE','REAL'])\n",
        "\n",
        "print('----------------=====Model Report=====----------------\\n')\n",
        "print(report)\n",
        "print('------------------------------------------------------\\n')\n",
        "\n",
        "\n",
        "# Confusion-Matrix\n",
        "conf_mat = confusion_matrix(y_test,y_pred, labels=['FAKE','REAL'])\n",
        "\n",
        "print('::Confusion-Matrix::')\n",
        "print('',conf_mat)\n",
        "print('------------------------------------------------------\\n')\n",
        "\n",
        "\n",
        "# Model Precision: what percentage of positive tuples are labeled as such?\n",
        "print(\"Precision: \\t%.2f\\n\" % metrics.precision_score(y_test, y_pred, average='weighted'))\n",
        "\n",
        "# Model Recall: what percentage of positive tuples are labelled as such?\n",
        "print(\"Recall: \\t%.2f\\n\" % metrics.recall_score(y_test, y_pred, average='weighted'))\n",
        "\n",
        "print(\"Density: \\t%f\\n\" % density(model.coef_))\n",
        "\n",
        "print(\"Dimensionality: %d\\n\" % model.coef_.shape[1])\n",
        "\n",
        "print(\"Train Time: \\t%.3fs\\n\" % train_time)\n",
        "\n",
        "print(\"Test Time:  \\t%.3fs\\n\" % test_time)\n",
        "\n",
        "print('------------------------------------------------------\\n')\n",
        "\n",
        "print(f'Accuracy Score: {round(score*100,2)}%\\n')\n",
        "\n",
        "print('------------------------------------------------------\\n')\n"
      ],
      "execution_count": 202,
      "outputs": [
        {
          "output_type": "stream",
          "text": [
            "----------------=====Model Report=====----------------\n",
            "\n",
            "              precision    recall  f1-score   support\n",
            "\n",
            "        FAKE       0.97      0.98      0.98      5351\n",
            "        REAL       0.98      0.97      0.97      4896\n",
            "\n",
            "    accuracy                           0.98     10247\n",
            "   macro avg       0.98      0.97      0.98     10247\n",
            "weighted avg       0.98      0.98      0.98     10247\n",
            "\n",
            "------------------------------------------------------\n",
            "\n",
            "::Confusion-Matrix::\n",
            " [[5245  106]\n",
            " [ 148 4748]]\n",
            "------------------------------------------------------\n",
            "\n",
            "Precision: \t0.98\n",
            "\n",
            "Recall: \t0.98\n",
            "\n",
            "Density: \t0.608092\n",
            "\n",
            "Dimensionality: 128890\n",
            "\n",
            "Train Time: \t0.719s\n",
            "\n",
            "Test Time:  \t0.009s\n",
            "\n",
            "------------------------------------------------------\n",
            "\n",
            "Accuracy Score: 97.52%\n",
            "\n",
            "------------------------------------------------------\n",
            "\n"
          ],
          "name": "stdout"
        }
      ]
    },
    {
      "cell_type": "code",
      "metadata": {
        "id": "v6LwIFCY2MM-",
        "colab_type": "code",
        "colab": {
          "base_uri": "https://localhost:8080/",
          "height": 390
        },
        "outputId": "5161749a-2c96-4e4a-da1a-e42390dc92ec"
      },
      "source": [
        "# Visualization of confusion-matrix with a heat-map\n",
        "fig = plt.figure(figsize=(10,6))\n",
        "plt.title('Confusion Matrix')\n",
        "plt.xlabel('Predicted Label')\n",
        "plt.ylabel('True Label')\n",
        "\n",
        "sns.heatmap(conf_mat, annot=True, cmap=plt.cm.ocean_r,\n",
        "            xticklabels=['FAKE','REAL'], \n",
        "            yticklabels=['FAKE','REAL'])\n",
        "plt.show()\n"
      ],
      "execution_count": 196,
      "outputs": [
        {
          "output_type": "display_data",
          "data": {
            "image/png": "[encoded data removed]",
            "text/plain": [
              "<Figure size 720x432 with 2 Axes>"
            ]
          },
          "metadata": {
            "tags": [],
            "needs_background": "light"
          }
        }
      ]
    },
    {
      "cell_type": "code",
      "metadata": {
        "id": "gCslKXXqfy98",
        "colab_type": "code",
        "colab": {
          "base_uri": "https://localhost:8080/",
          "height": 499
        },
        "outputId": "0063c42d-d79c-4285-ca73-770ceae2d659"
      },
      "source": [
        "indices = np.arange(1)\n",
        "plt.figure(figsize=(12, 8))\n",
        "plt.title(\"Score\")\n",
        "plt.barh(indices, score, .2, label=\"score\", color='navy')\n",
        "plt.barh(indices + .3, train_time, .2, label=\"training time\",\n",
        "         color='c')\n",
        "plt.barh(indices + .6, test_time, .2, label=\"test time\", color='darkorange')\n",
        "plt.yticks(())\n",
        "plt.legend(loc='best')\n",
        "plt.text(-.4, indices[0], 'Passive-Aggressive Classifier')\n",
        "plt.show()"
      ],
      "execution_count": 197,
      "outputs": [
        {
          "output_type": "display_data",
          "data": {
            "image/png": "[encoded data removed]",
            "text/plain": [
              "<Figure size 864x576 with 1 Axes>"
            ]
          },
          "metadata": {
            "tags": [],
            "needs_background": "light"
          }
        }
      ]
    },
    {
      "cell_type": "code",
      "metadata": {
        "id": "XEUo260eAVdk",
        "colab_type": "code",
        "colab": {
          "base_uri": "https://localhost:8080/",
          "height": 733
        },
        "outputId": "6c46382f-e5e6-40ee-e691-e96102df26c9"
      },
      "source": [
        "# Converting numpyarray to list\n",
        "results = list()\n",
        "for line in conf_mat:\n",
        "  results.append([data for data in line])\n",
        "print(type(results), results)\n",
        "\n",
        "# visualize the results\n",
        "nclass_classification_mosaic_plot(len(results), results)"
      ],
      "execution_count": 198,
      "outputs": [
        {
          "output_type": "stream",
          "text": [
            "<class 'list'> [[5245, 106], [148, 4748]]\n"
          ],
          "name": "stdout"
        },
        {
          "output_type": "display_data",
          "data": {
            "image/png": "[encoded data removed]",
            "text/plain": [
              "<Figure size 792x720 with 3 Axes>"
            ]
          },
          "metadata": {
            "tags": [],
            "needs_background": "light"
          }
        }
      ]
    },
    {
      "cell_type": "markdown",
      "metadata": {
        "id": "owAHAr46g7WP",
        "colab_type": "text"
      },
      "source": [
        "# **Testing The Model with user input**"
      ]
    },
    {
      "cell_type": "code",
      "metadata": {
        "id": "3XE_Ef7xhmqz",
        "colab_type": "code",
        "cellView": "both",
        "colab": {
          "base_uri": "https://localhost:8080/",
          "height": 70
        },
        "outputId": "79c6464a-0232-41f0-cd33-d454afd62c8b"
      },
      "source": [
        "text_data = \"In recent weeks, Microsoft has detected cyberattacks targeting people and organizations involved in the upcoming presidential election, including unsuccessful attacks on people associated with both the Trump and Biden campaigns, as detailed below. We have and will continue to defend our democracy against these attacks through notifications of such activity to impacted customers, security features in our products and services, and legal and technical disruptions. The activity we are announcing today makes clear that foreign activity groups have stepped up their efforts targeting the 2020 election as had been anticipated, and is consistent with what the U.S. government and others have reported. We also report here on attacks against other institutions and enterprises worldwide that reflect similar adversary activity.\" #@param {type:\"raw\"}\n",
        "print(text_data)\n",
        "x = [text_data,]\n",
        "\n",
        "tfidf_test = tfidf_vectorizer.transform(x)\n",
        "\n",
        "pred = model.predict(tfidf_test)\n",
        "\n",
        "pred\n",
        "\n",
        "print('This news is', pred[0])\n"
      ],
      "execution_count": 199,
      "outputs": [
        {
          "output_type": "stream",
          "text": [
            "In recent weeks, Microsoft has detected cyberattacks targeting people and organizations involved in the upcoming presidential election, including unsuccessful attacks on people associated with both the Trump and Biden campaigns, as detailed below. We have and will continue to defend our democracy against these attacks through notifications of such activity to impacted customers, security features in our products and services, and legal and technical disruptions. The activity we are announcing today makes clear that foreign activity groups have stepped up their efforts targeting the 2020 election as had been anticipated, and is consistent with what the U.S. government and others have reported. We also report here on attacks against other institutions and enterprises worldwide that reflect similar adversary activity.\n",
            "This news is REAL\n"
          ],
          "name": "stdout"
        }
      ]
    }
  ]
}