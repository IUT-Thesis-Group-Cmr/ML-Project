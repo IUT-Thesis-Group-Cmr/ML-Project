{
  "nbformat": 4,
  "nbformat_minor": 0,
  "metadata": {
    "colab": {
      "name": "ML-Project--Fake-News-Detector.ipynb",
      "provenance": [],
      "collapsed_sections": [
        "BRVFNlQWfk_r"
      ],
      "mount_file_id": "1V7rlRWzwdjsGIOIKrdyVI3S_qT5W515v",
      "authorship_tag": "ABX9TyOV6a5m5VOQzgfS58nQvx00",
      "include_colab_link": true
    },
    "kernelspec": {
      "name": "python3",
      "display_name": "Python 3"
    }
  },
  "cells": [
    {
      "cell_type": "markdown",
      "metadata": {
        "id": "view-in-github",
        "colab_type": "text"
      },
      "source": [
        "<a href=\"https://colab.research.google.com/github/IUT-Thesis-Group-Cmr/ML-Project/blob/master/ML_Project_Fake_News_Detector.ipynb\" target=\"_parent\"><img src=\"https://colab.research.google.com/assets/colab-badge.svg\" alt=\"Open In Colab\"/></a>"
      ]
    },
    {
      "cell_type": "markdown",
      "metadata": {
        "id": "GmhGmFH7-3R4"
      },
      "source": [
        "# **Initialization tweaks**\n",
        "* Initiating GoogleDrive mounting\n",
        "* Necessary Library's imports\n",
        "* Load Dataset [**Optional**]\n"
      ]
    },
    {
      "cell_type": "code",
      "metadata": {
        "id": "CYXk4whjzlHg",
        "colab": {
          "base_uri": "https://localhost:8080/"
        },
        "outputId": "71dd52b5-bd88-47bb-e692-3cc33bbf265a"
      },
      "source": [
        "#-Google Drive Access-Granting\n",
        "from google.colab import drive\n",
        "drive.mount('/content/drive')"
      ],
      "execution_count": 1,
      "outputs": [
        {
          "output_type": "stream",
          "text": [
            "Drive already mounted at /content/drive; to attempt to forcibly remount, call drive.mount(\"/content/drive\", force_remount=True).\n"
          ],
          "name": "stdout"
        }
      ]
    },
    {
      "cell_type": "code",
      "metadata": {
        "id": "5w4sSeGUL41N",
        "colab": {
          "base_uri": "https://localhost:8080/"
        },
        "outputId": "a6b3672b-a1d8-4b2e-fa0f-ebc778388d4e"
      },
      "source": [
        "# files paths\n",
        "path = '/content/drive/My Drive/ThesisFile/datasets/ml-project/fake_real-news-dataset/'\n",
        "if path[-1] != '/':\n",
        "  path += '/'\n",
        "print('Good to go ✔')"
      ],
      "execution_count": 2,
      "outputs": [
        {
          "output_type": "stream",
          "text": [
            "Good to go ✔\n"
          ],
          "name": "stdout"
        }
      ]
    },
    {
      "cell_type": "code",
      "metadata": {
        "id": "6by1JrAb0YXY",
        "colab": {
          "base_uri": "https://localhost:8080/"
        },
        "outputId": "f35c072b-b8c2-45a4-c25b-00e7d09bb4d8"
      },
      "source": [
        "#-Library imports\n",
        "import pandas as pd\n",
        "import matplotlib\n",
        "import matplotlib.pyplot as plt\n",
        "import numpy as np\n",
        "import statistics\n",
        "import math \n",
        "import nltk\n",
        "import string\n",
        "from time import time\n",
        "import seaborn as sns\n",
        "from sklearn import preprocessing\n",
        "from sklearn import linear_model\n",
        "from sklearn import svm\n",
        "from sklearn import metrics\n",
        "from sklearn.utils import validation\n",
        "from sklearn.utils.extmath import density\n",
        "from sklearn.cluster import KMeans\n",
        "from sklearn.cluster import KMeans\n",
        "from sklearn.feature_extraction.text import TfidfVectorizer\n",
        "from sklearn.model_selection import train_test_split\n",
        "from sklearn.model_selection import KFold\n",
        "from sklearn.model_selection import StratifiedKFold\n",
        "from sklearn.model_selection import cross_val_score\n",
        "from sklearn.model_selection import cross_validate\n",
        "from sklearn.model_selection import GridSearchCV\n",
        "from sklearn.linear_model import LinearRegression, PassiveAggressiveClassifier\n",
        "from sklearn.decomposition import PCA\n",
        "from sklearn.preprocessing import normalize\n",
        "from sklearn.preprocessing import MinMaxScaler\n",
        "from sklearn.metrics import accuracy_score, pairwise_distances, mean_absolute_error, classification_report, confusion_matrix\n",
        "from sklearn.metrics import roc_curve, auc\n",
        "from sklearn.neighbors import KNeighborsClassifier\n",
        "from sklearn.datasets import make_blobs\n",
        "#Import Gaussian Naive Bayes model\n",
        "from sklearn.naive_bayes import GaussianNB\n",
        "from seaborn import heatmap\n",
        "from math import exp\n",
        "from random import randint, seed\n",
        "import itertools\n",
        "from statsmodels.graphics.mosaicplot import mosaic\n",
        "from matplotlib.patches import Patch\n",
        "from collections import deque\n",
        "\n",
        "%matplotlib inline"
      ],
      "execution_count": 3,
      "outputs": [
        {
          "output_type": "stream",
          "text": [
            "/usr/local/lib/python3.6/dist-packages/statsmodels/tools/_testing.py:19: FutureWarning: pandas.util.testing is deprecated. Use the functions in the public API at pandas.testing instead.\n",
            "  import pandas.util.testing as tm\n"
          ],
          "name": "stderr"
        }
      ]
    },
    {
      "cell_type": "code",
      "metadata": {
        "id": "RciTrIB5_wfa"
      },
      "source": [
        "def nclass_classification_mosaic_plot(n_classes, results):\n",
        "    \"\"\"\n",
        "    build a mosaic plot from the results of a classification\n",
        "    \n",
        "    parameters:\n",
        "    n_classes: number of classes\n",
        "    results: results of the prediction in form of an array of arrays\n",
        "    \n",
        "    In case of 3 classes the prdiction could look like\n",
        "    [[10, 2, 4],\n",
        "     [1, 12, 3],\n",
        "     [2, 2, 9]\n",
        "    ]\n",
        "    where there is one array for each class and each array holds the\n",
        "    predictions for each class [class 1, class 2, class 3].\n",
        "    \n",
        "    This is just a prototype including colors for 6 classes.\n",
        "    \"\"\"\n",
        "    class_lists = [range(n_classes)]*2\n",
        "    mosaic_tuples = tuple(itertools.product(*class_lists))\n",
        "    \n",
        "    res_list = results[0]\n",
        "    for i, l in enumerate(results):\n",
        "        if i == 0:\n",
        "            pass\n",
        "        else:\n",
        "            tmp = deque(l)\n",
        "            tmp.rotate(-i)\n",
        "            res_list.extend(tmp)\n",
        "    data = {t:res_list[i] for i,t in enumerate(mosaic_tuples)}\n",
        "\n",
        "    fig, ax = plt.subplots(figsize=(11, 10))\n",
        "    plt.rcParams.update({'font.size': 16})\n",
        "\n",
        "    font_color = '#2c3e50'\n",
        "    pallet = [\n",
        "        '#6a89cc', \n",
        "        '#4a69bd', \n",
        "        '#1e3799', \n",
        "        '#0c2461',\n",
        "        '#82ccdd',\n",
        "        '#60a3bc',\n",
        "    ]\n",
        "    colors = deque(pallet[:n_classes])\n",
        "    all_colors = []\n",
        "    for i in range(n_classes):\n",
        "        if i > 0:\n",
        "            colors.rotate(-1)\n",
        "        all_colors.extend(colors)\n",
        "\n",
        "    props = {(str(a), str(b)):{'color':all_colors[i]} for i,(a, b) in enumerate(mosaic_tuples)}\n",
        "\n",
        "    labelizer = lambda k: ''\n",
        "\n",
        "    p = mosaic(data, labelizer=labelizer, properties=props, ax=ax)\n",
        "\n",
        "    title_font_dict = {\n",
        "        'fontsize': 20,\n",
        "        'color' : font_color,\n",
        "    }\n",
        "    axis_label_font_dict = {\n",
        "        'fontsize': 16,\n",
        "        'color' : font_color,\n",
        "    }\n",
        "\n",
        "    ax.tick_params(axis = \"x\", which = \"both\", bottom = False, top = False)\n",
        "    ax.axes.yaxis.set_ticks([])\n",
        "    ax.tick_params(axis='x', which='major', labelsize=14)\n",
        "\n",
        "    ax.set_title('Classification Report', fontdict=title_font_dict, pad=25)\n",
        "    ax.set_xlabel('Observed Class', fontdict=axis_label_font_dict, labelpad=10)\n",
        "    ax.set_ylabel('Predicted Class', fontdict=axis_label_font_dict, labelpad=35)\n",
        "\n",
        "    legend_elements = [Patch(facecolor=all_colors[i], label='Class {}'.format(i)) for i in range(n_classes)]\n",
        "    ax.legend(handles=legend_elements, bbox_to_anchor=(1,1.018), fontsize=16)\n",
        "\n",
        "    plt.tight_layout()\n",
        "    plt.show()"
      ],
      "execution_count": 4,
      "outputs": []
    },
    {
      "cell_type": "code",
      "metadata": {
        "id": "1r6F4B-BbzgI",
        "colab": {
          "base_uri": "https://localhost:8080/",
          "height": 1000
        },
        "outputId": "a537f354-3647-46fb-ce78-766152363c80"
      },
      "source": [
        "# Loading Dataset\n",
        "file0 = 'news.csv'\n",
        "file1 = 'Fake.csv'\n",
        "file2 = 'True.csv'\n",
        "\n",
        "df0 = pd.read_csv(path + file0)\n",
        "df1 = pd.read_csv(path + file1)\n",
        "df2 = pd.read_csv(path + file2)\n",
        "\n",
        "print(df0.columns, df0, sep='\\n', end='\\n\\n')\n",
        "print(df1.columns, df1, sep='\\n', end='\\n\\n')\n",
        "print(df2.columns, df2, sep='\\n', end='\\n\\n')\n",
        "\n",
        "df1['label'] = 'FAKE'\n",
        "df2['label'] = 'REAL'\n",
        "\n",
        "dataset = pd.concat([df0[['title','text','label']] , df1[['title','text','label']] , df2[['title','text','label']]], ignore_index=True)\n",
        "\n",
        "dataset = dataset.sample(frac=1).reset_index(drop=True)\n",
        "print(dataset.columns, dataset.shape)\n",
        "dataset.tail()\n",
        "\n",
        "# print('Dataset Attributes::', dataset.columns)\n",
        "# print('Dataset Dim::', dataset.shape)\n",
        "# print(dataset.head())\n",
        "# print('\\nData Output::\\n', dataset.label)"
      ],
      "execution_count": 5,
      "outputs": [
        {
          "output_type": "stream",
          "text": [
            "Index(['Unnamed: 0', 'title', 'text', 'label'], dtype='object')\n",
            "      Unnamed: 0  ... label\n",
            "0           8476  ...  FAKE\n",
            "1          10294  ...  FAKE\n",
            "2           3608  ...  REAL\n",
            "3          10142  ...  FAKE\n",
            "4            875  ...  REAL\n",
            "...          ...  ...   ...\n",
            "6330        4490  ...  REAL\n",
            "6331        8062  ...  FAKE\n",
            "6332        8622  ...  FAKE\n",
            "6333        4021  ...  REAL\n",
            "6334        4330  ...  REAL\n",
            "\n",
            "[6335 rows x 4 columns]\n",
            "\n",
            "Index(['title', 'text', 'subject', 'date'], dtype='object')\n",
            "                                                   title  ...               date\n",
            "0       Donald Trump Sends Out Embarrassing New Year’...  ...  December 31, 2017\n",
            "1       Drunk Bragging Trump Staffer Started Russian ...  ...  December 31, 2017\n",
            "2       Sheriff David Clarke Becomes An Internet Joke...  ...  December 30, 2017\n",
            "3       Trump Is So Obsessed He Even Has Obama’s Name...  ...  December 29, 2017\n",
            "4       Pope Francis Just Called Out Donald Trump Dur...  ...  December 25, 2017\n",
            "...                                                  ...  ...                ...\n",
            "23476  McPain: John McCain Furious That Iran Treated ...  ...   January 16, 2016\n",
            "23477  JUSTICE? Yahoo Settles E-mail Privacy Class-ac...  ...   January 16, 2016\n",
            "23478  Sunnistan: US and Allied ‘Safe Zone’ Plan to T...  ...   January 15, 2016\n",
            "23479  How to Blow $700 Million: Al Jazeera America F...  ...   January 14, 2016\n",
            "23480  10 U.S. Navy Sailors Held by Iranian Military ...  ...   January 12, 2016\n",
            "\n",
            "[23481 rows x 4 columns]\n",
            "\n",
            "Index(['title', 'text', 'subject', 'date'], dtype='object')\n",
            "                                                   title  ...                date\n",
            "0      As U.S. budget fight looms, Republicans flip t...  ...  December 31, 2017 \n",
            "1      U.S. military to accept transgender recruits o...  ...  December 29, 2017 \n",
            "2      Senior U.S. Republican senator: 'Let Mr. Muell...  ...  December 31, 2017 \n",
            "3      FBI Russia probe helped by Australian diplomat...  ...  December 30, 2017 \n",
            "4      Trump wants Postal Service to charge 'much mor...  ...  December 29, 2017 \n",
            "...                                                  ...  ...                 ...\n",
            "21412  'Fully committed' NATO backs new U.S. approach...  ...    August 22, 2017 \n",
            "21413  LexisNexis withdrew two products from Chinese ...  ...    August 22, 2017 \n",
            "21414  Minsk cultural hub becomes haven from authorities  ...    August 22, 2017 \n",
            "21415  Vatican upbeat on possibility of Pope Francis ...  ...    August 22, 2017 \n",
            "21416  Indonesia to buy $1.14 billion worth of Russia...  ...    August 22, 2017 \n",
            "\n",
            "[21417 rows x 4 columns]\n",
            "\n",
            "Index(['title', 'text', 'label'], dtype='object') (51233, 3)\n"
          ],
          "name": "stdout"
        },
        {
          "output_type": "execute_result",
          "data": {
            "text/html": [
              "<div>\n",
              "<style scoped>\n",
              "    .dataframe tbody tr th:only-of-type {\n",
              "        vertical-align: middle;\n",
              "    }\n",
              "\n",
              "    .dataframe tbody tr th {\n",
              "        vertical-align: top;\n",
              "    }\n",
              "\n",
              "    .dataframe thead th {\n",
              "        text-align: right;\n",
              "    }\n",
              "</style>\n",
              "<table border=\"1\" class=\"dataframe\">\n",
              "  <thead>\n",
              "    <tr style=\"text-align: right;\">\n",
              "      <th></th>\n",
              "      <th>title</th>\n",
              "      <th>text</th>\n",
              "      <th>label</th>\n",
              "    </tr>\n",
              "  </thead>\n",
              "  <tbody>\n",
              "    <tr>\n",
              "      <th>51228</th>\n",
              "      <td>Outgoing Czech government to submit resignatio...</td>\n",
              "      <td>PRAGUE (Reuters) - The outgoing Czech governme...</td>\n",
              "      <td>REAL</td>\n",
              "    </tr>\n",
              "    <tr>\n",
              "      <th>51229</th>\n",
              "      <td>BLACK TRUMP SUPPORTER Delivers Powerful Messag...</td>\n",
              "      <td>I m Not Ashamed To Say I m Voting For Donald ...</td>\n",
              "      <td>FAKE</td>\n",
              "    </tr>\n",
              "    <tr>\n",
              "      <th>51230</th>\n",
              "      <td>BRITISH WOMAN LOSES VIRGINITY To Asylum Seekin...</td>\n",
              "      <td>Europe is likely not going to be a top destina...</td>\n",
              "      <td>FAKE</td>\n",
              "    </tr>\n",
              "    <tr>\n",
              "      <th>51231</th>\n",
              "      <td>Can nuclear war break out on the Korean Penins...</td>\n",
              "      <td>Can nuclear war break out on the Korean Penins...</td>\n",
              "      <td>FAKE</td>\n",
              "    </tr>\n",
              "    <tr>\n",
              "      <th>51232</th>\n",
              "      <td>Heckler Crashes Ted Cruz Speech By Shouting ‘...</td>\n",
              "      <td>Hecklers at GOP rallies rarely disappoint   af...</td>\n",
              "      <td>FAKE</td>\n",
              "    </tr>\n",
              "  </tbody>\n",
              "</table>\n",
              "</div>"
            ],
            "text/plain": [
              "                                                   title  ... label\n",
              "51228  Outgoing Czech government to submit resignatio...  ...  REAL\n",
              "51229  BLACK TRUMP SUPPORTER Delivers Powerful Messag...  ...  FAKE\n",
              "51230  BRITISH WOMAN LOSES VIRGINITY To Asylum Seekin...  ...  FAKE\n",
              "51231  Can nuclear war break out on the Korean Penins...  ...  FAKE\n",
              "51232   Heckler Crashes Ted Cruz Speech By Shouting ‘...  ...  FAKE\n",
              "\n",
              "[5 rows x 3 columns]"
            ]
          },
          "metadata": {
            "tags": []
          },
          "execution_count": 5
        }
      ]
    },
    {
      "cell_type": "markdown",
      "metadata": {
        "id": "BRVFNlQWfk_r"
      },
      "source": [
        "# **Analyzing Dataset**\n",
        "\n",
        "\n",
        "*   Determining the Labels(outputs) and Inputs\n",
        "\n"
      ]
    },
    {
      "cell_type": "code",
      "metadata": {
        "id": "0ZZ3UQvfhQ9G",
        "colab": {
          "base_uri": "https://localhost:8080/"
        },
        "outputId": "b3add5aa-81a9-4a70-affe-4127366438f1"
      },
      "source": [
        "# Outputs or Labels\n",
        "labels = dataset.label;\n",
        "print(labels)\n",
        "\n",
        "# Sample Data\n",
        "df = dataset['text']\n",
        "df"
      ],
      "execution_count": 6,
      "outputs": [
        {
          "output_type": "stream",
          "text": [
            "0        REAL\n",
            "1        REAL\n",
            "2        REAL\n",
            "3        FAKE\n",
            "4        REAL\n",
            "         ... \n",
            "51228    REAL\n",
            "51229    FAKE\n",
            "51230    FAKE\n",
            "51231    FAKE\n",
            "51232    FAKE\n",
            "Name: label, Length: 51233, dtype: object\n"
          ],
          "name": "stdout"
        },
        {
          "output_type": "execute_result",
          "data": {
            "text/plain": [
              "0        WASHINGTON (Reuters) - Republican efforts to u...\n",
              "1        PARIS (Reuters) - The death toll from a collis...\n",
              "2        (Reuters) - U.S. President Donald Trump on Fri...\n",
              "3        Chuck Todd took Ted Cruz to the woodshed on Su...\n",
              "4        WASHINGTON — President Obama plans to name Mar...\n",
              "                               ...                        \n",
              "51228    PRAGUE (Reuters) - The outgoing Czech governme...\n",
              "51229     I m Not Ashamed To Say I m Voting For Donald ...\n",
              "51230    Europe is likely not going to be a top destina...\n",
              "51231    Can nuclear war break out on the Korean Penins...\n",
              "51232    Hecklers at GOP rallies rarely disappoint   af...\n",
              "Name: text, Length: 51233, dtype: object"
            ]
          },
          "metadata": {
            "tags": []
          },
          "execution_count": 6
        }
      ]
    },
    {
      "cell_type": "markdown",
      "metadata": {
        "id": "S4zs3liWjDny"
      },
      "source": [
        "# **Splitting the dataset**\n",
        "\n",
        "*   Split the dataset into training and testing sets."
      ]
    },
    {
      "cell_type": "code",
      "metadata": {
        "id": "iw7uv66nj-pv",
        "colab": {
          "base_uri": "https://localhost:8080/"
        },
        "outputId": "1324a479-2f96-4dc2-e57c-93c3c5e38156"
      },
      "source": [
        "# Split Dataset with a 8:2 ratio for training and testing\n",
        "#         sampple data:: the 'text' column only.\n",
        "x_train,x_test,y_train,y_test = train_test_split(df, labels, test_size=0.2, \n",
        "                                                 random_state=7)\n",
        "print(x_train)\n",
        "print(y_train)\n",
        "\n",
        "print(x_test)"
      ],
      "execution_count": 7,
      "outputs": [
        {
          "output_type": "stream",
          "text": [
            "6890     President Trump met for the first time with me...\n",
            "45936    On June 15, 2016, President Trump warned Ameri...\n",
            "22230    WASHINGTON (Reuters) - President Donald Trump ...\n",
            "40082    GENEVA (Reuters) - Yemen s capital Sanaa was q...\n",
            "42905    It is extremely important to vet the people we...\n",
            "                               ...                        \n",
            "13927    LONDON (Reuters) - Iran s continued detention ...\n",
            "919      WASHINGTON (Reuters) - White House chief of st...\n",
            "38467    In a hilarious development to the disturbing n...\n",
            "10742    by Yves Smith \\nYves here. It’s hardly a secre...\n",
            "49689    While Hillary doubles down on her false claim ...\n",
            "Name: text, Length: 40986, dtype: object\n",
            "6890     FAKE\n",
            "45936    FAKE\n",
            "22230    REAL\n",
            "40082    REAL\n",
            "42905    FAKE\n",
            "         ... \n",
            "13927    REAL\n",
            "919      REAL\n",
            "38467    FAKE\n",
            "10742    FAKE\n",
            "49689    FAKE\n",
            "Name: label, Length: 40986, dtype: object\n",
            "23499    Ten more hard core prisoners from GITMO have b...\n",
            "5965     WASHINGTON (Reuters) - Russia has tried to inf...\n",
            "47211    Ben Shapiro debates two students on when a bab...\n",
            "25930    When you see a Trump supporter parroting his b...\n",
            "20885    WASHINGTON (Reuters) - U.S. Director of Nation...\n",
            "                               ...                        \n",
            "28054    Only Making Matters Worse in Syria October 28,...\n",
            "12110    WASHINGTON (Reuters) - Former Trump campaign m...\n",
            "36322    Donald Trump really should have just apologize...\n",
            "44194    PALM BEACH, Fla. (Reuters) - Boeing Co Chief E...\n",
            "44946    ‘White smoke’ on EU-Canada trade deal breakthr...\n",
            "Name: text, Length: 10247, dtype: object\n"
          ],
          "name": "stdout"
        }
      ]
    },
    {
      "cell_type": "markdown",
      "metadata": {
        "id": "__6XR0KevMfv"
      },
      "source": [
        "# **Dataset Preprocessing using a TfidfVectorizer**\n",
        "\n",
        "Let’s initialize a ***TfidfVectorizer*** with stop words from the English language and a maximum document frequency of 0.7 (terms with a higher document frequency will be discarded). Stop words are the most common words in a language that are to be filtered out before processing the natural language data. And a *TfidfVectorizer* turns a collection of raw documents into a matrix of TF-IDF features.\n",
        "\n",
        "*  **TF (Term Frequency)**: The number of times a word appears in a document is its Term Frequency. A higher value means a term appears more often than others, and so, the document is a good match when the term is part of the search terms.\n",
        "*  **IDF (Inverse Document Frequency):** Words that occur many times a document, but also occur many times in many others, may be irrelevant. IDF is a measure of how significant a term is in the entire corpus."
      ]
    },
    {
      "cell_type": "code",
      "metadata": {
        "id": "fHnwFNFixhag",
        "colab": {
          "base_uri": "https://localhost:8080/"
        },
        "outputId": "f9fc2d5c-af2c-4b50-90af-8678a9b5fb30"
      },
      "source": [
        "# Initialize a TfidfVectorizer\n",
        "tfidf_vectorizer = TfidfVectorizer(stop_words='english', max_df=0.7)\n",
        "\n",
        "# Fit and transform train set, transform test set\n",
        "t0 = time()\n",
        "tfidf_train = tfidf_vectorizer.fit_transform(x_train) \n",
        "tfidf_test = tfidf_vectorizer.transform(x_test)\n",
        "preprocess_time = time() - t0\n",
        "print(tfidf_test)"
      ],
      "execution_count": 8,
      "outputs": [
        {
          "output_type": "stream",
          "text": [
            "  (0, 126657)\t0.10051236914055195\n",
            "  (0, 126579)\t0.03148288128654442\n",
            "  (0, 123507)\t0.036925524858949045\n",
            "  (0, 123254)\t0.06091044879349072\n",
            "  (0, 123210)\t0.07743226807155441\n",
            "  (0, 118164)\t0.08130108408997398\n",
            "  (0, 115871)\t0.09754610929051709\n",
            "  (0, 115869)\t0.09225374743989449\n",
            "  (0, 115864)\t0.1653697639091991\n",
            "  (0, 114494)\t0.030886420533737313\n",
            "  (0, 114252)\t0.08470878040815054\n",
            "  (0, 113141)\t0.06018445559047099\n",
            "  (0, 108881)\t0.06613591901375757\n",
            "  (0, 108542)\t0.04020234871775391\n",
            "  (0, 108518)\t0.06175777382684481\n",
            "  (0, 105764)\t0.09576740630752487\n",
            "  (0, 104540)\t0.10191596527799669\n",
            "  (0, 104152)\t0.10407493791380698\n",
            "  (0, 103133)\t0.047208047502848786\n",
            "  (0, 101181)\t0.038504551599911785\n",
            "  (0, 99517)\t0.09618334836188873\n",
            "  (0, 96883)\t0.0763082995703129\n",
            "  (0, 96570)\t0.09111269308579532\n",
            "  (0, 96072)\t0.050303044027430216\n",
            "  (0, 94999)\t0.13582524495094972\n",
            "  :\t:\n",
            "  (10246, 74789)\t0.12424969844050689\n",
            "  (10246, 67675)\t0.14013750450162243\n",
            "  (10246, 67431)\t0.17027920213488262\n",
            "  (10246, 62503)\t0.07018439342182367\n",
            "  (10246, 48865)\t0.0677291467531057\n",
            "  (10246, 44333)\t0.07698419271741488\n",
            "  (10246, 44185)\t0.18848343339804766\n",
            "  (10246, 41489)\t0.07864969900262715\n",
            "  (10246, 41381)\t0.18589950294191246\n",
            "  (10246, 33135)\t0.22901106751084496\n",
            "  (10246, 32857)\t0.19707352167917339\n",
            "  (10246, 30310)\t0.09978106510116247\n",
            "  (10246, 30289)\t0.06487583635557802\n",
            "  (10246, 28609)\t0.14167909719822447\n",
            "  (10246, 28166)\t0.19027853159824248\n",
            "  (10246, 24893)\t0.38055706319648497\n",
            "  (10246, 23244)\t0.20579829588377313\n",
            "  (10246, 23198)\t0.14433255277415144\n",
            "  (10246, 21260)\t0.1193728526218282\n",
            "  (10246, 20976)\t0.1346613870743609\n",
            "  (10246, 18649)\t0.12943446959915444\n",
            "  (10246, 17546)\t0.14185771835542316\n",
            "  (10246, 12531)\t0.0668877536133043\n",
            "  (10246, 11065)\t0.09154091589990959\n",
            "  (10246, 9034)\t0.1010565996457084\n"
          ],
          "name": "stdout"
        }
      ]
    },
    {
      "cell_type": "markdown",
      "metadata": {
        "id": "eXaW5IEN3qtz"
      },
      "source": [
        "# **Learning Model Selection**\n",
        "\n",
        "Choose a Learning Model, Methodology or Schema for training the dataset.\n",
        "\n",
        "Here, as it's a classification problem, we are using a ***PassiveAggressiveClassifier*** due to the fact that we have vectorized the sample data during the preprocessing step using a *TfidfVectorizer*.\n",
        "\n",
        "For explaination purpose, **Passive Aggressive algorithms** are online learning algorithms. Such an algorithm remains passive for a correct classification outcome, and turns aggressive in the event of a miscalculation, updating and adjusting. Unlike most other algorithms, it does not converge. Its purpose is to make updates that correct the loss, causing very little change in the norm of the weight vector.\n"
      ]
    },
    {
      "cell_type": "code",
      "metadata": {
        "id": "beJfbKbToOlv",
        "colab": {
          "base_uri": "https://localhost:8080/"
        },
        "outputId": "8648582e-564a-4655-8475-62e0e235acbf"
      },
      "source": [
        "# Initialize a PassiveAggressiveClassifier\n",
        "model = PassiveAggressiveClassifier(max_iter=50)\n",
        "model"
      ],
      "execution_count": 9,
      "outputs": [
        {
          "output_type": "execute_result",
          "data": {
            "text/plain": [
              "PassiveAggressiveClassifier(C=1.0, average=False, class_weight=None,\n",
              "                            early_stopping=False, fit_intercept=True,\n",
              "                            loss='hinge', max_iter=50, n_iter_no_change=5,\n",
              "                            n_jobs=None, random_state=None, shuffle=True,\n",
              "                            tol=0.001, validation_fraction=0.1, verbose=0,\n",
              "                            warm_start=False)"
            ]
          },
          "metadata": {
            "tags": []
          },
          "execution_count": 9
        }
      ]
    },
    {
      "cell_type": "markdown",
      "metadata": {
        "id": "qUrGSRHm7wwf"
      },
      "source": [
        "# **Fitting the Model and Predicting its outcomes.**\n",
        "\n",
        "Here we will fit the model with the trained vectorized sample data from ```tfidf_train``` of the **TfidfVectorizer** and the ```y_train``` of the initial sample data."
      ]
    },
    {
      "cell_type": "code",
      "metadata": {
        "id": "kf8T-xIt73Rs",
        "colab": {
          "base_uri": "https://localhost:8080/"
        },
        "outputId": "33841366-92f4-469a-cffb-c1bb4299e4bf"
      },
      "source": [
        "# Fitting the Model with the tfidf_train & y_train.\n",
        "t0 = time()\n",
        "history = model.fit(tfidf_train,y_train)\n",
        "train_time = time() - t0\n",
        "\n",
        "\n",
        "# Predict on the test set tfidf_test from the TfidfVectorizer\n",
        "t0 = time()\n",
        "y_pred = model.predict(tfidf_test)\n",
        "test_time = time() - t0\n",
        "print('Predicted Outcomes -->', y_pred, y_pred.shape)\n",
        "\n",
        "#           and \n",
        "\n",
        "# Calculate the accuracy with accuracy_score()\n",
        "score = accuracy_score(y_test,y_pred)\n",
        "# score = model.score(tfidf_test,y_pred)\n",
        "print(f'\\nModel-Accuracy: {round(score*100,2)}%')"
      ],
      "execution_count": 10,
      "outputs": [
        {
          "output_type": "stream",
          "text": [
            "Predicted Outcomes --> ['FAKE' 'REAL' 'FAKE' ... 'FAKE' 'REAL' 'FAKE'] (10247,)\n",
            "\n",
            "Model-Accuracy: 97.81%\n"
          ],
          "name": "stdout"
        }
      ]
    },
    {
      "cell_type": "markdown",
      "metadata": {
        "id": "K5Bgu9cIwEiO"
      },
      "source": [
        "# **Report and Visualization on the selected Model**\n",
        "\n",
        "From the Previous Step, after training and testing the model using *PassiveAggressiveClassifier* we got an *accuracy* of more than **97%** on the testing sample.\n",
        "\n",
        "For more insights, we will print out the **confusion matrix** to view the number of false and true negatives and positives.\n",
        "\n",
        "We will also print out the **heat map** generated from the confusion matrix.\n"
      ]
    },
    {
      "cell_type": "code",
      "metadata": {
        "id": "3zpDS9QBzHLG",
        "colab": {
          "base_uri": "https://localhost:8080/"
        },
        "outputId": "07865ede-f2ea-4651-a2b2-1e3798aec49f"
      },
      "source": [
        "# Model Report\n",
        "report = classification_report(y_test,y_pred, labels=['FAKE','REAL'])\n",
        "\n",
        "print('----------------=====Model Report=====----------------\\n')\n",
        "print(report)\n",
        "print('------------------------------------------------------\\n')\n",
        "\n",
        "\n",
        "# Confusion-Matrix\n",
        "conf_mat = confusion_matrix(y_test,y_pred, labels=['FAKE','REAL'])\n",
        "\n",
        "print('::Confusion-Matrix::')\n",
        "print('',conf_mat)\n",
        "print('\\n------------------------------------------------------\\n')\n",
        "\n",
        "\n",
        "# Model Precision: what percentage of positive tuples are labeled as such?\n",
        "print(\"Precision: \\t%.2f\\n\" % metrics.precision_score(y_test, y_pred, average='weighted'))\n",
        "\n",
        "# Model Recall: what percentage of positive tuples are labelled as such?\n",
        "print(\"Recall: \\t%.2f\\n\" % metrics.recall_score(y_test, y_pred, average='weighted'))\n",
        "\n",
        "print(\"Density: \\t%f\\n\" % density(model.coef_))\n",
        "\n",
        "print(\"Dimensionality: %d\\n\" % model.coef_.shape[1])\n",
        "\n",
        "print('------------------------------------------------------\\n')\n",
        "\n",
        "print(\"Train Time: \\t%.3fs\\n\" % train_time)\n",
        "\n",
        "print(\"Test Time:  \\t%.3fs\\n\" % test_time)\n",
        "\n",
        "print(f'Data-Preprocessing Time: {round(preprocess_time, 3)}s\\n')\n",
        "\n",
        "print('------------------------------------------------------\\n')\n",
        "\n",
        "print(f'Accuracy Score: {round(score*100,2)}%\\n')\n",
        "\n",
        "print('------------------------------------------------------\\n')\n"
      ],
      "execution_count": 11,
      "outputs": [
        {
          "output_type": "stream",
          "text": [
            "----------------=====Model Report=====----------------\n",
            "\n",
            "              precision    recall  f1-score   support\n",
            "\n",
            "        FAKE       0.98      0.98      0.98      5392\n",
            "        REAL       0.98      0.97      0.98      4855\n",
            "\n",
            "    accuracy                           0.98     10247\n",
            "   macro avg       0.98      0.98      0.98     10247\n",
            "weighted avg       0.98      0.98      0.98     10247\n",
            "\n",
            "------------------------------------------------------\n",
            "\n",
            "::Confusion-Matrix::\n",
            " [[5292  100]\n",
            " [ 124 4731]]\n",
            "\n",
            "------------------------------------------------------\n",
            "\n",
            "Precision: \t0.98\n",
            "\n",
            "Recall: \t0.98\n",
            "\n",
            "Density: \t0.615087\n",
            "\n",
            "Dimensionality: 128416\n",
            "\n",
            "------------------------------------------------------\n",
            "\n",
            "Train Time: \t0.623s\n",
            "\n",
            "Test Time:  \t0.006s\n",
            "\n",
            "Data-Preprocessing Time: 17.012s\n",
            "\n",
            "------------------------------------------------------\n",
            "\n",
            "Accuracy Score: 97.81%\n",
            "\n",
            "------------------------------------------------------\n",
            "\n"
          ],
          "name": "stdout"
        }
      ]
    },
    {
      "cell_type": "code",
      "metadata": {
        "id": "YikgDhUieiK0",
        "colab": {
          "base_uri": "https://localhost:8080/"
        },
        "outputId": "a5b23cd1-f807-4b52-a3b7-07d584513ef7"
      },
      "source": [
        "# transform\n",
        "y_tt = []\n",
        "y_pr = []\n",
        "for yt in y_test:\n",
        "  if yt == 'REAL':\n",
        "    y_tt.append(1)\n",
        "  elif yt == 'FAKE':\n",
        "    y_tt.append(0)\n",
        "\n",
        "for yp in y_pred:\n",
        "  if yp == np.str_('REAL'):\n",
        "    y_pr.append(1)\n",
        "  elif yp == np.str_('FAKE'):\n",
        "    y_pr.append(0)\n",
        "\n",
        "# print(len(y_tt), len(y_pr))\n",
        "false_positive_rate, true_positive_rate, thresholds = roc_curve(np.array(y_tt),np.array(y_pr))\n",
        "roc_auc = auc(false_positive_rate, true_positive_rate)\n",
        "print('ROC-AUC =', roc_auc)"
      ],
      "execution_count": 12,
      "outputs": [
        {
          "output_type": "stream",
          "text": [
            "ROC-AUC = 0.9779566631115403\n"
          ],
          "name": "stdout"
        }
      ]
    },
    {
      "cell_type": "code",
      "metadata": {
        "id": "A604WyvOpukf",
        "colab": {
          "base_uri": "https://localhost:8080/",
          "height": 638
        },
        "outputId": "3c036769-5cf7-4da0-820a-3e0fd3463504"
      },
      "source": [
        "plt.figure(figsize=(10,10))\n",
        "plt.title('Receiver Operating Characteristic')\n",
        "plt.plot(false_positive_rate,true_positive_rate, color='red',label = 'AUC = %0.3f' % roc_auc)\n",
        "plt.legend(loc = 'lower right')\n",
        "plt.plot([0, 1], [0, 1],linestyle='--')\n",
        "plt.axis('tight')\n",
        "plt.ylabel('True Positive Rate')\n",
        "plt.xlabel('False Positive Rate')"
      ],
      "execution_count": 13,
      "outputs": [
        {
          "output_type": "execute_result",
          "data": {
            "text/plain": [
              "Text(0.5, 0, 'False Positive Rate')"
            ]
          },
          "metadata": {
            "tags": []
          },
          "execution_count": 13
        },
        {
          "output_type": "display_data",
          "data": {
            "image/png": "[encoded data removed]",
            "text/plain": [
              "<Figure size 720x720 with 1 Axes>"
            ]
          },
          "metadata": {
            "tags": [],
            "needs_background": "light"
          }
        }
      ]
    },
    {
      "cell_type": "code",
      "metadata": {
        "id": "KXoVyWKSw0We",
        "colab": {
          "base_uri": "https://localhost:8080/",
          "height": 295
        },
        "outputId": "ab67e737-7a94-410a-d156-5ec30b62b35c"
      },
      "source": [
        "def plot_accuracy(x, y, x_legend):\n",
        "    \"\"\"Plot accuracy as a function of x.\"\"\"\n",
        "    x = np.array(x)\n",
        "    y = np.array(y)\n",
        "    plt.title('Classification accuracy as a function of %s' % x_legend)\n",
        "    plt.xlabel('%s' % x_legend)\n",
        "    plt.ylabel('Accuracy')\n",
        "    plt.grid(True)\n",
        "    plt.plot(x, y)\n",
        "\n",
        "plt.figure()\n",
        "plot_accuracy(y_tt,y_pr,\"training examples (#)\")\n",
        "ax = plt.gca()\n",
        "ax.set_ylim((0.8, 1))\n",
        "plt.legend(\"PAC\", loc='best')\n",
        "plt.show()"
      ],
      "execution_count": 14,
      "outputs": [
        {
          "output_type": "display_data",
          "data": {
            "image/png": "[encoded data removed]",
            "text/plain": [
              "<Figure size 432x288 with 1 Axes>"
            ]
          },
          "metadata": {
            "tags": [],
            "needs_background": "light"
          }
        }
      ]
    },
    {
      "cell_type": "code",
      "metadata": {
        "id": "v6LwIFCY2MM-",
        "colab": {
          "base_uri": "https://localhost:8080/",
          "height": 390
        },
        "outputId": "9ad1215b-5fb5-42db-b585-42b357a28dc4"
      },
      "source": [
        "# Visualization of confusion-matrix with a heat-map\n",
        "fig = plt.figure(figsize=(10,6))\n",
        "plt.title('Confusion Matrix')\n",
        "plt.xlabel('Predicted Label')\n",
        "plt.ylabel('True Label')\n",
        "\n",
        "sns.heatmap(conf_mat, annot=True, cmap=plt.cm.ocean_r,\n",
        "            xticklabels=['FAKE','REAL'], \n",
        "            yticklabels=['FAKE','REAL'])\n",
        "plt.show()\n"
      ],
      "execution_count": 15,
      "outputs": [
        {
          "output_type": "display_data",
          "data": {
            "image/png": "[encoded data removed]",
            "text/plain": [
              "<Figure size 720x432 with 2 Axes>"
            ]
          },
          "metadata": {
            "tags": [],
            "needs_background": "light"
          }
        }
      ]
    },
    {
      "cell_type": "code",
      "metadata": {
        "id": "gCslKXXqfy98",
        "colab": {
          "base_uri": "https://localhost:8080/",
          "height": 499
        },
        "outputId": "d7c3df27-bb92-4df2-e976-4f6c45e101af"
      },
      "source": [
        "indices = np.arange(1)\n",
        "plt.figure(figsize=(12, 8))\n",
        "plt.title(\"Score\")\n",
        "plt.barh(indices, score, .2, label=\"score\", color='navy')\n",
        "plt.barh(indices + .3, train_time, .2, label=\"training time\",\n",
        "         color='c')\n",
        "plt.barh(indices + .6, test_time, .2, label=\"test time\", color='darkorange')\n",
        "plt.yticks(())\n",
        "plt.legend(loc='best')\n",
        "# plt.text(-.4, indices[0], 'Passive-Aggressive Classifier')\n",
        "plt.show()"
      ],
      "execution_count": 16,
      "outputs": [
        {
          "output_type": "display_data",
          "data": {
            "image/png": "[encoded data removed]",
            "text/plain": [
              "<Figure size 864x576 with 1 Axes>"
            ]
          },
          "metadata": {
            "tags": [],
            "needs_background": "light"
          }
        }
      ]
    },
    {
      "cell_type": "code",
      "metadata": {
        "id": "XEUo260eAVdk",
        "colab": {
          "base_uri": "https://localhost:8080/",
          "height": 733
        },
        "outputId": "a7de9fb1-d197-4db3-ceae-d9f5d49f63c3"
      },
      "source": [
        "# Converting numpyarray to list\n",
        "results = list()\n",
        "for line in conf_mat:\n",
        "  results.append([data for data in line])\n",
        "print(type(results), results)\n",
        "\n",
        "# visualize the results\n",
        "nclass_classification_mosaic_plot(len(results), results)"
      ],
      "execution_count": 17,
      "outputs": [
        {
          "output_type": "stream",
          "text": [
            "<class 'list'> [[5292, 100], [124, 4731]]\n"
          ],
          "name": "stdout"
        },
        {
          "output_type": "display_data",
          "data": {
            "image/png": "[encoded data removed]",
            "text/plain": [
              "<Figure size 792x720 with 3 Axes>"
            ]
          },
          "metadata": {
            "tags": [],
            "needs_background": "light"
          }
        }
      ]
    },
    {
      "cell_type": "markdown",
      "metadata": {
        "id": "owAHAr46g7WP"
      },
      "source": [
        "# **Testing The Model with user input**"
      ]
    },
    {
      "cell_type": "code",
      "metadata": {
        "id": "3XE_Ef7xhmqz",
        "colab": {
          "base_uri": "https://localhost:8080/"
        },
        "outputId": "3a3c8330-580c-4461-f26b-e427390381ed"
      },
      "source": [
        "text_data = \"In recent weeks, Microsoft has detected cyberattacks targeting people and organizations involved in the upcoming presidential election, including unsuccessful attacks on people associated with both the Trump and Biden campaigns, as detailed below. We have and will continue to defend our democracy against these attacks through notifications of such activity to impacted customers, security features in our products and services, and legal and technical disruptions. The activity we are announcing today makes clear that foreign activity groups have stepped up their efforts targeting the 2020 election as had been anticipated, and is consistent with what the U.S. government and others have reported. We also report here on attacks against other institutions and enterprises worldwide that reflect similar adversary activity.\" #@param {type:\"raw\"}\n",
        "print(text_data)\n",
        "x = [text_data,]\n",
        "\n",
        "tfidf_test = tfidf_vectorizer.transform(x)\n",
        "\n",
        "# Number of time Correctly Guested in Prediction\n",
        "count_fake = 0\n",
        "count_real = 0\n",
        "for i in range(100):\n",
        "  pred = model.predict(tfidf_test)\n",
        "  if pred[0] == 'REAL':\n",
        "    count_real+=1\n",
        "  elif pred[0] == 'FAKE':\n",
        "    count_fake+=1\n",
        "\n",
        "count_fake = (count_fake/(count_fake + count_real)) * 100\n",
        "count_real = (count_real/(count_fake + count_real)) * 100\n",
        "\n",
        "print('This news is', pred[0])\n",
        "print('\\nFake= %1.2f -- Real= %1.2f' % (count_fake, count_real))\n"
      ],
      "execution_count": 18,
      "outputs": [
        {
          "output_type": "stream",
          "text": [
            "In recent weeks, Microsoft has detected cyberattacks targeting people and organizations involved in the upcoming presidential election, including unsuccessful attacks on people associated with both the Trump and Biden campaigns, as detailed below. We have and will continue to defend our democracy against these attacks through notifications of such activity to impacted customers, security features in our products and services, and legal and technical disruptions. The activity we are announcing today makes clear that foreign activity groups have stepped up their efforts targeting the 2020 election as had been anticipated, and is consistent with what the U.S. government and others have reported. We also report here on attacks against other institutions and enterprises worldwide that reflect similar adversary activity.\n",
            "This news is REAL\n",
            "\n",
            "Fake= 0.00 -- Real= 100.00\n"
          ],
          "name": "stdout"
        }
      ]
    }
  ]
}