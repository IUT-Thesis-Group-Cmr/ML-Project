{
  "nbformat": 4,
  "nbformat_minor": 0,
  "metadata": {
    "colab": {
      "name": "ML-Project--Fake-News-Detector.ipynb",
      "provenance": [],
      "collapsed_sections": [],
      "mount_file_id": "1V7rlRWzwdjsGIOIKrdyVI3S_qT5W515v",
      "authorship_tag": "ABX9TyMbArbjfwrj1jpAUoDmGIPG",
      "include_colab_link": true
    },
    "kernelspec": {
      "name": "python3",
      "display_name": "Python 3"
    },
    "accelerator": "GPU"
  },
  "cells": [
    {
      "cell_type": "markdown",
      "metadata": {
        "id": "view-in-github",
        "colab_type": "text"
      },
      "source": [
        "<a href=\"https://colab.research.google.com/github/IUT-Thesis-Group-Cmr/ML-Project/blob/master/ML_Project_Fake_News_Detector.ipynb\" target=\"_parent\"><img src=\"https://colab.research.google.com/assets/colab-badge.svg\" alt=\"Open In Colab\"/></a>"
      ]
    },
    {
      "cell_type": "markdown",
      "metadata": {
        "id": "GmhGmFH7-3R4",
        "colab_type": "text"
      },
      "source": [
        "# **Initialization tweaks**\n",
        "* Initiating GoogleDrive mounting\n",
        "* Necessary Library's imports\n",
        "* Load Dataset [**Optional**]\n"
      ]
    },
    {
      "cell_type": "code",
      "metadata": {
        "id": "CYXk4whjzlHg",
        "colab_type": "code",
        "colab": {
          "base_uri": "https://localhost:8080/",
          "height": 34
        },
        "outputId": "d093f59c-2ae3-4484-a515-b8fe5edaf3c9"
      },
      "source": [
        "#-Google Drive Access-Granting\n",
        "from google.colab import drive\n",
        "drive.mount('/content/drive')"
      ],
      "execution_count": 150,
      "outputs": [
        {
          "output_type": "stream",
          "text": [
            "Drive already mounted at /content/drive; to attempt to forcibly remount, call drive.mount(\"/content/drive\", force_remount=True).\n"
          ],
          "name": "stdout"
        }
      ]
    },
    {
      "cell_type": "code",
      "metadata": {
        "id": "5w4sSeGUL41N",
        "colab_type": "code",
        "colab": {
          "base_uri": "https://localhost:8080/",
          "height": 34
        },
        "outputId": "3ebf4ce2-5b02-464b-eb88-f849265b402f"
      },
      "source": [
        "# files paths\n",
        "path = '/content/drive/My Drive/ThesisFile/datasets/ml-project/fake_real-news-dataset/'\n",
        "if path[-1] != '/':\n",
        "  path += '/'\n",
        "print('Good to go ✔')"
      ],
      "execution_count": 151,
      "outputs": [
        {
          "output_type": "stream",
          "text": [
            "Good to go ✔\n"
          ],
          "name": "stdout"
        }
      ]
    },
    {
      "cell_type": "code",
      "metadata": {
        "id": "6by1JrAb0YXY",
        "colab_type": "code",
        "colab": {}
      },
      "source": [
        "#-Library imports\n",
        "import pandas as pd\n",
        "import matplotlib\n",
        "import matplotlib.pyplot as plt\n",
        "import numpy as np\n",
        "import statistics\n",
        "import math \n",
        "import nltk\n",
        "import string\n",
        "from time import time\n",
        "import seaborn as sns\n",
        "from sklearn import preprocessing\n",
        "from sklearn import linear_model\n",
        "from sklearn import svm\n",
        "from sklearn import metrics\n",
        "from sklearn.utils import validation\n",
        "from sklearn.utils.extmath import density\n",
        "from sklearn.cluster import KMeans\n",
        "from sklearn.cluster import KMeans\n",
        "from sklearn.feature_extraction.text import TfidfVectorizer\n",
        "from sklearn.model_selection import train_test_split\n",
        "from sklearn.model_selection import KFold\n",
        "from sklearn.model_selection import StratifiedKFold\n",
        "from sklearn.model_selection import cross_val_score\n",
        "from sklearn.model_selection import cross_validate\n",
        "from sklearn.model_selection import GridSearchCV\n",
        "from sklearn.linear_model import LinearRegression, PassiveAggressiveClassifier\n",
        "from sklearn.decomposition import PCA\n",
        "from sklearn.preprocessing import normalize\n",
        "from sklearn.preprocessing import MinMaxScaler\n",
        "from sklearn.metrics import accuracy_score, pairwise_distances, mean_absolute_error, classification_report, confusion_matrix\n",
        "from sklearn.neighbors import KNeighborsClassifier\n",
        "from sklearn.datasets import make_blobs\n",
        "#Import Gaussian Naive Bayes model\n",
        "from sklearn.naive_bayes import GaussianNB\n",
        "from seaborn import heatmap\n",
        "from math import exp\n",
        "from random import randint, seed\n",
        "import itertools\n",
        "from statsmodels.graphics.mosaicplot import mosaic\n",
        "from matplotlib.patches import Patch\n",
        "from collections import deque\n",
        "\n",
        "%matplotlib inline"
      ],
      "execution_count": 152,
      "outputs": []
    },
    {
      "cell_type": "code",
      "metadata": {
        "id": "RciTrIB5_wfa",
        "colab_type": "code",
        "colab": {}
      },
      "source": [
        "def nclass_classification_mosaic_plot(n_classes, results):\n",
        "    \"\"\"\n",
        "    build a mosaic plot from the results of a classification\n",
        "    \n",
        "    parameters:\n",
        "    n_classes: number of classes\n",
        "    results: results of the prediction in form of an array of arrays\n",
        "    \n",
        "    In case of 3 classes the prdiction could look like\n",
        "    [[10, 2, 4],\n",
        "     [1, 12, 3],\n",
        "     [2, 2, 9]\n",
        "    ]\n",
        "    where there is one array for each class and each array holds the\n",
        "    predictions for each class [class 1, class 2, class 3].\n",
        "    \n",
        "    This is just a prototype including colors for 6 classes.\n",
        "    \"\"\"\n",
        "    class_lists = [range(n_classes)]*2\n",
        "    mosaic_tuples = tuple(itertools.product(*class_lists))\n",
        "    \n",
        "    res_list = results[0]\n",
        "    for i, l in enumerate(results):\n",
        "        if i == 0:\n",
        "            pass\n",
        "        else:\n",
        "            tmp = deque(l)\n",
        "            tmp.rotate(-i)\n",
        "            res_list.extend(tmp)\n",
        "    data = {t:res_list[i] for i,t in enumerate(mosaic_tuples)}\n",
        "\n",
        "    fig, ax = plt.subplots(figsize=(11, 10))\n",
        "    plt.rcParams.update({'font.size': 16})\n",
        "\n",
        "    font_color = '#2c3e50'\n",
        "    pallet = [\n",
        "        '#6a89cc', \n",
        "        '#4a69bd', \n",
        "        '#1e3799', \n",
        "        '#0c2461',\n",
        "        '#82ccdd',\n",
        "        '#60a3bc',\n",
        "    ]\n",
        "    colors = deque(pallet[:n_classes])\n",
        "    all_colors = []\n",
        "    for i in range(n_classes):\n",
        "        if i > 0:\n",
        "            colors.rotate(-1)\n",
        "        all_colors.extend(colors)\n",
        "\n",
        "    props = {(str(a), str(b)):{'color':all_colors[i]} for i,(a, b) in enumerate(mosaic_tuples)}\n",
        "\n",
        "    labelizer = lambda k: ''\n",
        "\n",
        "    p = mosaic(data, labelizer=labelizer, properties=props, ax=ax)\n",
        "\n",
        "    title_font_dict = {\n",
        "        'fontsize': 20,\n",
        "        'color' : font_color,\n",
        "    }\n",
        "    axis_label_font_dict = {\n",
        "        'fontsize': 16,\n",
        "        'color' : font_color,\n",
        "    }\n",
        "\n",
        "    ax.tick_params(axis = \"x\", which = \"both\", bottom = False, top = False)\n",
        "    ax.axes.yaxis.set_ticks([])\n",
        "    ax.tick_params(axis='x', which='major', labelsize=14)\n",
        "\n",
        "    ax.set_title('Classification Report', fontdict=title_font_dict, pad=25)\n",
        "    ax.set_xlabel('Observed Class', fontdict=axis_label_font_dict, labelpad=10)\n",
        "    ax.set_ylabel('Predicted Class', fontdict=axis_label_font_dict, labelpad=35)\n",
        "\n",
        "    legend_elements = [Patch(facecolor=all_colors[i], label='Class {}'.format(i)) for i in range(n_classes)]\n",
        "    ax.legend(handles=legend_elements, bbox_to_anchor=(1,1.018), fontsize=16)\n",
        "\n",
        "    plt.tight_layout()\n",
        "    plt.show()"
      ],
      "execution_count": 153,
      "outputs": []
    },
    {
      "cell_type": "code",
      "metadata": {
        "id": "1r6F4B-BbzgI",
        "colab_type": "code",
        "colab": {
          "base_uri": "https://localhost:8080/",
          "height": 1000
        },
        "outputId": "f13ae11e-9c29-499d-ac5f-254baa361605"
      },
      "source": [
        "# Loading Dataset\n",
        "file0 = 'news.csv'\n",
        "file1 = 'Fake.csv'\n",
        "file2 = 'True.csv'\n",
        "\n",
        "df0 = pd.read_csv(path + file0)\n",
        "df1 = pd.read_csv(path + file1)\n",
        "df2 = pd.read_csv(path + file2)\n",
        "\n",
        "print(df0.columns, df0, sep='\\n', end='\\n\\n')\n",
        "print(df1.columns, df1, sep='\\n', end='\\n\\n')\n",
        "print(df2.columns, df2, sep='\\n', end='\\n\\n')\n",
        "\n",
        "df1['label'] = 'FAKE'\n",
        "df2['label'] = 'TRUE'\n",
        "\n",
        "dataset = pd.concat([df0[['title','text','label']] , df1[['title','text','label']] , df2[['title','text','label']]], ignore_index=True)\n",
        "\n",
        "dataset = dataset.sample(frac=1).reset_index(drop=True)\n",
        "print(dataset.columns, dataset.shape)\n",
        "dataset.tail()\n",
        "\n",
        "# print('Dataset Attributes::', dataset.columns)\n",
        "# print('Dataset Dim::', dataset.shape)\n",
        "# print(dataset.head())\n",
        "# print('\\nData Output::\\n', dataset.label)"
      ],
      "execution_count": 154,
      "outputs": [
        {
          "output_type": "stream",
          "text": [
            "Index(['Unnamed: 0', 'title', 'text', 'label'], dtype='object')\n",
            "      Unnamed: 0  ... label\n",
            "0           8476  ...  FAKE\n",
            "1          10294  ...  FAKE\n",
            "2           3608  ...  REAL\n",
            "3          10142  ...  FAKE\n",
            "4            875  ...  REAL\n",
            "...          ...  ...   ...\n",
            "6330        4490  ...  REAL\n",
            "6331        8062  ...  FAKE\n",
            "6332        8622  ...  FAKE\n",
            "6333        4021  ...  REAL\n",
            "6334        4330  ...  REAL\n",
            "\n",
            "[6335 rows x 4 columns]\n",
            "\n",
            "Index(['title', 'text', 'subject', 'date'], dtype='object')\n",
            "                                                   title  ...               date\n",
            "0       Donald Trump Sends Out Embarrassing New Year’...  ...  December 31, 2017\n",
            "1       Drunk Bragging Trump Staffer Started Russian ...  ...  December 31, 2017\n",
            "2       Sheriff David Clarke Becomes An Internet Joke...  ...  December 30, 2017\n",
            "3       Trump Is So Obsessed He Even Has Obama’s Name...  ...  December 29, 2017\n",
            "4       Pope Francis Just Called Out Donald Trump Dur...  ...  December 25, 2017\n",
            "...                                                  ...  ...                ...\n",
            "23476  McPain: John McCain Furious That Iran Treated ...  ...   January 16, 2016\n",
            "23477  JUSTICE? Yahoo Settles E-mail Privacy Class-ac...  ...   January 16, 2016\n",
            "23478  Sunnistan: US and Allied ‘Safe Zone’ Plan to T...  ...   January 15, 2016\n",
            "23479  How to Blow $700 Million: Al Jazeera America F...  ...   January 14, 2016\n",
            "23480  10 U.S. Navy Sailors Held by Iranian Military ...  ...   January 12, 2016\n",
            "\n",
            "[23481 rows x 4 columns]\n",
            "\n",
            "Index(['title', 'text', 'subject', 'date'], dtype='object')\n",
            "                                                   title  ...                date\n",
            "0      As U.S. budget fight looms, Republicans flip t...  ...  December 31, 2017 \n",
            "1      U.S. military to accept transgender recruits o...  ...  December 29, 2017 \n",
            "2      Senior U.S. Republican senator: 'Let Mr. Muell...  ...  December 31, 2017 \n",
            "3      FBI Russia probe helped by Australian diplomat...  ...  December 30, 2017 \n",
            "4      Trump wants Postal Service to charge 'much mor...  ...  December 29, 2017 \n",
            "...                                                  ...  ...                 ...\n",
            "21412  'Fully committed' NATO backs new U.S. approach...  ...    August 22, 2017 \n",
            "21413  LexisNexis withdrew two products from Chinese ...  ...    August 22, 2017 \n",
            "21414  Minsk cultural hub becomes haven from authorities  ...    August 22, 2017 \n",
            "21415  Vatican upbeat on possibility of Pope Francis ...  ...    August 22, 2017 \n",
            "21416  Indonesia to buy $1.14 billion worth of Russia...  ...    August 22, 2017 \n",
            "\n",
            "[21417 rows x 4 columns]\n",
            "\n",
            "Index(['title', 'text', 'label'], dtype='object') (51233, 3)\n"
          ],
          "name": "stdout"
        },
        {
          "output_type": "execute_result",
          "data": {
            "text/html": [
              "<div>\n",
              "<style scoped>\n",
              "    .dataframe tbody tr th:only-of-type {\n",
              "        vertical-align: middle;\n",
              "    }\n",
              "\n",
              "    .dataframe tbody tr th {\n",
              "        vertical-align: top;\n",
              "    }\n",
              "\n",
              "    .dataframe thead th {\n",
              "        text-align: right;\n",
              "    }\n",
              "</style>\n",
              "<table border=\"1\" class=\"dataframe\">\n",
              "  <thead>\n",
              "    <tr style=\"text-align: right;\">\n",
              "      <th></th>\n",
              "      <th>title</th>\n",
              "      <th>text</th>\n",
              "      <th>label</th>\n",
              "    </tr>\n",
              "  </thead>\n",
              "  <tbody>\n",
              "    <tr>\n",
              "      <th>51228</th>\n",
              "      <td>Betsy DeVos Gets WRECKED After Praising Segre...</td>\n",
              "      <td>Donald Trump s education secretary proved she ...</td>\n",
              "      <td>FAKE</td>\n",
              "    </tr>\n",
              "    <tr>\n",
              "      <th>51229</th>\n",
              "      <td>Louie Gohmert Gets Completely Unhinged And Sc...</td>\n",
              "      <td>Whenever big news happens in Washington, the n...</td>\n",
              "      <td>FAKE</td>\n",
              "    </tr>\n",
              "    <tr>\n",
              "      <th>51230</th>\n",
              "      <td>Abdullah welcomes Trump engagement in Israel-P...</td>\n",
              "      <td>WASHINGTON (Reuters) - Jordan’s King Abdullah ...</td>\n",
              "      <td>TRUE</td>\n",
              "    </tr>\n",
              "    <tr>\n",
              "      <th>51231</th>\n",
              "      <td>Israel says downed Syrian spy drone over Golan...</td>\n",
              "      <td>JERUSALEM (Reuters) - Israel shot down a Syria...</td>\n",
              "      <td>TRUE</td>\n",
              "    </tr>\n",
              "    <tr>\n",
              "      <th>51232</th>\n",
              "      <td>U.S. Inauguration: Historic Day Marks Beginnin...</td>\n",
              "      <td>Mark Anderson  American Free PressWASHINGTON,...</td>\n",
              "      <td>FAKE</td>\n",
              "    </tr>\n",
              "  </tbody>\n",
              "</table>\n",
              "</div>"
            ],
            "text/plain": [
              "                                                   title  ... label\n",
              "51228   Betsy DeVos Gets WRECKED After Praising Segre...  ...  FAKE\n",
              "51229   Louie Gohmert Gets Completely Unhinged And Sc...  ...  FAKE\n",
              "51230  Abdullah welcomes Trump engagement in Israel-P...  ...  TRUE\n",
              "51231  Israel says downed Syrian spy drone over Golan...  ...  TRUE\n",
              "51232  U.S. Inauguration: Historic Day Marks Beginnin...  ...  FAKE\n",
              "\n",
              "[5 rows x 3 columns]"
            ]
          },
          "metadata": {
            "tags": []
          },
          "execution_count": 154
        }
      ]
    },
    {
      "cell_type": "markdown",
      "metadata": {
        "id": "BRVFNlQWfk_r",
        "colab_type": "text"
      },
      "source": [
        "# **Analyzing Dataset**\n",
        "\n",
        "\n",
        "*   Determining the Labels(outputs) and Inputs\n",
        "\n"
      ]
    },
    {
      "cell_type": "code",
      "metadata": {
        "id": "0ZZ3UQvfhQ9G",
        "colab_type": "code",
        "colab": {
          "base_uri": "https://localhost:8080/",
          "height": 0
        },
        "outputId": "c0911e9a-856f-4ade-9168-7baf72d9333a"
      },
      "source": [
        "# Outputs or Labels\n",
        "labels = dataset.label;\n",
        "print(labels)\n",
        "\n",
        "# Sample Data\n",
        "df = dataset['text']\n",
        "df"
      ],
      "execution_count": 155,
      "outputs": [
        {
          "output_type": "stream",
          "text": [
            "0        FAKE\n",
            "1        REAL\n",
            "2        FAKE\n",
            "3        FAKE\n",
            "4        TRUE\n",
            "         ... \n",
            "51228    FAKE\n",
            "51229    FAKE\n",
            "51230    TRUE\n",
            "51231    TRUE\n",
            "51232    FAKE\n",
            "Name: label, Length: 51233, dtype: object\n"
          ],
          "name": "stdout"
        },
        {
          "output_type": "execute_result",
          "data": {
            "text/plain": [
              "0        21st Century Wire says Out of all the intellig...\n",
              "1        Through his chief of staff, President Obama is...\n",
              "2        Who knew you could be a parent and still find ...\n",
              "3        Rep. Mo Brooks (R-AL)   a congressman who at o...\n",
              "4        WASHINGTON (Reuters) - U.S. President Barack O...\n",
              "                               ...                        \n",
              "51228    Donald Trump s education secretary proved she ...\n",
              "51229    Whenever big news happens in Washington, the n...\n",
              "51230    WASHINGTON (Reuters) - Jordan’s King Abdullah ...\n",
              "51231    JERUSALEM (Reuters) - Israel shot down a Syria...\n",
              "51232     Mark Anderson  American Free PressWASHINGTON,...\n",
              "Name: text, Length: 51233, dtype: object"
            ]
          },
          "metadata": {
            "tags": []
          },
          "execution_count": 155
        }
      ]
    },
    {
      "cell_type": "markdown",
      "metadata": {
        "id": "S4zs3liWjDny",
        "colab_type": "text"
      },
      "source": [
        "# **Splitting the dataset**\n",
        "\n",
        "*   Split the dataset into training and testing sets."
      ]
    },
    {
      "cell_type": "code",
      "metadata": {
        "id": "iw7uv66nj-pv",
        "colab_type": "code",
        "colab": {
          "base_uri": "https://localhost:8080/",
          "height": 622
        },
        "outputId": "42edf44d-3a74-4ea7-b2d6-4bb6ae728962"
      },
      "source": [
        "# Split Dataset with a 8:2 ratio for training and testing\n",
        "#         sampple data:: the 'text' column only.\n",
        "x_train,x_test,y_train,y_test = train_test_split(df, labels, test_size=0.2, \n",
        "                                                 random_state=7)\n",
        "print(x_train)\n",
        "print(y_train)\n",
        "\n",
        "print(x_test)"
      ],
      "execution_count": 156,
      "outputs": [
        {
          "output_type": "stream",
          "text": [
            "6890     U.S. Rep. Eddie Bernice Johnson (D-Dallas) arg...\n",
            "45936    Tune in to the Alternate Current Radio Network...\n",
            "22230    Is it not enough that Hillary has compromised ...\n",
            "40082    WASHINGTON (Reuters) - Jared Kushner, adviser ...\n",
            "42905    CNN reporter Jeff Zeleny said on Monday that c...\n",
            "                               ...                        \n",
            "13927    An armed Dakota Access security contractor con...\n",
            "919      HAR ADAR, West Bank (Reuters) - A Palestinian ...\n",
            "38467    Bernie Sanders just won the New Hampshire prim...\n",
            "10742    WASHINGTON (Reuters) - A meeting of Trump admi...\n",
            "49689    S.E. Cupp is the author of \"Losing Our Religio...\n",
            "Name: text, Length: 40986, dtype: object\n",
            "6890     FAKE\n",
            "45936    FAKE\n",
            "22230    FAKE\n",
            "40082    TRUE\n",
            "42905    FAKE\n",
            "         ... \n",
            "13927    FAKE\n",
            "919      TRUE\n",
            "38467    FAKE\n",
            "10742    TRUE\n",
            "49689    REAL\n",
            "Name: label, Length: 40986, dtype: object\n",
            "23499    By Lambert Strether of Corrente . \\nTTP, TTIP,...\n",
            "5965     Donald Trump s disgusting Muslim ban is being ...\n",
            "47211    BAUCHI, Nigeria (Reuters) - Suspected members ...\n",
            "25930    President Barack Obama will not meet with Isra...\n",
            "20885    BAGHDAD (Reuters) - About 1,400 foreign wives ...\n",
            "                               ...                        \n",
            "28054    Of course anyone on Obama s  Team Fundamental ...\n",
            "12110    A menacing Donald Trump is gazing down on Phoe...\n",
            "36322    President Trump blasted the  fake  media (see ...\n",
            "44194    MSNBC s Brian Williams spoke the truth on Tues...\n",
            "44946    Being Jeb Bush these days means coping with a ...\n",
            "Name: text, Length: 10247, dtype: object\n"
          ],
          "name": "stdout"
        }
      ]
    },
    {
      "cell_type": "markdown",
      "metadata": {
        "id": "__6XR0KevMfv",
        "colab_type": "text"
      },
      "source": [
        "# **Dataset Preprocessing using a TfidfVectorizer**\n",
        "\n",
        "Let’s initialize a ***TfidfVectorizer*** with stop words from the English language and a maximum document frequency of 0.7 (terms with a higher document frequency will be discarded). Stop words are the most common words in a language that are to be filtered out before processing the natural language data. And a *TfidfVectorizer* turns a collection of raw documents into a matrix of TF-IDF features.\n",
        "\n",
        "*  **TF (Term Frequency)**: The number of times a word appears in a document is its Term Frequency. A higher value means a term appears more often than others, and so, the document is a good match when the term is part of the search terms.\n",
        "*  **IDF (Inverse Document Frequency):** Words that occur many times a document, but also occur many times in many others, may be irrelevant. IDF is a measure of how significant a term is in the entire corpus."
      ]
    },
    {
      "cell_type": "code",
      "metadata": {
        "id": "fHnwFNFixhag",
        "colab_type": "code",
        "colab": {
          "base_uri": "https://localhost:8080/",
          "height": 874
        },
        "outputId": "08900fa2-2c24-4eb4-a483-a7587695c535"
      },
      "source": [
        "# Initialize a TfidfVectorizer\n",
        "tfidf_vectorizer = TfidfVectorizer(stop_words='english', max_df=0.7)\n",
        "\n",
        "# Fit and transform train set, transform test set\n",
        "tfidf_train = tfidf_vectorizer.fit_transform(x_train) \n",
        "tfidf_test = tfidf_vectorizer.transform(x_test)\n",
        "\n",
        "print(tfidf_test)"
      ],
      "execution_count": 157,
      "outputs": [
        {
          "output_type": "stream",
          "text": [
            "  (0, 128598)\t0.012866348242724883\n",
            "  (0, 128586)\t0.02178541935687431\n",
            "  (0, 128145)\t0.017102031590058592\n",
            "  (0, 127459)\t0.03185985617982991\n",
            "  (0, 127215)\t0.024833678240136096\n",
            "  (0, 127100)\t0.043376670364073326\n",
            "  (0, 127094)\t0.019422081346431558\n",
            "  (0, 127088)\t0.10156524615436929\n",
            "  (0, 126966)\t0.018172243981101576\n",
            "  (0, 126287)\t0.013359392757393538\n",
            "  (0, 126121)\t0.02736996850696741\n",
            "  (0, 126093)\t0.011717704815355156\n",
            "  (0, 125998)\t0.018290625638846213\n",
            "  (0, 125931)\t0.014845844163572723\n",
            "  (0, 125881)\t0.01910706933603903\n",
            "  (0, 125873)\t0.015975820659336233\n",
            "  (0, 125834)\t0.04234326765198828\n",
            "  (0, 125794)\t0.010696791849638386\n",
            "  (0, 125793)\t0.01396149086420944\n",
            "  (0, 125775)\t0.009739862817377647\n",
            "  (0, 125774)\t0.02459568983593569\n",
            "  (0, 125222)\t0.06073232185317417\n",
            "  (0, 125178)\t0.016152892818773808\n",
            "  (0, 125120)\t0.01089197804700816\n",
            "  (0, 125109)\t0.01907428048549535\n",
            "  :\t:\n",
            "  (10246, 14621)\t0.04633215099986537\n",
            "  (10246, 14616)\t0.02308902676251322\n",
            "  (10246, 14137)\t0.026000939547820113\n",
            "  (10246, 14054)\t0.01341929740524321\n",
            "  (10246, 13722)\t0.022342744925984936\n",
            "  (10246, 13392)\t0.04082757553084134\n",
            "  (10246, 13390)\t0.020734337443352797\n",
            "  (10246, 13037)\t0.03316599545481647\n",
            "  (10246, 12984)\t0.03113118782271513\n",
            "  (10246, 12449)\t0.023838339660655967\n",
            "  (10246, 11089)\t0.017314692413581478\n",
            "  (10246, 10187)\t0.022218373073440975\n",
            "  (10246, 9688)\t0.020397034320808766\n",
            "  (10246, 9368)\t0.02647195916632989\n",
            "  (10246, 9192)\t0.014929273609955012\n",
            "  (10246, 9093)\t0.015443852471899364\n",
            "  (10246, 8752)\t0.02085913032956321\n",
            "  (10246, 8434)\t0.02002148840472649\n",
            "  (10246, 6800)\t0.0253615031122026\n",
            "  (10246, 6640)\t0.026112954300762176\n",
            "  (10246, 5835)\t0.018355489626508587\n",
            "  (10246, 1810)\t0.02508793945869969\n",
            "  (10246, 1531)\t0.028313412727085683\n",
            "  (10246, 544)\t0.017851911391989203\n",
            "  (10246, 1)\t0.013796158078917648\n"
          ],
          "name": "stdout"
        }
      ]
    },
    {
      "cell_type": "markdown",
      "metadata": {
        "id": "eXaW5IEN3qtz",
        "colab_type": "text"
      },
      "source": [
        "# **Learning Model Selection**\n",
        "\n",
        "Choose a Learning Model, Methodology or Schema for training the dataset.\n",
        "\n",
        "Here, as it's a classification problem, we are using a ***PassiveAggressiveClassifier*** due to the fact that we have vectorized the sample data during the preprocessing step using a *TfidfVectorizer*.\n",
        "\n",
        "For explaination purpose, **Passive Aggressive algorithms** are online learning algorithms. Such an algorithm remains passive for a correct classification outcome, and turns aggressive in the event of a miscalculation, updating and adjusting. Unlike most other algorithms, it does not converge. Its purpose is to make updates that correct the loss, causing very little change in the norm of the weight vector.\n"
      ]
    },
    {
      "cell_type": "code",
      "metadata": {
        "id": "beJfbKbToOlv",
        "colab_type": "code",
        "colab": {
          "base_uri": "https://localhost:8080/",
          "height": 118
        },
        "outputId": "ea5c94a5-b9a0-4466-8d5c-38f41f9d8a64"
      },
      "source": [
        "# Initialize a PassiveAggressiveClassifier\n",
        "model = PassiveAggressiveClassifier(max_iter=50)\n",
        "model"
      ],
      "execution_count": 158,
      "outputs": [
        {
          "output_type": "execute_result",
          "data": {
            "text/plain": [
              "PassiveAggressiveClassifier(C=1.0, average=False, class_weight=None,\n",
              "                            early_stopping=False, fit_intercept=True,\n",
              "                            loss='hinge', max_iter=50, n_iter_no_change=5,\n",
              "                            n_jobs=None, random_state=None, shuffle=True,\n",
              "                            tol=0.001, validation_fraction=0.1, verbose=0,\n",
              "                            warm_start=False)"
            ]
          },
          "metadata": {
            "tags": []
          },
          "execution_count": 158
        }
      ]
    },
    {
      "cell_type": "markdown",
      "metadata": {
        "id": "qUrGSRHm7wwf",
        "colab_type": "text"
      },
      "source": [
        "# **Fitting the Model and Predicting its outcomes.**\n",
        "\n",
        "Here we will fit the model with the trained vectorized sample data from ```tfidf_train``` of the **TfidfVectorizer** and the ```y_train``` of the initial sample data."
      ]
    },
    {
      "cell_type": "code",
      "metadata": {
        "id": "kf8T-xIt73Rs",
        "colab_type": "code",
        "colab": {
          "base_uri": "https://localhost:8080/",
          "height": 67
        },
        "outputId": "50b85d74-9e4a-4150-a0af-63df398c7a9c"
      },
      "source": [
        "# Fitting the Model with the tfidf_train & y_train.\n",
        "t0 = time()\n",
        "history = model.fit(tfidf_train,y_train)\n",
        "train_time = time() - t0\n",
        "\n",
        "\n",
        "# Predict on the test set tfidf_test from the TfidfVectorizer\n",
        "t0 = time()\n",
        "y_pred = model.predict(tfidf_test)\n",
        "test_time = time() - t0\n",
        "print('Predicted Outcomes -->', y_pred, y_pred.shape)\n",
        "\n",
        "#           and \n",
        "\n",
        "# Calculate the accuracy with accuracy_score()\n",
        "score = accuracy_score(y_test,y_pred)\n",
        "# score = model.score(tfidf_test,y_pred)\n",
        "print(f'\\nModel-Accuracy: {round(score*100,2)}%')"
      ],
      "execution_count": 159,
      "outputs": [
        {
          "output_type": "stream",
          "text": [
            "Predicted Outcomes --> ['FAKE' 'FAKE' 'TRUE' ... 'FAKE' 'FAKE' 'REAL'] (10247,)\n",
            "\n",
            "Model-Accuracy: 97.48%\n"
          ],
          "name": "stdout"
        }
      ]
    },
    {
      "cell_type": "markdown",
      "metadata": {
        "id": "K5Bgu9cIwEiO",
        "colab_type": "text"
      },
      "source": [
        "# **Report and Visualization on the selected Model**\n",
        "\n",
        "From the Previous Step, after training and testing the model using *PassiveAggressiveClassifier* we got an *accuracy* of more than **97%** on the testing sample.\n",
        "\n",
        "For more insights, we will print out the **confusion matrix** to view the number of false and true negatives and positives.\n",
        "\n",
        "We will also print out the **heat map** generated from the confusion matrix.\n"
      ]
    },
    {
      "cell_type": "code",
      "metadata": {
        "id": "3zpDS9QBzHLG",
        "colab_type": "code",
        "colab": {
          "base_uri": "https://localhost:8080/",
          "height": 554
        },
        "outputId": "aebbe532-7c36-4562-c172-b08d03f81b63"
      },
      "source": [
        "# Model Report\n",
        "report = classification_report(y_test,y_pred, labels=['FAKE','REAL'])\n",
        "\n",
        "print('----------------=====Model Report=====----------------\\n')\n",
        "print(report)\n",
        "print('------------------------------------------------------\\n')\n",
        "\n",
        "\n",
        "# Confusion-Matrix\n",
        "conf_mat = confusion_matrix(y_test,y_pred, labels=['FAKE','REAL'])\n",
        "\n",
        "print('::Confusion-Matrix::')\n",
        "print('',conf_mat)\n",
        "print('------------------------------------------------------\\n')\n",
        "\n",
        "\n",
        "# Model Precision: what percentage of positive tuples are labeled as such?\n",
        "print(\"Precision: \\t%.2f\\n\" % metrics.precision_score(y_test, y_pred, average='weighted'))\n",
        "\n",
        "# Model Recall: what percentage of positive tuples are labelled as such?\n",
        "print(\"Recall: \\t%.2f\\n\" % metrics.recall_score(y_test, y_pred, average='weighted'))\n",
        "\n",
        "print(\"Density: \\t%f\\n\" % density(model.coef_))\n",
        "\n",
        "print(\"Dimensionality: %d\\n\" % model.coef_.shape[1])\n",
        "\n",
        "print(\"Train Time: \\t%.3fs\\n\" % train_time)\n",
        "\n",
        "print(\"Test Time:  \\t%.3fs\\n\" % test_time)\n",
        "\n",
        "print('------------------------------------------------------\\n')\n"
      ],
      "execution_count": 160,
      "outputs": [
        {
          "output_type": "stream",
          "text": [
            "----------------=====Model Report=====----------------\n",
            "\n",
            "              precision    recall  f1-score   support\n",
            "\n",
            "        FAKE       0.97      0.99      0.98      5329\n",
            "        REAL       0.90      0.76      0.82       639\n",
            "\n",
            "   micro avg       0.97      0.96      0.96      5968\n",
            "   macro avg       0.93      0.87      0.90      5968\n",
            "weighted avg       0.96      0.96      0.96      5968\n",
            "\n",
            "------------------------------------------------------\n",
            "\n",
            "::Confusion-Matrix::\n",
            " [[5254   47]\n",
            " [ 127  487]]\n",
            "------------------------------------------------------\n",
            "\n",
            "Precision: \t0.97\n",
            "\n",
            "Recall: \t0.97\n",
            "\n",
            "Density: \t0.559348\n",
            "\n",
            "Dimensionality: 128962\n",
            "\n",
            "Train Time: \t1.841s\n",
            "\n",
            "Test Time:  \t0.017s\n",
            "\n",
            "------------------------------------------------------\n",
            "\n"
          ],
          "name": "stdout"
        }
      ]
    },
    {
      "cell_type": "code",
      "metadata": {
        "id": "v6LwIFCY2MM-",
        "colab_type": "code",
        "colab": {
          "base_uri": "https://localhost:8080/",
          "height": 390
        },
        "outputId": "5dad1dbf-c919-4135-a828-80bdbae1707b"
      },
      "source": [
        "# Visualization of confusion-matrix with a heat-map\n",
        "fig = plt.figure(figsize=(10,6))\n",
        "plt.title('Confusion Matrix')\n",
        "plt.xlabel('Predicted Label')\n",
        "plt.ylabel('True Label')\n",
        "\n",
        "sns.heatmap(conf_mat, annot=True, cmap=plt.cm.ocean_r,\n",
        "            xticklabels=['FAKE','REAL'], \n",
        "            yticklabels=['FAKE','REAL'])\n",
        "plt.show()\n"
      ],
      "execution_count": 161,
      "outputs": [
        {
          "output_type": "display_data",
          "data": {
            "image/png": "[encoded data removed]",
            "text/plain": [
              "<Figure size 720x432 with 2 Axes>"
            ]
          },
          "metadata": {
            "tags": [],
            "needs_background": "light"
          }
        }
      ]
    },
    {
      "cell_type": "code",
      "metadata": {
        "id": "gCslKXXqfy98",
        "colab_type": "code",
        "colab": {
          "base_uri": "https://localhost:8080/",
          "height": 499
        },
        "outputId": "ea85e6b0-0539-4b22-e807-cc04baed085c"
      },
      "source": [
        "indices = np.arange(1)\n",
        "plt.figure(figsize=(12, 8))\n",
        "plt.title(\"Score\")\n",
        "plt.barh(indices, score, .2, label=\"score\", color='navy')\n",
        "plt.barh(indices + .3, train_time, .2, label=\"training time\",\n",
        "         color='c')\n",
        "plt.barh(indices + .6, test_time, .2, label=\"test time\", color='darkorange')\n",
        "plt.yticks(())\n",
        "plt.legend(loc='best')\n",
        "plt.text(-.8, indices[0], 'Passive-Aggressive Classifier')\n",
        "plt.show()"
      ],
      "execution_count": 162,
      "outputs": [
        {
          "output_type": "display_data",
          "data": {
            "image/png": "[encoded data removed]",
            "text/plain": [
              "<Figure size 864x576 with 1 Axes>"
            ]
          },
          "metadata": {
            "tags": [],
            "needs_background": "light"
          }
        }
      ]
    },
    {
      "cell_type": "code",
      "metadata": {
        "id": "XEUo260eAVdk",
        "colab_type": "code",
        "colab": {
          "base_uri": "https://localhost:8080/",
          "height": 733
        },
        "outputId": "96254ec6-cd1e-4fd9-bad5-1244435cccb3"
      },
      "source": [
        "# Converting numpyarray to list\n",
        "results = list()\n",
        "for line in conf_mat:\n",
        "  results.append([data for data in line])\n",
        "print(type(results), results)\n",
        "\n",
        "# visualize the results\n",
        "nclass_classification_mosaic_plot(len(results), results)"
      ],
      "execution_count": 163,
      "outputs": [
        {
          "output_type": "stream",
          "text": [
            "<class 'list'> [[5254, 47], [127, 487]]\n"
          ],
          "name": "stdout"
        },
        {
          "output_type": "display_data",
          "data": {
            "image/png": "[encoded data removed]",
            "text/plain": [
              "<Figure size 792x720 with 3 Axes>"
            ]
          },
          "metadata": {
            "tags": [],
            "needs_background": "light"
          }
        }
      ]
    },
    {
      "cell_type": "markdown",
      "metadata": {
        "id": "owAHAr46g7WP",
        "colab_type": "text"
      },
      "source": [
        "# **Testing The Model with user input**"
      ]
    },
    {
      "cell_type": "code",
      "metadata": {
        "id": "3XE_Ef7xhmqz",
        "colab_type": "code",
        "cellView": "both",
        "colab": {
          "base_uri": "https://localhost:8080/",
          "height": 70
        },
        "outputId": "ae492a9c-2979-43a1-d097-7db03f9dd367"
      },
      "source": [
        "text_data = \"In recent weeks, Microsoft has detected cyberattacks targeting people and organizations involved in the upcoming presidential election, including unsuccessful attacks on people associated with both the Trump and Biden campaigns, as detailed below. We have and will continue to defend our democracy against these attacks through notifications of such activity to impacted customers, security features in our products and services, and legal and technical disruptions. The activity we are announcing today makes clear that foreign activity groups have stepped up their efforts targeting the 2020 election as had been anticipated, and is consistent with what the U.S. government and others have reported. We also report here on attacks against other institutions and enterprises worldwide that reflect similar adversary activity.\" #@param {type:\"raw\"}\n",
        "print(text_data)\n",
        "x = [text_data,]\n",
        "\n",
        "tfidf_test = tfidf_vectorizer.transform(x)\n",
        "\n",
        "pred = model.predict(tfidf_test)\n",
        "\n",
        "pred\n",
        "\n",
        "print('This news is', pred[0])\n"
      ],
      "execution_count": 164,
      "outputs": [
        {
          "output_type": "stream",
          "text": [
            "In recent weeks, Microsoft has detected cyberattacks targeting people and organizations involved in the upcoming presidential election, including unsuccessful attacks on people associated with both the Trump and Biden campaigns, as detailed below. We have and will continue to defend our democracy against these attacks through notifications of such activity to impacted customers, security features in our products and services, and legal and technical disruptions. The activity we are announcing today makes clear that foreign activity groups have stepped up their efforts targeting the 2020 election as had been anticipated, and is consistent with what the U.S. government and others have reported. We also report here on attacks against other institutions and enterprises worldwide that reflect similar adversary activity.\n",
            "This news is FAKE\n"
          ],
          "name": "stdout"
        }
      ]
    }
  ]
}