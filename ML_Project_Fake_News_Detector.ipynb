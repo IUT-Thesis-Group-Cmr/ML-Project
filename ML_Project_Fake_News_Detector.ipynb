{
  "nbformat": 4,
  "nbformat_minor": 0,
  "metadata": {
    "colab": {
      "name": "ML-Project--Fake-News-Detector.ipynb",
      "provenance": [],
      "collapsed_sections": [],
      "mount_file_id": "1V7rlRWzwdjsGIOIKrdyVI3S_qT5W515v",
      "authorship_tag": "ABX9TyO6GKD1/EWVwrSAl35d5HkM",
      "include_colab_link": true
    },
    "kernelspec": {
      "name": "python3",
      "display_name": "Python 3"
    },
    "accelerator": "GPU"
  },
  "cells": [
    {
      "cell_type": "markdown",
      "metadata": {
        "id": "view-in-github",
        "colab_type": "text"
      },
      "source": [
        "<a href=\"https://colab.research.google.com/github/IUT-Thesis-Group-Cmr/ML-Project/blob/master/ML_Project_Fake_News_Detector.ipynb\" target=\"_parent\"><img src=\"https://colab.research.google.com/assets/colab-badge.svg\" alt=\"Open In Colab\"/></a>"
      ]
    },
    {
      "cell_type": "markdown",
      "metadata": {
        "id": "GmhGmFH7-3R4",
        "colab_type": "text"
      },
      "source": [
        "# **Initialization tweaks**\n",
        "* Initiating GoogleDrive mounting\n",
        "* Necessary Library's imports\n",
        "* Load Dataset [**Optional**]\n"
      ]
    },
    {
      "cell_type": "code",
      "metadata": {
        "id": "CYXk4whjzlHg",
        "colab_type": "code",
        "colab": {
          "base_uri": "https://localhost:8080/",
          "height": 34
        },
        "outputId": "4ac9781d-d41b-4a9f-ffff-1e30fd4f0440"
      },
      "source": [
        "#-Google Drive Access-Granting\n",
        "from google.colab import drive\n",
        "drive.mount('/content/drive')"
      ],
      "execution_count": 1,
      "outputs": [
        {
          "output_type": "stream",
          "text": [
            "Drive already mounted at /content/drive; to attempt to forcibly remount, call drive.mount(\"/content/drive\", force_remount=True).\n"
          ],
          "name": "stdout"
        }
      ]
    },
    {
      "cell_type": "code",
      "metadata": {
        "id": "5w4sSeGUL41N",
        "colab_type": "code",
        "colab": {
          "base_uri": "https://localhost:8080/",
          "height": 34
        },
        "outputId": "62a404fb-4d90-40a8-b55b-bb5086c85956"
      },
      "source": [
        "# files paths\n",
        "path = '/content/drive/My Drive/ThesisFile/datasets/ml-project/fake_real-news-dataset/'\n",
        "if path[-1] != '/':\n",
        "  path += '/'\n",
        "print('Good to go ✔')"
      ],
      "execution_count": 2,
      "outputs": [
        {
          "output_type": "stream",
          "text": [
            "Good to go ✔\n"
          ],
          "name": "stdout"
        }
      ]
    },
    {
      "cell_type": "code",
      "metadata": {
        "id": "6by1JrAb0YXY",
        "colab_type": "code",
        "colab": {
          "base_uri": "https://localhost:8080/",
          "height": 70
        },
        "outputId": "0c4036b8-0660-4f8e-e4c2-5d473281fab2"
      },
      "source": [
        "#-Library imports\n",
        "import pandas as pd\n",
        "import matplotlib\n",
        "import matplotlib.pyplot as plt\n",
        "import numpy as np\n",
        "import statistics\n",
        "import math \n",
        "import nltk\n",
        "import string\n",
        "import seaborn as sns\n",
        "from sklearn import preprocessing\n",
        "from sklearn import linear_model\n",
        "from sklearn import svm\n",
        "from sklearn import metrics\n",
        "from sklearn.utils import validation\n",
        "from sklearn.cluster import KMeans\n",
        "from sklearn.cluster import KMeans\n",
        "from sklearn.feature_extraction.text import TfidfVectorizer\n",
        "from sklearn.model_selection import train_test_split\n",
        "from sklearn.model_selection import KFold\n",
        "from sklearn.model_selection import StratifiedKFold\n",
        "from sklearn.model_selection import cross_val_score\n",
        "from sklearn.model_selection import cross_validate\n",
        "from sklearn.model_selection import GridSearchCV\n",
        "from sklearn.linear_model import LinearRegression, PassiveAggressiveClassifier\n",
        "from sklearn.decomposition import PCA\n",
        "from sklearn.preprocessing import normalize\n",
        "from sklearn.preprocessing import MinMaxScaler\n",
        "from sklearn.metrics import accuracy_score, pairwise_distances, mean_absolute_error, classification_report, confusion_matrix\n",
        "from sklearn.neighbors import KNeighborsClassifier\n",
        "from sklearn.datasets import make_blobs\n",
        "#Import Gaussian Naive Bayes model\n",
        "from sklearn.naive_bayes import GaussianNB\n",
        "from seaborn import heatmap\n",
        "from math import exp\n",
        "from random import randint, seed\n",
        "import itertools\n",
        "from statsmodels.graphics.mosaicplot import mosaic\n",
        "from matplotlib.patches import Patch\n",
        "from collections import deque\n",
        "\n",
        "%matplotlib inline"
      ],
      "execution_count": 3,
      "outputs": [
        {
          "output_type": "stream",
          "text": [
            "/usr/local/lib/python3.6/dist-packages/statsmodels/tools/_testing.py:19: FutureWarning: pandas.util.testing is deprecated. Use the functions in the public API at pandas.testing instead.\n",
            "  import pandas.util.testing as tm\n"
          ],
          "name": "stderr"
        }
      ]
    },
    {
      "cell_type": "code",
      "metadata": {
        "id": "RciTrIB5_wfa",
        "colab_type": "code",
        "colab": {}
      },
      "source": [
        "def nclass_classification_mosaic_plot(n_classes, results):\n",
        "    \"\"\"\n",
        "    build a mosaic plot from the results of a classification\n",
        "    \n",
        "    parameters:\n",
        "    n_classes: number of classes\n",
        "    results: results of the prediction in form of an array of arrays\n",
        "    \n",
        "    In case of 3 classes the prdiction could look like\n",
        "    [[10, 2, 4],\n",
        "     [1, 12, 3],\n",
        "     [2, 2, 9]\n",
        "    ]\n",
        "    where there is one array for each class and each array holds the\n",
        "    predictions for each class [class 1, class 2, class 3].\n",
        "    \n",
        "    This is just a prototype including colors for 6 classes.\n",
        "    \"\"\"\n",
        "    class_lists = [range(n_classes)]*2\n",
        "    mosaic_tuples = tuple(itertools.product(*class_lists))\n",
        "    \n",
        "    res_list = results[0]\n",
        "    for i, l in enumerate(results):\n",
        "        if i == 0:\n",
        "            pass\n",
        "        else:\n",
        "            tmp = deque(l)\n",
        "            tmp.rotate(-i)\n",
        "            res_list.extend(tmp)\n",
        "    data = {t:res_list[i] for i,t in enumerate(mosaic_tuples)}\n",
        "\n",
        "    fig, ax = plt.subplots(figsize=(11, 10))\n",
        "    plt.rcParams.update({'font.size': 16})\n",
        "\n",
        "    font_color = '#2c3e50'\n",
        "    pallet = [\n",
        "        '#6a89cc', \n",
        "        '#4a69bd', \n",
        "        '#1e3799', \n",
        "        '#0c2461',\n",
        "        '#82ccdd',\n",
        "        '#60a3bc',\n",
        "    ]\n",
        "    colors = deque(pallet[:n_classes])\n",
        "    all_colors = []\n",
        "    for i in range(n_classes):\n",
        "        if i > 0:\n",
        "            colors.rotate(-1)\n",
        "        all_colors.extend(colors)\n",
        "\n",
        "    props = {(str(a), str(b)):{'color':all_colors[i]} for i,(a, b) in enumerate(mosaic_tuples)}\n",
        "\n",
        "    labelizer = lambda k: ''\n",
        "\n",
        "    p = mosaic(data, labelizer=labelizer, properties=props, ax=ax)\n",
        "\n",
        "    title_font_dict = {\n",
        "        'fontsize': 20,\n",
        "        'color' : font_color,\n",
        "    }\n",
        "    axis_label_font_dict = {\n",
        "        'fontsize': 16,\n",
        "        'color' : font_color,\n",
        "    }\n",
        "\n",
        "    ax.tick_params(axis = \"x\", which = \"both\", bottom = False, top = False)\n",
        "    ax.axes.yaxis.set_ticks([])\n",
        "    ax.tick_params(axis='x', which='major', labelsize=14)\n",
        "\n",
        "    ax.set_title('Classification Report', fontdict=title_font_dict, pad=25)\n",
        "    ax.set_xlabel('Observed Class', fontdict=axis_label_font_dict, labelpad=10)\n",
        "    ax.set_ylabel('Predicted Class', fontdict=axis_label_font_dict, labelpad=35)\n",
        "\n",
        "    legend_elements = [Patch(facecolor=all_colors[i], label='Class {}'.format(i)) for i in range(n_classes)]\n",
        "    ax.legend(handles=legend_elements, bbox_to_anchor=(1,1.018), fontsize=16)\n",
        "\n",
        "    plt.tight_layout()\n",
        "    plt.show()"
      ],
      "execution_count": 4,
      "outputs": []
    },
    {
      "cell_type": "code",
      "metadata": {
        "id": "1r6F4B-BbzgI",
        "colab_type": "code",
        "colab": {
          "base_uri": "https://localhost:8080/",
          "height": 1000
        },
        "outputId": "9fed1a66-b819-4f57-b9fa-278bca75e25d"
      },
      "source": [
        "# Loading Dataset\n",
        "file0 = 'news.csv'\n",
        "file1 = 'Fake.csv'\n",
        "file2 = 'True.csv'\n",
        "\n",
        "df0 = pd.read_csv(path + file0)\n",
        "df1 = pd.read_csv(path + file1)\n",
        "df2 = pd.read_csv(path + file2)\n",
        "\n",
        "print(df0.columns, df0, sep='\\n', end='\\n\\n')\n",
        "print(df1.columns, df1, sep='\\n', end='\\n\\n')\n",
        "print(df2.columns, df2, sep='\\n', end='\\n\\n')\n",
        "\n",
        "df1['label'] = 'FAKE'\n",
        "df2['label'] = 'TRUE'\n",
        "\n",
        "dataset = pd.concat([df0[['title','text','label']] , df1[['title','text','label']] , df2[['title','text','label']]], ignore_index=True)\n",
        "\n",
        "dataset = dataset.sample(frac=1).reset_index(drop=True)\n",
        "print(dataset.columns, dataset.shape)\n",
        "dataset.tail()\n",
        "\n",
        "# print('Dataset Attributes::', dataset.columns)\n",
        "# print('Dataset Dim::', dataset.shape)\n",
        "# print(dataset.head())\n",
        "# print('\\nData Output::\\n', dataset.label)"
      ],
      "execution_count": 5,
      "outputs": [
        {
          "output_type": "stream",
          "text": [
            "Index(['Unnamed: 0', 'title', 'text', 'label'], dtype='object')\n",
            "      Unnamed: 0  ... label\n",
            "0           8476  ...  FAKE\n",
            "1          10294  ...  FAKE\n",
            "2           3608  ...  REAL\n",
            "3          10142  ...  FAKE\n",
            "4            875  ...  REAL\n",
            "...          ...  ...   ...\n",
            "6330        4490  ...  REAL\n",
            "6331        8062  ...  FAKE\n",
            "6332        8622  ...  FAKE\n",
            "6333        4021  ...  REAL\n",
            "6334        4330  ...  REAL\n",
            "\n",
            "[6335 rows x 4 columns]\n",
            "\n",
            "Index(['title', 'text', 'subject', 'date'], dtype='object')\n",
            "                                                   title  ...               date\n",
            "0       Donald Trump Sends Out Embarrassing New Year’...  ...  December 31, 2017\n",
            "1       Drunk Bragging Trump Staffer Started Russian ...  ...  December 31, 2017\n",
            "2       Sheriff David Clarke Becomes An Internet Joke...  ...  December 30, 2017\n",
            "3       Trump Is So Obsessed He Even Has Obama’s Name...  ...  December 29, 2017\n",
            "4       Pope Francis Just Called Out Donald Trump Dur...  ...  December 25, 2017\n",
            "...                                                  ...  ...                ...\n",
            "23476  McPain: John McCain Furious That Iran Treated ...  ...   January 16, 2016\n",
            "23477  JUSTICE? Yahoo Settles E-mail Privacy Class-ac...  ...   January 16, 2016\n",
            "23478  Sunnistan: US and Allied ‘Safe Zone’ Plan to T...  ...   January 15, 2016\n",
            "23479  How to Blow $700 Million: Al Jazeera America F...  ...   January 14, 2016\n",
            "23480  10 U.S. Navy Sailors Held by Iranian Military ...  ...   January 12, 2016\n",
            "\n",
            "[23481 rows x 4 columns]\n",
            "\n",
            "Index(['title', 'text', 'subject', 'date'], dtype='object')\n",
            "                                                   title  ...                date\n",
            "0      As U.S. budget fight looms, Republicans flip t...  ...  December 31, 2017 \n",
            "1      U.S. military to accept transgender recruits o...  ...  December 29, 2017 \n",
            "2      Senior U.S. Republican senator: 'Let Mr. Muell...  ...  December 31, 2017 \n",
            "3      FBI Russia probe helped by Australian diplomat...  ...  December 30, 2017 \n",
            "4      Trump wants Postal Service to charge 'much mor...  ...  December 29, 2017 \n",
            "...                                                  ...  ...                 ...\n",
            "21412  'Fully committed' NATO backs new U.S. approach...  ...    August 22, 2017 \n",
            "21413  LexisNexis withdrew two products from Chinese ...  ...    August 22, 2017 \n",
            "21414  Minsk cultural hub becomes haven from authorities  ...    August 22, 2017 \n",
            "21415  Vatican upbeat on possibility of Pope Francis ...  ...    August 22, 2017 \n",
            "21416  Indonesia to buy $1.14 billion worth of Russia...  ...    August 22, 2017 \n",
            "\n",
            "[21417 rows x 4 columns]\n",
            "\n",
            "Index(['title', 'text', 'label'], dtype='object') (51233, 3)\n"
          ],
          "name": "stdout"
        },
        {
          "output_type": "execute_result",
          "data": {
            "text/html": [
              "<div>\n",
              "<style scoped>\n",
              "    .dataframe tbody tr th:only-of-type {\n",
              "        vertical-align: middle;\n",
              "    }\n",
              "\n",
              "    .dataframe tbody tr th {\n",
              "        vertical-align: top;\n",
              "    }\n",
              "\n",
              "    .dataframe thead th {\n",
              "        text-align: right;\n",
              "    }\n",
              "</style>\n",
              "<table border=\"1\" class=\"dataframe\">\n",
              "  <thead>\n",
              "    <tr style=\"text-align: right;\">\n",
              "      <th></th>\n",
              "      <th>title</th>\n",
              "      <th>text</th>\n",
              "      <th>label</th>\n",
              "    </tr>\n",
              "  </thead>\n",
              "  <tbody>\n",
              "    <tr>\n",
              "      <th>51228</th>\n",
              "      <td>BREAKING: Trump Was Right! Trump Campaign Mana...</td>\n",
              "      <td>President Trump was right again! His campaign ...</td>\n",
              "      <td>FAKE</td>\n",
              "    </tr>\n",
              "    <tr>\n",
              "      <th>51229</th>\n",
              "      <td>Netanyahu Defeats Center-Left Rival In Israel'...</td>\n",
              "      <td>With nearly all votes counted in elections for...</td>\n",
              "      <td>REAL</td>\n",
              "    </tr>\n",
              "    <tr>\n",
              "      <th>51230</th>\n",
              "      <td>CBS Reporter Asks Putin How Comey’s Firing Wil...</td>\n",
              "      <td>Russian President Vladimir Putin got sassy wit...</td>\n",
              "      <td>FAKE</td>\n",
              "    </tr>\n",
              "    <tr>\n",
              "      <th>51231</th>\n",
              "      <td>More conservative Republicans say they won't b...</td>\n",
              "      <td>The fledgling rebellion against electing John ...</td>\n",
              "      <td>REAL</td>\n",
              "    </tr>\n",
              "    <tr>\n",
              "      <th>51232</th>\n",
              "      <td>GOP and Abortion in Age of ObamaCare: Time for...</td>\n",
              "      <td>As thousands descended on Washington last week...</td>\n",
              "      <td>REAL</td>\n",
              "    </tr>\n",
              "  </tbody>\n",
              "</table>\n",
              "</div>"
            ],
            "text/plain": [
              "                                                   title  ... label\n",
              "51228  BREAKING: Trump Was Right! Trump Campaign Mana...  ...  FAKE\n",
              "51229  Netanyahu Defeats Center-Left Rival In Israel'...  ...  REAL\n",
              "51230  CBS Reporter Asks Putin How Comey’s Firing Wil...  ...  FAKE\n",
              "51231  More conservative Republicans say they won't b...  ...  REAL\n",
              "51232  GOP and Abortion in Age of ObamaCare: Time for...  ...  REAL\n",
              "\n",
              "[5 rows x 3 columns]"
            ]
          },
          "metadata": {
            "tags": []
          },
          "execution_count": 5
        }
      ]
    },
    {
      "cell_type": "markdown",
      "metadata": {
        "id": "BRVFNlQWfk_r",
        "colab_type": "text"
      },
      "source": [
        "# **Analyzing Dataset**\n",
        "\n",
        "\n",
        "*   Determining the Labels(outputs) and Inputs\n",
        "\n"
      ]
    },
    {
      "cell_type": "code",
      "metadata": {
        "id": "0ZZ3UQvfhQ9G",
        "colab_type": "code",
        "colab": {
          "base_uri": "https://localhost:8080/",
          "height": 0
        },
        "outputId": "63c7e6ad-a4e5-4fdc-b21c-2c92900e46c0"
      },
      "source": [
        "# Outputs or Labels\n",
        "labels = dataset.label;\n",
        "print(labels)\n",
        "\n",
        "# Sample Data\n",
        "df = dataset['text']\n",
        "df"
      ],
      "execution_count": 6,
      "outputs": [
        {
          "output_type": "stream",
          "text": [
            "0        TRUE\n",
            "1        REAL\n",
            "2        FAKE\n",
            "3        TRUE\n",
            "4        REAL\n",
            "         ... \n",
            "51228    FAKE\n",
            "51229    REAL\n",
            "51230    FAKE\n",
            "51231    REAL\n",
            "51232    REAL\n",
            "Name: label, Length: 51233, dtype: object\n"
          ],
          "name": "stdout"
        },
        {
          "output_type": "execute_result",
          "data": {
            "text/plain": [
              "0        WASHINGTON (Reuters) - President Barack Obama ...\n",
              "1        If there’s one message the Republican presiden...\n",
              "2        Donald Trump just accused millions of American...\n",
              "3        SEOUL (Reuters) - South Korea s President Moon...\n",
              "4        On Monday morning, millions of Sarah Palin fan...\n",
              "                               ...                        \n",
              "51228    President Trump was right again! His campaign ...\n",
              "51229    With nearly all votes counted in elections for...\n",
              "51230    Russian President Vladimir Putin got sassy wit...\n",
              "51231    The fledgling rebellion against electing John ...\n",
              "51232    As thousands descended on Washington last week...\n",
              "Name: text, Length: 51233, dtype: object"
            ]
          },
          "metadata": {
            "tags": []
          },
          "execution_count": 6
        }
      ]
    },
    {
      "cell_type": "markdown",
      "metadata": {
        "id": "S4zs3liWjDny",
        "colab_type": "text"
      },
      "source": [
        "# **Splitting the dataset**\n",
        "\n",
        "*   Split the dataset into training and testing sets."
      ]
    },
    {
      "cell_type": "code",
      "metadata": {
        "id": "iw7uv66nj-pv",
        "colab_type": "code",
        "colab": {
          "base_uri": "https://localhost:8080/",
          "height": 622
        },
        "outputId": "925c93c0-0e43-4919-b95e-dcc2582f949b"
      },
      "source": [
        "# Split Dataset with a 8:2 ratio for training and testing\n",
        "#         sampple data:: the 'text' column only.\n",
        "x_train,x_test,y_train,y_test = train_test_split(df, labels, test_size=0.2, \n",
        "                                                 random_state=7)\n",
        "print(x_train)\n",
        "print(y_train)\n",
        "\n",
        "print(x_test)"
      ],
      "execution_count": 15,
      "outputs": [
        {
          "output_type": "stream",
          "text": [
            "6890     It s finally happened. The  baby parts  lie fa...\n",
            "45936    This wonderful lady is so right and so dead on...\n",
            "22230    (Reuters) - Republican Senator Rand Paul said ...\n",
            "40082    WASHINGTON (Reuters) - Republican U.S. preside...\n",
            "42905    As if the election of Donald Trump couldn t ge...\n",
            "                               ...                        \n",
            "13927    Yet another highly respected conservative is j...\n",
            "919      How can it possibly be legal for these terrori...\n",
            "38467    In Michigan, the upcoming election in 2018 pre...\n",
            "10742    WASHINGTON (Reuters) - A budget plan crucial t...\n",
            "49689    State Department officials under Secretary of ...\n",
            "Name: text, Length: 40986, dtype: object\n",
            "6890     FAKE\n",
            "45936    FAKE\n",
            "22230    TRUE\n",
            "40082    TRUE\n",
            "42905    FAKE\n",
            "         ... \n",
            "13927    FAKE\n",
            "919      FAKE\n",
            "38467    FAKE\n",
            "10742    TRUE\n",
            "49689    REAL\n",
            "Name: label, Length: 40986, dtype: object\n",
            "23499    WASHINGTON (Reuters) - U.S. banking lobbyists ...\n",
            "5965     .@MissDiagnosis: \"He's our president and I thi...\n",
            "47211    Republicans care more about protecting rapists...\n",
            "25930    JAKARTA (Reuters) - The closure of I Gusti Ngu...\n",
            "20885    Tune in to the Alternate Current Radio Network...\n",
            "                               ...                        \n",
            "28054    If there s anyone who can appreciate a good Do...\n",
            "12110    WASHINGTON (Reuters) - The United States on Mo...\n",
            "36322    WASHINGTON (Reuters) - Democrat Hillary Clinto...\n",
            "44194    Country singer Toby Keith won t be bullied int...\n",
            "44946    A play scheduled to open Saturday night in Chi...\n",
            "Name: text, Length: 10247, dtype: object\n"
          ],
          "name": "stdout"
        }
      ]
    },
    {
      "cell_type": "markdown",
      "metadata": {
        "id": "__6XR0KevMfv",
        "colab_type": "text"
      },
      "source": [
        "# **Dataset Preprocessing using a TfidfVectorizer**\n",
        "\n",
        "Let’s initialize a ***TfidfVectorizer*** with stop words from the English language and a maximum document frequency of 0.7 (terms with a higher document frequency will be discarded). Stop words are the most common words in a language that are to be filtered out before processing the natural language data. And a *TfidfVectorizer* turns a collection of raw documents into a matrix of TF-IDF features.\n",
        "\n",
        "*  **TF (Term Frequency)**: The number of times a word appears in a document is its Term Frequency. A higher value means a term appears more often than others, and so, the document is a good match when the term is part of the search terms.\n",
        "*  **IDF (Inverse Document Frequency):** Words that occur many times a document, but also occur many times in many others, may be irrelevant. IDF is a measure of how significant a term is in the entire corpus."
      ]
    },
    {
      "cell_type": "code",
      "metadata": {
        "id": "fHnwFNFixhag",
        "colab_type": "code",
        "colab": {
          "base_uri": "https://localhost:8080/",
          "height": 874
        },
        "outputId": "94794091-93fb-4cae-924d-f3ebdb4bf5bd"
      },
      "source": [
        "# Initialize a TfidfVectorizer\n",
        "tfidf_vectorizer = TfidfVectorizer(stop_words='english', max_df=0.7)\n",
        "\n",
        "# Fit and transform train set, transform test set\n",
        "tfidf_train = tfidf_vectorizer.fit_transform(x_train) \n",
        "tfidf_test = tfidf_vectorizer.transform(x_test)\n",
        "\n",
        "print(tfidf_test)"
      ],
      "execution_count": 8,
      "outputs": [
        {
          "output_type": "stream",
          "text": [
            "  (0, 126981)\t0.02658054350969727\n",
            "  (0, 126877)\t0.015255234542576362\n",
            "  (0, 124645)\t0.04536754025981358\n",
            "  (0, 124521)\t0.04769273031307352\n",
            "  (0, 123777)\t0.036822009513299336\n",
            "  (0, 123545)\t0.026851603779691584\n",
            "  (0, 123524)\t0.01610894048338669\n",
            "  (0, 123329)\t0.029921894440621898\n",
            "  (0, 123305)\t0.040588691273228755\n",
            "  (0, 123214)\t0.06196107582240093\n",
            "  (0, 123140)\t0.022421853427075287\n",
            "  (0, 123135)\t0.03490904910202198\n",
            "  (0, 123005)\t0.14456842379937657\n",
            "  (0, 122505)\t0.030613450341931144\n",
            "  (0, 122479)\t0.021593275348142347\n",
            "  (0, 122476)\t0.029604073896998723\n",
            "  (0, 121811)\t0.025525352113863545\n",
            "  (0, 118726)\t0.03058750104110412\n",
            "  (0, 117701)\t0.054561813040890264\n",
            "  (0, 117358)\t0.018060268597837045\n",
            "  (0, 117199)\t0.02069280921862768\n",
            "  (0, 116912)\t0.10177811166063251\n",
            "  (0, 115934)\t0.023941713270543168\n",
            "  (0, 115747)\t0.04470861748459486\n",
            "  (0, 115746)\t0.03508219174375593\n",
            "  :\t:\n",
            "  (10246, 25884)\t0.020874632051616347\n",
            "  (10246, 25867)\t0.050714822846148686\n",
            "  (10246, 25789)\t0.11192378246585925\n",
            "  (10246, 25256)\t0.06151974954242499\n",
            "  (10246, 24835)\t0.04376950637094524\n",
            "  (10246, 24635)\t0.03413096618685135\n",
            "  (10246, 23927)\t0.0647518795872648\n",
            "  (10246, 22487)\t0.08479203170325886\n",
            "  (10246, 21623)\t0.022824517052983596\n",
            "  (10246, 17729)\t0.05699846235522327\n",
            "  (10246, 17448)\t0.03158943775718405\n",
            "  (10246, 17367)\t0.06475069789813387\n",
            "  (10246, 17365)\t0.1130730187142318\n",
            "  (10246, 17204)\t0.03795781396510175\n",
            "  (10246, 16613)\t0.645645790915639\n",
            "  (10246, 16337)\t0.018544661724434516\n",
            "  (10246, 15162)\t0.09208914424176912\n",
            "  (10246, 14052)\t0.016718186295763052\n",
            "  (10246, 13801)\t0.03269839609473046\n",
            "  (10246, 13048)\t0.05184199887526093\n",
            "  (10246, 12934)\t0.02291536646616244\n",
            "  (10246, 10076)\t0.021933353392873854\n",
            "  (10246, 9752)\t0.04533268288777513\n",
            "  (10246, 9354)\t0.01646798210692573\n",
            "  (10246, 8589)\t0.04894193337780605\n"
          ],
          "name": "stdout"
        }
      ]
    },
    {
      "cell_type": "markdown",
      "metadata": {
        "id": "eXaW5IEN3qtz",
        "colab_type": "text"
      },
      "source": [
        "# **Learning Model Selection**\n",
        "\n",
        "Choose a Learning Model, Methodology or Schema for training the dataset.\n",
        "\n",
        "Here, as it's a classification problem, we are using a ***PassiveAggressiveClassifier*** due to the fact that we have vectorized the sample data during the preprocessing step using a *TfidfVectorizer*.\n",
        "\n",
        "For explaination purpose, **Passive Aggressive algorithms** are online learning algorithms. Such an algorithm remains passive for a correct classification outcome, and turns aggressive in the event of a miscalculation, updating and adjusting. Unlike most other algorithms, it does not converge. Its purpose is to make updates that correct the loss, causing very little change in the norm of the weight vector.\n"
      ]
    },
    {
      "cell_type": "code",
      "metadata": {
        "id": "beJfbKbToOlv",
        "colab_type": "code",
        "colab": {
          "base_uri": "https://localhost:8080/",
          "height": 118
        },
        "outputId": "434a83d4-842d-44c0-ee3a-e6015ab06f8c"
      },
      "source": [
        "# Initialize a PassiveAggressiveClassifier\n",
        "model = PassiveAggressiveClassifier(max_iter=50)\n",
        "model"
      ],
      "execution_count": 9,
      "outputs": [
        {
          "output_type": "execute_result",
          "data": {
            "text/plain": [
              "PassiveAggressiveClassifier(C=1.0, average=False, class_weight=None,\n",
              "                            early_stopping=False, fit_intercept=True,\n",
              "                            loss='hinge', max_iter=50, n_iter_no_change=5,\n",
              "                            n_jobs=None, random_state=None, shuffle=True,\n",
              "                            tol=0.001, validation_fraction=0.1, verbose=0,\n",
              "                            warm_start=False)"
            ]
          },
          "metadata": {
            "tags": []
          },
          "execution_count": 9
        }
      ]
    },
    {
      "cell_type": "markdown",
      "metadata": {
        "id": "qUrGSRHm7wwf",
        "colab_type": "text"
      },
      "source": [
        "# **Fitting the Model and Predicting its outcomes.**\n",
        "\n",
        "Here we will fit the model with the trained vectorized sample data from ```tfidf_train``` of the **TfidfVectorizer** and the ```y_train``` of the initial sample data."
      ]
    },
    {
      "cell_type": "code",
      "metadata": {
        "id": "kf8T-xIt73Rs",
        "colab_type": "code",
        "colab": {
          "base_uri": "https://localhost:8080/",
          "height": 67
        },
        "outputId": "6afca516-c428-468c-d34d-8acf92c86e49"
      },
      "source": [
        "# Fitting the Model with the tfidf_train & y_train.\n",
        "model.fit(tfidf_train,y_train)\n",
        "\n",
        "# Predict on the test set tfidf_test from the TfidfVectorizer\n",
        "y_pred = model.predict(tfidf_test)\n",
        "print('Predicted Outcomes -->', y_pred, y_pred.shape)\n",
        "\n",
        "#           and \n",
        "\n",
        "# Calculate the accuracy with accuracy_score()\n",
        "score = accuracy_score(y_test,y_pred)\n",
        "# score = model.score(tfidf_test,y_pred)\n",
        "print(f'\\nModel-Accuracy: {round(score*100,2)}%')"
      ],
      "execution_count": 10,
      "outputs": [
        {
          "output_type": "stream",
          "text": [
            "Predicted Outcomes --> ['TRUE' 'FAKE' 'FAKE' ... 'TRUE' 'FAKE' 'FAKE'] (10247,)\n",
            "\n",
            "Model-Accuracy: 97.44%\n"
          ],
          "name": "stdout"
        }
      ]
    },
    {
      "cell_type": "markdown",
      "metadata": {
        "id": "K5Bgu9cIwEiO",
        "colab_type": "text"
      },
      "source": [
        "# **Report and Visualization on the selected Model**\n",
        "\n",
        "From the Previous Step, after training and testing the model using *PassiveAggressiveClassifier* we got an *accuracy* of more than **97%** on the testing sample.\n",
        "\n",
        "For more insights, we will print out the **confusion matrix** to view the number of false and true negatives and positives.\n",
        "\n",
        "We will also print out the **heat map** generated from the confusion matrix.\n"
      ]
    },
    {
      "cell_type": "code",
      "metadata": {
        "id": "3zpDS9QBzHLG",
        "colab_type": "code",
        "colab": {
          "base_uri": "https://localhost:8080/",
          "height": 420
        },
        "outputId": "ad054f68-b323-4e8a-f94c-f55221cf804b"
      },
      "source": [
        "# Model Report\n",
        "report = classification_report(y_test,y_pred, labels=['FAKE','REAL'])\n",
        "\n",
        "print('----------------=====Model Report=====----------------\\n')\n",
        "print(report)\n",
        "print('------------------------------------------------------\\n')\n",
        "\n",
        "\n",
        "# Confusion-Matrix\n",
        "conf_mat = confusion_matrix(y_test,y_pred, labels=['FAKE','REAL'])\n",
        "\n",
        "print('::Confusion-Matrix::')\n",
        "print('',conf_mat)\n",
        "print('------------------------------------------------------\\n')\n",
        "\n",
        "\n",
        "# Model Precision: what percentage of positive tuples are labeled as such?\n",
        "print(\"Precision: \\t%.2f\\n\" % metrics.precision_score(y_test, y_pred, average='weighted'))\n",
        "\n",
        "# Model Recall: what percentage of positive tuples are labelled as such?\n",
        "print(\"Recall: \\t%.2f\\n\" % metrics.recall_score(y_test, y_pred, average='weighted'))\n",
        "print('------------------------------------------------------\\n')"
      ],
      "execution_count": 11,
      "outputs": [
        {
          "output_type": "stream",
          "text": [
            "----------------=====Model Report=====----------------\n",
            "\n",
            "              precision    recall  f1-score   support\n",
            "\n",
            "        FAKE       0.98      0.98      0.98      5407\n",
            "        REAL       0.87      0.78      0.82       592\n",
            "\n",
            "   micro avg       0.97      0.96      0.96      5999\n",
            "   macro avg       0.92      0.88      0.90      5999\n",
            "weighted avg       0.97      0.96      0.96      5999\n",
            "\n",
            "------------------------------------------------------\n",
            "\n",
            "::Confusion-Matrix::\n",
            " [[5306   61]\n",
            " [ 110  462]]\n",
            "------------------------------------------------------\n",
            "\n",
            "Precision: \t0.97\n",
            "\n",
            "Recall: \t0.97\n",
            "\n",
            "------------------------------------------------------\n",
            "\n"
          ],
          "name": "stdout"
        }
      ]
    },
    {
      "cell_type": "code",
      "metadata": {
        "id": "v6LwIFCY2MM-",
        "colab_type": "code",
        "colab": {
          "base_uri": "https://localhost:8080/",
          "height": 390
        },
        "outputId": "312cea7d-38ea-40b6-b138-41d0307813bc"
      },
      "source": [
        "# Visualization of confusion-matrix with a heat-map\n",
        "fig = plt.figure(figsize=(10,6))\n",
        "plt.title('Confusion Matrix')\n",
        "plt.xlabel('Predicted Label')\n",
        "plt.ylabel('True Label')\n",
        "\n",
        "sns.heatmap(conf_mat, annot=True, cmap=plt.cm.ocean_r,\n",
        "            xticklabels=['FAKE','REAL'], \n",
        "            yticklabels=['FAKE','REAL'])\n",
        "plt.show()\n"
      ],
      "execution_count": 12,
      "outputs": [
        {
          "output_type": "display_data",
          "data": {
            "image/png": "[encoded data removed]",
            "text/plain": [
              "<Figure size 720x432 with 2 Axes>"
            ]
          },
          "metadata": {
            "tags": [],
            "needs_background": "light"
          }
        }
      ]
    },
    {
      "cell_type": "code",
      "metadata": {
        "id": "XEUo260eAVdk",
        "colab_type": "code",
        "colab": {
          "base_uri": "https://localhost:8080/",
          "height": 733
        },
        "outputId": "bb8c9430-21e0-4f20-b107-6ae30c48dd03"
      },
      "source": [
        "# Converting numpyarray to list\n",
        "results = list()\n",
        "for line in conf_mat:\n",
        "  results.append([data for data in line])\n",
        "print(type(results), results)\n",
        "\n",
        "# visualize the results\n",
        "nclass_classification_mosaic_plot(len(results), results)"
      ],
      "execution_count": 13,
      "outputs": [
        {
          "output_type": "stream",
          "text": [
            "<class 'list'> [[5306, 61], [110, 462]]\n"
          ],
          "name": "stdout"
        },
        {
          "output_type": "display_data",
          "data": {
            "image/png": "[encoded data removed]",
            "text/plain": [
              "<Figure size 792x720 with 3 Axes>"
            ]
          },
          "metadata": {
            "tags": [],
            "needs_background": "light"
          }
        }
      ]
    },
    {
      "cell_type": "markdown",
      "metadata": {
        "id": "owAHAr46g7WP",
        "colab_type": "text"
      },
      "source": [
        "# **Testing The Model with user input**"
      ]
    },
    {
      "cell_type": "code",
      "metadata": {
        "id": "3XE_Ef7xhmqz",
        "colab_type": "code",
        "cellView": "both",
        "colab": {
          "base_uri": "https://localhost:8080/",
          "height": 70
        },
        "outputId": "b6e64d76-3e8b-40e1-eb1d-39b890484eac"
      },
      "source": [
        "text_data = \"In recent weeks, Microsoft has detected cyberattacks targeting people and organizations involved in the upcoming presidential election, including unsuccessful attacks on people associated with both the Trump and Biden campaigns, as detailed below. We have and will continue to defend our democracy against these attacks through notifications of such activity to impacted customers, security features in our products and services, and legal and technical disruptions. The activity we are announcing today makes clear that foreign activity groups have stepped up their efforts targeting the 2020 election as had been anticipated, and is consistent with what the U.S. government and others have reported. We also report here on attacks against other institutions and enterprises worldwide that reflect similar adversary activity.\" #@param {type:\"raw\"}\n",
        "print(text_data)\n",
        "x = [text_data,]\n",
        "\n",
        "tfidf_test = tfidf_vectorizer.transform(x)\n",
        "\n",
        "pred = model.predict(tfidf_test)\n",
        "\n",
        "pred\n",
        "\n",
        "print('This news is', pred[0])\n"
      ],
      "execution_count": 14,
      "outputs": [
        {
          "output_type": "stream",
          "text": [
            "In recent weeks, Microsoft has detected cyberattacks targeting people and organizations involved in the upcoming presidential election, including unsuccessful attacks on people associated with both the Trump and Biden campaigns, as detailed below. We have and will continue to defend our democracy against these attacks through notifications of such activity to impacted customers, security features in our products and services, and legal and technical disruptions. The activity we are announcing today makes clear that foreign activity groups have stepped up their efforts targeting the 2020 election as had been anticipated, and is consistent with what the U.S. government and others have reported. We also report here on attacks against other institutions and enterprises worldwide that reflect similar adversary activity.\n",
            "This news is REAL\n"
          ],
          "name": "stdout"
        }
      ]
    }
  ]
}