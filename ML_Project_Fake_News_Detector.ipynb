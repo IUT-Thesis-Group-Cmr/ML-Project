{
  "nbformat": 4,
  "nbformat_minor": 0,
  "metadata": {
    "colab": {
      "name": "ML-Project--Fake-News-Detector.ipynb",
      "provenance": [],
      "collapsed_sections": [],
      "authorship_tag": "ABX9TyMY4hFgcLRqSdXBEccNOZ8v",
      "include_colab_link": true
    },
    "kernelspec": {
      "name": "python3",
      "display_name": "Python 3"
    }
  },
  "cells": [
    {
      "cell_type": "markdown",
      "metadata": {
        "id": "view-in-github",
        "colab_type": "text"
      },
      "source": [
        "<a href=\"https://colab.research.google.com/github/IUT-Thesis-Group-Cmr/ML-Project/blob/master/ML_Project_Fake_News_Detector.ipynb\" target=\"_parent\"><img src=\"https://colab.research.google.com/assets/colab-badge.svg\" alt=\"Open In Colab\"/></a>"
      ]
    },
    {
      "cell_type": "markdown",
      "metadata": {
        "id": "GmhGmFH7-3R4",
        "colab_type": "text"
      },
      "source": [
        "# **Initialization tweaks**\n",
        "* Initiating GoogleDrive mounting\n",
        "* Necessary Library's imports\n",
        "* Load Dataset [**Optional**]\n"
      ]
    },
    {
      "cell_type": "code",
      "metadata": {
        "id": "CYXk4whjzlHg",
        "colab_type": "code",
        "colab": {
          "base_uri": "https://localhost:8080/",
          "height": 0
        },
        "outputId": "508b9cce-63c7-4751-b8ca-963676704881"
      },
      "source": [
        "#-Google Drive Access-Granting\n",
        "from google.colab import drive\n",
        "drive.mount('/content/drive')"
      ],
      "execution_count": 72,
      "outputs": [
        {
          "output_type": "stream",
          "text": [
            "Drive already mounted at /content/drive; to attempt to forcibly remount, call drive.mount(\"/content/drive\", force_remount=True).\n"
          ],
          "name": "stdout"
        }
      ]
    },
    {
      "cell_type": "code",
      "metadata": {
        "id": "6by1JrAb0YXY",
        "colab_type": "code",
        "colab": {}
      },
      "source": [
        "#-Library imports\n",
        "import pandas as pd\n",
        "import matplotlib\n",
        "import matplotlib.pyplot as plt\n",
        "import numpy as np\n",
        "import statistics\n",
        "import math \n",
        "import nltk\n",
        "import string\n",
        "import seaborn as sns\n",
        "from sklearn import preprocessing\n",
        "from sklearn import linear_model\n",
        "from sklearn import svm\n",
        "from sklearn import metrics\n",
        "from sklearn.utils import validation\n",
        "from sklearn.cluster import KMeans\n",
        "from sklearn.cluster import KMeans\n",
        "from sklearn.feature_extraction.text import TfidfVectorizer\n",
        "from sklearn.model_selection import train_test_split\n",
        "from sklearn.model_selection import KFold\n",
        "from sklearn.model_selection import StratifiedKFold\n",
        "from sklearn.model_selection import cross_val_score\n",
        "from sklearn.model_selection import cross_validate\n",
        "from sklearn.model_selection import GridSearchCV\n",
        "from sklearn.linear_model import LinearRegression, PassiveAggressiveClassifier\n",
        "from sklearn.decomposition import PCA\n",
        "from sklearn.preprocessing import normalize\n",
        "from sklearn.preprocessing import MinMaxScaler\n",
        "from sklearn.metrics import accuracy_score, pairwise_distances, mean_absolute_error, classification_report, confusion_matrix\n",
        "from sklearn.neighbors import KNeighborsClassifier\n",
        "from sklearn.datasets import make_blobs\n",
        "#Import Gaussian Naive Bayes model\n",
        "from sklearn.naive_bayes import GaussianNB\n",
        "from seaborn import heatmap\n",
        "from math import exp\n",
        "from random import randint, seed\n",
        "import itertools\n",
        "\n",
        "%matplotlib inline"
      ],
      "execution_count": 73,
      "outputs": []
    },
    {
      "cell_type": "code",
      "metadata": {
        "id": "1r6F4B-BbzgI",
        "colab_type": "code",
        "colab": {
          "base_uri": "https://localhost:8080/",
          "height": 0
        },
        "outputId": "fb686e1e-c716-45cd-ba11-a54be7e2ef23"
      },
      "source": [
        "# Loading Dataset\n",
        "filePath = '/content/drive/My Drive/ThesisFile/datasets/ml-project/news.csv'\n",
        "dataset = pd.read_csv(filePath)\n",
        "\n",
        "print('Dataset Attributes::', dataset.columns)\n",
        "print('Dataset Dim::', dataset.shape)\n",
        "print(dataset.head())\n",
        "print('\\nData Output::\\n', dataset.label)"
      ],
      "execution_count": 74,
      "outputs": [
        {
          "output_type": "stream",
          "text": [
            "Dataset Attributes:: Index(['Unnamed: 0', 'title', 'text', 'label'], dtype='object')\n",
            "Dataset Dim:: (6335, 4)\n",
            "   Unnamed: 0  ... label\n",
            "0        8476  ...  FAKE\n",
            "1       10294  ...  FAKE\n",
            "2        3608  ...  REAL\n",
            "3       10142  ...  FAKE\n",
            "4         875  ...  REAL\n",
            "\n",
            "[5 rows x 4 columns]\n",
            "\n",
            "Data Output::\n",
            " 0       FAKE\n",
            "1       FAKE\n",
            "2       REAL\n",
            "3       FAKE\n",
            "4       REAL\n",
            "        ... \n",
            "6330    REAL\n",
            "6331    FAKE\n",
            "6332    FAKE\n",
            "6333    REAL\n",
            "6334    REAL\n",
            "Name: label, Length: 6335, dtype: object\n"
          ],
          "name": "stdout"
        }
      ]
    },
    {
      "cell_type": "markdown",
      "metadata": {
        "id": "BRVFNlQWfk_r",
        "colab_type": "text"
      },
      "source": [
        "# **Analyzing Dataset**\n",
        "\n",
        "\n",
        "*   Determining the Labels(outputs) and Inputs\n",
        "\n"
      ]
    },
    {
      "cell_type": "code",
      "metadata": {
        "id": "0ZZ3UQvfhQ9G",
        "colab_type": "code",
        "colab": {
          "base_uri": "https://localhost:8080/",
          "height": 0
        },
        "outputId": "99a7defe-86e4-41f2-8308-acce68648735"
      },
      "source": [
        "# Outputs or Labels\n",
        "labels = dataset.label;\n",
        "print(labels)\n",
        "\n",
        "# Sample Data\n",
        "df = dataset[['title','text']]\n",
        "df"
      ],
      "execution_count": 75,
      "outputs": [
        {
          "output_type": "stream",
          "text": [
            "0       FAKE\n",
            "1       FAKE\n",
            "2       REAL\n",
            "3       FAKE\n",
            "4       REAL\n",
            "        ... \n",
            "6330    REAL\n",
            "6331    FAKE\n",
            "6332    FAKE\n",
            "6333    REAL\n",
            "6334    REAL\n",
            "Name: label, Length: 6335, dtype: object\n"
          ],
          "name": "stdout"
        },
        {
          "output_type": "execute_result",
          "data": {
            "text/html": [
              "<div>\n",
              "<style scoped>\n",
              "    .dataframe tbody tr th:only-of-type {\n",
              "        vertical-align: middle;\n",
              "    }\n",
              "\n",
              "    .dataframe tbody tr th {\n",
              "        vertical-align: top;\n",
              "    }\n",
              "\n",
              "    .dataframe thead th {\n",
              "        text-align: right;\n",
              "    }\n",
              "</style>\n",
              "<table border=\"1\" class=\"dataframe\">\n",
              "  <thead>\n",
              "    <tr style=\"text-align: right;\">\n",
              "      <th></th>\n",
              "      <th>title</th>\n",
              "      <th>text</th>\n",
              "    </tr>\n",
              "  </thead>\n",
              "  <tbody>\n",
              "    <tr>\n",
              "      <th>0</th>\n",
              "      <td>You Can Smell Hillary’s Fear</td>\n",
              "      <td>Daniel Greenfield, a Shillman Journalism Fello...</td>\n",
              "    </tr>\n",
              "    <tr>\n",
              "      <th>1</th>\n",
              "      <td>Watch The Exact Moment Paul Ryan Committed Pol...</td>\n",
              "      <td>Google Pinterest Digg Linkedin Reddit Stumbleu...</td>\n",
              "    </tr>\n",
              "    <tr>\n",
              "      <th>2</th>\n",
              "      <td>Kerry to go to Paris in gesture of sympathy</td>\n",
              "      <td>U.S. Secretary of State John F. Kerry said Mon...</td>\n",
              "    </tr>\n",
              "    <tr>\n",
              "      <th>3</th>\n",
              "      <td>Bernie supporters on Twitter erupt in anger ag...</td>\n",
              "      <td>— Kaydee King (@KaydeeKing) November 9, 2016 T...</td>\n",
              "    </tr>\n",
              "    <tr>\n",
              "      <th>4</th>\n",
              "      <td>The Battle of New York: Why This Primary Matters</td>\n",
              "      <td>It's primary day in New York and front-runners...</td>\n",
              "    </tr>\n",
              "    <tr>\n",
              "      <th>...</th>\n",
              "      <td>...</td>\n",
              "      <td>...</td>\n",
              "    </tr>\n",
              "    <tr>\n",
              "      <th>6330</th>\n",
              "      <td>State Department says it can't find emails fro...</td>\n",
              "      <td>The State Department told the Republican Natio...</td>\n",
              "    </tr>\n",
              "    <tr>\n",
              "      <th>6331</th>\n",
              "      <td>The ‘P’ in PBS Should Stand for ‘Plutocratic’ ...</td>\n",
              "      <td>The ‘P’ in PBS Should Stand for ‘Plutocratic’ ...</td>\n",
              "    </tr>\n",
              "    <tr>\n",
              "      <th>6332</th>\n",
              "      <td>Anti-Trump Protesters Are Tools of the Oligarc...</td>\n",
              "      <td>Anti-Trump Protesters Are Tools of the Oligar...</td>\n",
              "    </tr>\n",
              "    <tr>\n",
              "      <th>6333</th>\n",
              "      <td>In Ethiopia, Obama seeks progress on peace, se...</td>\n",
              "      <td>ADDIS ABABA, Ethiopia —President Obama convene...</td>\n",
              "    </tr>\n",
              "    <tr>\n",
              "      <th>6334</th>\n",
              "      <td>Jeb Bush Is Suddenly Attacking Trump. Here's W...</td>\n",
              "      <td>Jeb Bush Is Suddenly Attacking Trump. Here's W...</td>\n",
              "    </tr>\n",
              "  </tbody>\n",
              "</table>\n",
              "<p>6335 rows × 2 columns</p>\n",
              "</div>"
            ],
            "text/plain": [
              "                                                  title                                               text\n",
              "0                          You Can Smell Hillary’s Fear  Daniel Greenfield, a Shillman Journalism Fello...\n",
              "1     Watch The Exact Moment Paul Ryan Committed Pol...  Google Pinterest Digg Linkedin Reddit Stumbleu...\n",
              "2           Kerry to go to Paris in gesture of sympathy  U.S. Secretary of State John F. Kerry said Mon...\n",
              "3     Bernie supporters on Twitter erupt in anger ag...  — Kaydee King (@KaydeeKing) November 9, 2016 T...\n",
              "4      The Battle of New York: Why This Primary Matters  It's primary day in New York and front-runners...\n",
              "...                                                 ...                                                ...\n",
              "6330  State Department says it can't find emails fro...  The State Department told the Republican Natio...\n",
              "6331  The ‘P’ in PBS Should Stand for ‘Plutocratic’ ...  The ‘P’ in PBS Should Stand for ‘Plutocratic’ ...\n",
              "6332  Anti-Trump Protesters Are Tools of the Oligarc...   Anti-Trump Protesters Are Tools of the Oligar...\n",
              "6333  In Ethiopia, Obama seeks progress on peace, se...  ADDIS ABABA, Ethiopia —President Obama convene...\n",
              "6334  Jeb Bush Is Suddenly Attacking Trump. Here's W...  Jeb Bush Is Suddenly Attacking Trump. Here's W...\n",
              "\n",
              "[6335 rows x 2 columns]"
            ]
          },
          "metadata": {
            "tags": []
          },
          "execution_count": 75
        }
      ]
    },
    {
      "cell_type": "markdown",
      "metadata": {
        "id": "S4zs3liWjDny",
        "colab_type": "text"
      },
      "source": [
        "# **Splitting the dataset**\n",
        "\n",
        "*   Split the dataset into training and testing sets."
      ]
    },
    {
      "cell_type": "code",
      "metadata": {
        "id": "iw7uv66nj-pv",
        "colab_type": "code",
        "colab": {
          "base_uri": "https://localhost:8080/",
          "height": 0
        },
        "outputId": "569b1238-58d4-453c-f3a2-6c2a8347b449"
      },
      "source": [
        "# Split Dataset with a 8:2 ratio for training and testing\n",
        "#         sampple data:: the 'text' column only.\n",
        "x_train,x_test,y_train,y_test = train_test_split(df['text'], labels, test_size=0.2, \n",
        "                                                 random_state=7)\n",
        "print(x_train)\n",
        "print(y_train)"
      ],
      "execution_count": 76,
      "outputs": [
        {
          "output_type": "stream",
          "text": [
            "6237    The head of a leading survivalist group has ma...\n",
            "3722    ‹ › Arnaldo Rodgers is a trained and educated ...\n",
            "5774    Patty Sanchez, 51, used to eat 13,000 calories...\n",
            "336     But Benjamin Netanyahu’s reelection was regard...\n",
            "3622    John Kasich was killing it with these Iowa vot...\n",
            "                              ...                        \n",
            "5699                                                     \n",
            "2550    It’s not that Americans won’t elect wealthy pr...\n",
            "537     Anyone writing sentences like ‘nevertheless fu...\n",
            "1220    More Catholics are in Congress than ever befor...\n",
            "4271    It was hosted by CNN, and the presentation was...\n",
            "Name: text, Length: 5068, dtype: object\n",
            "6237    FAKE\n",
            "3722    FAKE\n",
            "5774    FAKE\n",
            "336     REAL\n",
            "3622    REAL\n",
            "        ... \n",
            "5699    FAKE\n",
            "2550    REAL\n",
            "537     REAL\n",
            "1220    REAL\n",
            "4271    REAL\n",
            "Name: label, Length: 5068, dtype: object\n"
          ],
          "name": "stdout"
        }
      ]
    },
    {
      "cell_type": "markdown",
      "metadata": {
        "id": "__6XR0KevMfv",
        "colab_type": "text"
      },
      "source": [
        "# **Dataset Preprocessing using a TfidfVectorizer**\n",
        "\n",
        "Let’s initialize a ***TfidfVectorizer*** with stop words from the English language and a maximum document frequency of 0.7 (terms with a higher document frequency will be discarded). Stop words are the most common words in a language that are to be filtered out before processing the natural language data. And a *TfidfVectorizer* turns a collection of raw documents into a matrix of TF-IDF features.\n",
        "\n",
        "*  **TF (Term Frequency)**: The number of times a word appears in a document is its Term Frequency. A higher value means a term appears more often than others, and so, the document is a good match when the term is part of the search terms.\n",
        "*  **IDF (Inverse Document Frequency):** Words that occur many times a document, but also occur many times in many others, may be irrelevant. IDF is a measure of how significant a term is in the entire corpus."
      ]
    },
    {
      "cell_type": "code",
      "metadata": {
        "id": "fHnwFNFixhag",
        "colab_type": "code",
        "colab": {
          "base_uri": "https://localhost:8080/",
          "height": 0
        },
        "outputId": "8f0e0460-e415-4f6d-8ea1-823c87e90422"
      },
      "source": [
        "# Initialize a TfidfVectorizer\n",
        "tfidf_vectorizer = TfidfVectorizer(stop_words='english', max_df=0.7)\n",
        "\n",
        "# Fit and transform train set, transform test set\n",
        "tfidf_train = tfidf_vectorizer.fit_transform(x_train) \n",
        "tfidf_test = tfidf_vectorizer.transform(x_test)\n",
        "\n",
        "print(tfidf_test)"
      ],
      "execution_count": 77,
      "outputs": [
        {
          "output_type": "stream",
          "text": [
            "  (0, 60731)\t0.05899712902382916\n",
            "  (0, 60684)\t0.033385466151529625\n",
            "  (0, 60271)\t0.04581143542258741\n",
            "  (0, 60261)\t0.07937859313949312\n",
            "  (0, 59116)\t0.10997273171965094\n",
            "  (0, 59036)\t0.08042180974421559\n",
            "  (0, 58654)\t0.07128159375531905\n",
            "  (0, 58335)\t0.0678398429566027\n",
            "  (0, 57086)\t0.12429244186413906\n",
            "  (0, 55170)\t0.20939665348422057\n",
            "  (0, 54706)\t0.035492943055135416\n",
            "  (0, 54394)\t0.10596727423829927\n",
            "  (0, 54238)\t0.06234899619642803\n",
            "  (0, 53749)\t0.04942070163765446\n",
            "  (0, 53518)\t0.117529167732626\n",
            "  (0, 53144)\t0.059982387365669215\n",
            "  (0, 52555)\t0.14065295472127948\n",
            "  (0, 52483)\t0.07360851972393109\n",
            "  (0, 51960)\t0.14065295472127948\n",
            "  (0, 51955)\t0.030414611451489323\n",
            "  (0, 51663)\t0.12057034351821985\n",
            "  (0, 51527)\t0.08134873077710283\n",
            "  (0, 51159)\t0.053278054236854326\n",
            "  (0, 51005)\t0.07360851972393109\n",
            "  (0, 50068)\t0.06481045119580665\n",
            "  :\t:\n",
            "  (1266, 16835)\t0.08080116269909657\n",
            "  (1266, 16385)\t0.0655727278454052\n",
            "  (1266, 15999)\t0.03279926109441314\n",
            "  (1266, 14890)\t0.05544599110567492\n",
            "  (1266, 13110)\t0.06697165573835866\n",
            "  (1266, 12885)\t0.05404331760933019\n",
            "  (1266, 12792)\t0.052054416965658004\n",
            "  (1266, 11999)\t0.09393931399068145\n",
            "  (1266, 11425)\t0.061215890922102396\n",
            "  (1266, 11275)\t0.03975222944194533\n",
            "  (1266, 10398)\t0.03928759838998747\n",
            "  (1266, 10334)\t0.052485971705883705\n",
            "  (1266, 9807)\t0.47248142728953435\n",
            "  (1266, 9082)\t0.06889577674672712\n",
            "  (1266, 8639)\t0.09860931312297018\n",
            "  (1266, 7209)\t0.05947909473390904\n",
            "  (1266, 7127)\t0.12219547760308587\n",
            "  (1266, 7021)\t0.09258263295223065\n",
            "  (1266, 6653)\t0.05532410291136702\n",
            "  (1266, 6288)\t0.04255750958351483\n",
            "  (1266, 5568)\t0.04067869750578144\n",
            "  (1266, 5070)\t0.08544954436342893\n",
            "  (1266, 4297)\t0.09929470490549547\n",
            "  (1266, 2510)\t0.04365670001733164\n",
            "  (1266, 2365)\t0.06671538208893119\n"
          ],
          "name": "stdout"
        }
      ]
    },
    {
      "cell_type": "markdown",
      "metadata": {
        "id": "eXaW5IEN3qtz",
        "colab_type": "text"
      },
      "source": [
        "# **Learning Model Selection**\n",
        "\n",
        "Choose a Learning Model, Methodology or Schema for training the dataset.\n",
        "\n",
        "Here, as it's a classification problem, we are using a ***PassiveAggressiveClassifier*** due to the fact that we have vectorized the sample data during the preprocessing step using a *TfidfVectorizer*.\n",
        "\n",
        "For explaination purpose, **Passive Aggressive algorithms** are online learning algorithms. Such an algorithm remains passive for a correct classification outcome, and turns aggressive in the event of a miscalculation, updating and adjusting. Unlike most other algorithms, it does not converge. Its purpose is to make updates that correct the loss, causing very little change in the norm of the weight vector.\n"
      ]
    },
    {
      "cell_type": "code",
      "metadata": {
        "id": "beJfbKbToOlv",
        "colab_type": "code",
        "colab": {
          "base_uri": "https://localhost:8080/",
          "height": 118
        },
        "outputId": "99ef6e52-0671-4da4-c163-cf7278f0592b"
      },
      "source": [
        "# DataFlair - Initialize a PassiveAggressiveClassifier\n",
        "model = PassiveAggressiveClassifier(max_iter=50)\n",
        "model"
      ],
      "execution_count": 78,
      "outputs": [
        {
          "output_type": "execute_result",
          "data": {
            "text/plain": [
              "PassiveAggressiveClassifier(C=1.0, average=False, class_weight=None,\n",
              "                            early_stopping=False, fit_intercept=True,\n",
              "                            loss='hinge', max_iter=50, n_iter_no_change=5,\n",
              "                            n_jobs=None, random_state=None, shuffle=True,\n",
              "                            tol=0.001, validation_fraction=0.1, verbose=0,\n",
              "                            warm_start=False)"
            ]
          },
          "metadata": {
            "tags": []
          },
          "execution_count": 78
        }
      ]
    },
    {
      "cell_type": "markdown",
      "metadata": {
        "id": "qUrGSRHm7wwf",
        "colab_type": "text"
      },
      "source": [
        "# **Fitting the Model and Predicting its outcomes.**\n",
        "\n",
        "Here we will fit the model with the trained vectorized sample data from ```tfidf_train``` of the **TfidfVectorizer** and the ```y_train``` of the initial sample data."
      ]
    },
    {
      "cell_type": "code",
      "metadata": {
        "id": "kf8T-xIt73Rs",
        "colab_type": "code",
        "colab": {
          "base_uri": "https://localhost:8080/",
          "height": 67
        },
        "outputId": "130a703d-a1a9-4129-d446-0447ac67b077"
      },
      "source": [
        "# Fitting the Model with the tfidf_train & y_train.\n",
        "model.fit(tfidf_train,y_train)\n",
        "\n",
        "# Predict on the test set tfidf_test from the TfidfVectorizer\n",
        "y_pred = model.predict(tfidf_test)\n",
        "print('Predicted Outcomes -->', y_pred, y_pred.shape)\n",
        "\n",
        "#           and \n",
        "\n",
        "# Calculate the accuracy with accuracy_score()\n",
        "score = accuracy_score(y_test,y_pred)\n",
        "print(f'\\nModel-Accuracy: {round(score*100,2)}%')"
      ],
      "execution_count": 79,
      "outputs": [
        {
          "output_type": "stream",
          "text": [
            "Predicted Outcomes --> ['REAL' 'FAKE' 'REAL' ... 'REAL' 'FAKE' 'REAL'] (1267,)\n",
            "\n",
            "Model-Accuracy: 92.66%\n"
          ],
          "name": "stdout"
        }
      ]
    },
    {
      "cell_type": "markdown",
      "metadata": {
        "id": "K5Bgu9cIwEiO",
        "colab_type": "text"
      },
      "source": [
        "# **Report and Visualization on the selected Model**\n",
        "\n",
        "From the Previous Step, after training and testing the model using *PassiveAggressiveClassifier* we got an *accuracy* of more than **92.66%** on the testing sample.\n",
        "\n",
        "For more insights, we will print out the **confusion matrix** to view the number of false and true negatives and positives.\n",
        "\n",
        "We will also print out the **heat map** generated from the confusion matrix.\n"
      ]
    },
    {
      "cell_type": "code",
      "metadata": {
        "id": "3zpDS9QBzHLG",
        "colab_type": "code",
        "colab": {
          "base_uri": "https://localhost:8080/",
          "height": 420
        },
        "outputId": "6db0c541-6edc-4e19-913e-273c66b7f2a0"
      },
      "source": [
        "# Model Report\n",
        "report = classification_report(y_test,y_pred, labels=['FAKE','REAL'])\n",
        "\n",
        "print('----------------=====Model Report=====----------------\\n')\n",
        "print(report)\n",
        "print('------------------------------------------------------\\n')\n",
        "\n",
        "\n",
        "# Confusion-Matrix\n",
        "conf_mat = confusion_matrix(y_test,y_pred, labels=['FAKE','REAL'])\n",
        "\n",
        "print('::Confusion-Matrix::')\n",
        "print('',conf_mat)\n",
        "print('------------------------------------------------------\\n')\n",
        "\n",
        "\n",
        "# Model Precision: what percentage of positive tuples are labeled as such?\n",
        "print(\"Precision: \\t%.2f\\n\" % metrics.precision_score(y_test, y_pred, average='weighted'))\n",
        "\n",
        "# Model Recall: what percentage of positive tuples are labelled as such?\n",
        "print(\"Recall: \\t%.2f\\n\" % metrics.recall_score(y_test, y_pred, average='weighted'))\n",
        "print('------------------------------------------------------\\n')"
      ],
      "execution_count": 80,
      "outputs": [
        {
          "output_type": "stream",
          "text": [
            "----------------=====Model Report=====----------------\n",
            "\n",
            "              precision    recall  f1-score   support\n",
            "\n",
            "        FAKE       0.93      0.92      0.93       638\n",
            "        REAL       0.92      0.93      0.93       629\n",
            "\n",
            "    accuracy                           0.93      1267\n",
            "   macro avg       0.93      0.93      0.93      1267\n",
            "weighted avg       0.93      0.93      0.93      1267\n",
            "\n",
            "------------------------------------------------------\n",
            "\n",
            "::Confusion-Matrix::\n",
            " [[586  52]\n",
            " [ 41 588]]\n",
            "------------------------------------------------------\n",
            "\n",
            "Precision: \t0.93\n",
            "\n",
            "Recall: \t0.93\n",
            "\n",
            "------------------------------------------------------\n",
            "\n"
          ],
          "name": "stdout"
        }
      ]
    },
    {
      "cell_type": "code",
      "metadata": {
        "id": "v6LwIFCY2MM-",
        "colab_type": "code",
        "colab": {
          "base_uri": "https://localhost:8080/",
          "height": 281
        },
        "outputId": "f6bf2e10-96b9-4f54-8264-37572a6437a4"
      },
      "source": [
        "# Visualization of confusion-matrix with a heat-map\n",
        "# fig = plt.figure(figsize=(10,6))\n",
        "plt.title('Confusion Matrix')\n",
        "plt.xlabel('Predicted Label')\n",
        "plt.ylabel('True Label')\n",
        "\n",
        "sns.heatmap(conf_mat, annot=True, cmap=plt.cm.ocean_r,\n",
        "            xticklabels=['FAKE','REAL'], \n",
        "            yticklabels=['FAKE','REAL'])\n",
        "plt.show()\n"
      ],
      "execution_count": 81,
      "outputs": [
        {
          "output_type": "display_data",
          "data": {
            "image/png": "[encoded data removed]",
            "text/plain": [
              "<Figure size 432x288 with 2 Axes>"
            ]
          },
          "metadata": {
            "tags": [],
            "needs_background": "light"
          }
        }
      ]
    }
  ]
}