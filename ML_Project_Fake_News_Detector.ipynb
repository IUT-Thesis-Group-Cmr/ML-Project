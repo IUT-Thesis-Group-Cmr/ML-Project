{
  "nbformat": 4,
  "nbformat_minor": 0,
  "metadata": {
    "colab": {
      "name": "ML-Project--Fake-News-Detector.ipynb",
      "provenance": [],
      "collapsed_sections": [],
      "authorship_tag": "ABX9TyP4dVQR0eZhfzK4kHHT933T",
      "include_colab_link": true
    },
    "kernelspec": {
      "name": "python3",
      "display_name": "Python 3"
    }
  },
  "cells": [
    {
      "cell_type": "markdown",
      "metadata": {
        "id": "view-in-github",
        "colab_type": "text"
      },
      "source": [
        "<a href=\"https://colab.research.google.com/github/IUT-Thesis-Group-Cmr/ML-Project/blob/master/ML_Project_Fake_News_Detector.ipynb\" target=\"_parent\"><img src=\"https://colab.research.google.com/assets/colab-badge.svg\" alt=\"Open In Colab\"/></a>"
      ]
    },
    {
      "cell_type": "markdown",
      "metadata": {
        "id": "GmhGmFH7-3R4",
        "colab_type": "text"
      },
      "source": [
        "# **Initialization tweaks**\n",
        "* Initiating GoogleDrive mounting\n",
        "* Necessary Library's imports\n",
        "* Load Dataset [**Optional**]\n"
      ]
    },
    {
      "cell_type": "code",
      "metadata": {
        "id": "CYXk4whjzlHg",
        "colab_type": "code",
        "colab": {
          "base_uri": "https://localhost:8080/",
          "height": 121
        },
        "outputId": "c00d31e9-fe79-481f-b4be-59cd850762cb"
      },
      "source": [
        "#-Google Drive Access-Granting\n",
        "from google.colab import drive\n",
        "drive.mount('/content/drive')"
      ],
      "execution_count": 1,
      "outputs": [
        {
          "output_type": "stream",
          "text": [
            "Go to this URL in a browser: https://accounts.google.com/o/oauth2/auth?client_id=947318989803-6bn6qk8qdgf4n4g3pfee6491hc0brc4i.apps.googleusercontent.com&redirect_uri=urn%3aietf%3awg%3aoauth%3a2.0%3aoob&scope=email%20https%3a%2f%2fwww.googleapis.com%2fauth%2fdocs.test%20https%3a%2f%2fwww.googleapis.com%2fauth%2fdrive%20https%3a%2f%2fwww.googleapis.com%2fauth%2fdrive.photos.readonly%20https%3a%2f%2fwww.googleapis.com%2fauth%2fpeopleapi.readonly&response_type=code\n",
            "\n",
            "Enter your authorization code:\n",
            "4/3wGabtJdgeuFI_OhDUmISh4fA6kACm5DWPDbEj00ZNvL2OLrUy6xm_M\n",
            "Mounted at /content/drive\n"
          ],
          "name": "stdout"
        }
      ]
    },
    {
      "cell_type": "code",
      "metadata": {
        "id": "5w4sSeGUL41N",
        "colab_type": "code",
        "colab": {
          "base_uri": "https://localhost:8080/",
          "height": 34
        },
        "outputId": "0e4fd1d6-3292-4405-b25b-339f5609b314"
      },
      "source": [
        "# files paths\n",
        "path = '/content/drive/My Drive/ThesisFile/datasets/ml-project/fake_real-news-dataset/'\n",
        "if path[-1] != '/':\n",
        "  path += '/'\n",
        "print('Good to go ✔')"
      ],
      "execution_count": 2,
      "outputs": [
        {
          "output_type": "stream",
          "text": [
            "Good to go ✔\n"
          ],
          "name": "stdout"
        }
      ]
    },
    {
      "cell_type": "code",
      "metadata": {
        "id": "6by1JrAb0YXY",
        "colab_type": "code",
        "colab": {
          "base_uri": "https://localhost:8080/",
          "height": 70
        },
        "outputId": "6b7aecb6-569a-4cc0-cf80-66f9bc216fd5"
      },
      "source": [
        "#-Library imports\n",
        "import pandas as pd\n",
        "import matplotlib\n",
        "import matplotlib.pyplot as plt\n",
        "import numpy as np\n",
        "import statistics\n",
        "import math \n",
        "import nltk\n",
        "import string\n",
        "import seaborn as sns\n",
        "from sklearn import preprocessing\n",
        "from sklearn import linear_model\n",
        "from sklearn import svm\n",
        "from sklearn import metrics\n",
        "from sklearn.utils import validation\n",
        "from sklearn.cluster import KMeans\n",
        "from sklearn.cluster import KMeans\n",
        "from sklearn.feature_extraction.text import TfidfVectorizer\n",
        "from sklearn.model_selection import train_test_split\n",
        "from sklearn.model_selection import KFold\n",
        "from sklearn.model_selection import StratifiedKFold\n",
        "from sklearn.model_selection import cross_val_score\n",
        "from sklearn.model_selection import cross_validate\n",
        "from sklearn.model_selection import GridSearchCV\n",
        "from sklearn.linear_model import LinearRegression, PassiveAggressiveClassifier\n",
        "from sklearn.decomposition import PCA\n",
        "from sklearn.preprocessing import normalize\n",
        "from sklearn.preprocessing import MinMaxScaler\n",
        "from sklearn.metrics import accuracy_score, pairwise_distances, mean_absolute_error, classification_report, confusion_matrix\n",
        "from sklearn.neighbors import KNeighborsClassifier\n",
        "from sklearn.datasets import make_blobs\n",
        "#Import Gaussian Naive Bayes model\n",
        "from sklearn.naive_bayes import GaussianNB\n",
        "from seaborn import heatmap\n",
        "from math import exp\n",
        "from random import randint, seed\n",
        "import itertools\n",
        "\n",
        "%matplotlib inline"
      ],
      "execution_count": 3,
      "outputs": [
        {
          "output_type": "stream",
          "text": [
            "/usr/local/lib/python3.6/dist-packages/statsmodels/tools/_testing.py:19: FutureWarning: pandas.util.testing is deprecated. Use the functions in the public API at pandas.testing instead.\n",
            "  import pandas.util.testing as tm\n"
          ],
          "name": "stderr"
        }
      ]
    },
    {
      "cell_type": "code",
      "metadata": {
        "id": "1r6F4B-BbzgI",
        "colab_type": "code",
        "colab": {
          "base_uri": "https://localhost:8080/",
          "height": 901
        },
        "outputId": "6f32c9f4-7605-4c96-c3e6-fe58026dad38"
      },
      "source": [
        "# Loading Dataset\n",
        "file0 = 'news.csv'\n",
        "file1 = 'Fake.csv'\n",
        "file2 = 'True.csv'\n",
        "\n",
        "df0 = pd.read_csv(path + file0)\n",
        "df1 = pd.read_csv(path + file1)\n",
        "df2 = pd.read_csv(path + file2)\n",
        "\n",
        "print(df0)\n",
        "print(df1)\n",
        "print(df2)\n",
        "\n",
        "df1['label'] = 'FAKE'\n",
        "df2['label'] = 'TRUE'\n",
        "\n",
        "dataset = pd.concat([df0[['text','label']] , df1[['text','label']] , df2[['text','label']]], ignore_index=True)\n",
        "\n",
        "dataset = dataset.sample(frac=1).reset_index(drop=True)\n",
        "dataset.tail()\n",
        "\n",
        "# print('Dataset Attributes::', dataset.columns)\n",
        "# print('Dataset Dim::', dataset.shape)\n",
        "# print(dataset.head())\n",
        "# print('\\nData Output::\\n', dataset.label)"
      ],
      "execution_count": 4,
      "outputs": [
        {
          "output_type": "stream",
          "text": [
            "      Unnamed: 0  ... label\n",
            "0           8476  ...  FAKE\n",
            "1          10294  ...  FAKE\n",
            "2           3608  ...  REAL\n",
            "3          10142  ...  FAKE\n",
            "4            875  ...  REAL\n",
            "...          ...  ...   ...\n",
            "6330        4490  ...  REAL\n",
            "6331        8062  ...  FAKE\n",
            "6332        8622  ...  FAKE\n",
            "6333        4021  ...  REAL\n",
            "6334        4330  ...  REAL\n",
            "\n",
            "[6335 rows x 4 columns]\n",
            "                                                   title  ...               date\n",
            "0       Donald Trump Sends Out Embarrassing New Year’...  ...  December 31, 2017\n",
            "1       Drunk Bragging Trump Staffer Started Russian ...  ...  December 31, 2017\n",
            "2       Sheriff David Clarke Becomes An Internet Joke...  ...  December 30, 2017\n",
            "3       Trump Is So Obsessed He Even Has Obama’s Name...  ...  December 29, 2017\n",
            "4       Pope Francis Just Called Out Donald Trump Dur...  ...  December 25, 2017\n",
            "...                                                  ...  ...                ...\n",
            "23476  McPain: John McCain Furious That Iran Treated ...  ...   January 16, 2016\n",
            "23477  JUSTICE? Yahoo Settles E-mail Privacy Class-ac...  ...   January 16, 2016\n",
            "23478  Sunnistan: US and Allied ‘Safe Zone’ Plan to T...  ...   January 15, 2016\n",
            "23479  How to Blow $700 Million: Al Jazeera America F...  ...   January 14, 2016\n",
            "23480  10 U.S. Navy Sailors Held by Iranian Military ...  ...   January 12, 2016\n",
            "\n",
            "[23481 rows x 4 columns]\n",
            "                                                   title  ...                date\n",
            "0      As U.S. budget fight looms, Republicans flip t...  ...  December 31, 2017 \n",
            "1      U.S. military to accept transgender recruits o...  ...  December 29, 2017 \n",
            "2      Senior U.S. Republican senator: 'Let Mr. Muell...  ...  December 31, 2017 \n",
            "3      FBI Russia probe helped by Australian diplomat...  ...  December 30, 2017 \n",
            "4      Trump wants Postal Service to charge 'much mor...  ...  December 29, 2017 \n",
            "...                                                  ...  ...                 ...\n",
            "21412  'Fully committed' NATO backs new U.S. approach...  ...    August 22, 2017 \n",
            "21413  LexisNexis withdrew two products from Chinese ...  ...    August 22, 2017 \n",
            "21414  Minsk cultural hub becomes haven from authorities  ...    August 22, 2017 \n",
            "21415  Vatican upbeat on possibility of Pope Francis ...  ...    August 22, 2017 \n",
            "21416  Indonesia to buy $1.14 billion worth of Russia...  ...    August 22, 2017 \n",
            "\n",
            "[21417 rows x 4 columns]\n"
          ],
          "name": "stdout"
        },
        {
          "output_type": "execute_result",
          "data": {
            "text/html": [
              "<div>\n",
              "<style scoped>\n",
              "    .dataframe tbody tr th:only-of-type {\n",
              "        vertical-align: middle;\n",
              "    }\n",
              "\n",
              "    .dataframe tbody tr th {\n",
              "        vertical-align: top;\n",
              "    }\n",
              "\n",
              "    .dataframe thead th {\n",
              "        text-align: right;\n",
              "    }\n",
              "</style>\n",
              "<table border=\"1\" class=\"dataframe\">\n",
              "  <thead>\n",
              "    <tr style=\"text-align: right;\">\n",
              "      <th></th>\n",
              "      <th>text</th>\n",
              "      <th>label</th>\n",
              "    </tr>\n",
              "  </thead>\n",
              "  <tbody>\n",
              "    <tr>\n",
              "      <th>51228</th>\n",
              "      <td>Make The Netherlands Great Again  is one of G...</td>\n",
              "      <td>FAKE</td>\n",
              "    </tr>\n",
              "    <tr>\n",
              "      <th>51229</th>\n",
              "      <td>A Latino radio host gave Trump a nickname of  ...</td>\n",
              "      <td>FAKE</td>\n",
              "    </tr>\n",
              "    <tr>\n",
              "      <th>51230</th>\n",
              "      <td>Republican front runner Donald Trump has stopp...</td>\n",
              "      <td>FAKE</td>\n",
              "    </tr>\n",
              "    <tr>\n",
              "      <th>51231</th>\n",
              "      <td>WASHINGTON/NEW YORK (Reuters) - The Trump admi...</td>\n",
              "      <td>TRUE</td>\n",
              "    </tr>\n",
              "    <tr>\n",
              "      <th>51232</th>\n",
              "      <td>The FBI reportedly has found emails from Hilla...</td>\n",
              "      <td>FAKE</td>\n",
              "    </tr>\n",
              "  </tbody>\n",
              "</table>\n",
              "</div>"
            ],
            "text/plain": [
              "                                                    text label\n",
              "51228   Make The Netherlands Great Again  is one of G...  FAKE\n",
              "51229  A Latino radio host gave Trump a nickname of  ...  FAKE\n",
              "51230  Republican front runner Donald Trump has stopp...  FAKE\n",
              "51231  WASHINGTON/NEW YORK (Reuters) - The Trump admi...  TRUE\n",
              "51232  The FBI reportedly has found emails from Hilla...  FAKE"
            ]
          },
          "metadata": {
            "tags": []
          },
          "execution_count": 4
        }
      ]
    },
    {
      "cell_type": "markdown",
      "metadata": {
        "id": "BRVFNlQWfk_r",
        "colab_type": "text"
      },
      "source": [
        "# **Analyzing Dataset**\n",
        "\n",
        "\n",
        "*   Determining the Labels(outputs) and Inputs\n",
        "\n"
      ]
    },
    {
      "cell_type": "code",
      "metadata": {
        "id": "0ZZ3UQvfhQ9G",
        "colab_type": "code",
        "colab": {
          "base_uri": "https://localhost:8080/",
          "height": 420
        },
        "outputId": "1d6b26cd-a726-4a85-8cfc-c7481714a7da"
      },
      "source": [
        "# Outputs or Labels\n",
        "labels = dataset.label;\n",
        "print(labels)\n",
        "\n",
        "# Sample Data\n",
        "df = dataset['text']\n",
        "df"
      ],
      "execution_count": 5,
      "outputs": [
        {
          "output_type": "stream",
          "text": [
            "0        FAKE\n",
            "1        TRUE\n",
            "2        TRUE\n",
            "3        FAKE\n",
            "4        FAKE\n",
            "         ... \n",
            "51228    FAKE\n",
            "51229    FAKE\n",
            "51230    FAKE\n",
            "51231    TRUE\n",
            "51232    FAKE\n",
            "Name: label, Length: 51233, dtype: object\n"
          ],
          "name": "stdout"
        },
        {
          "output_type": "execute_result",
          "data": {
            "text/plain": [
              "0        Mark Steyn is dead on when he calls out the fe...\n",
              "1        WASHINGTON (Reuters) - The U.S. Environmental ...\n",
              "2        WASHINGTON (Reuters) - The Senate on Thursday ...\n",
              "3        Donald Trump really should have just apologize...\n",
              "4        Donald Trump has been tweeting all day   and h...\n",
              "                               ...                        \n",
              "51228     Make The Netherlands Great Again  is one of G...\n",
              "51229    A Latino radio host gave Trump a nickname of  ...\n",
              "51230    Republican front runner Donald Trump has stopp...\n",
              "51231    WASHINGTON/NEW YORK (Reuters) - The Trump admi...\n",
              "51232    The FBI reportedly has found emails from Hilla...\n",
              "Name: text, Length: 51233, dtype: object"
            ]
          },
          "metadata": {
            "tags": []
          },
          "execution_count": 5
        }
      ]
    },
    {
      "cell_type": "markdown",
      "metadata": {
        "id": "S4zs3liWjDny",
        "colab_type": "text"
      },
      "source": [
        "# **Splitting the dataset**\n",
        "\n",
        "*   Split the dataset into training and testing sets."
      ]
    },
    {
      "cell_type": "code",
      "metadata": {
        "id": "iw7uv66nj-pv",
        "colab_type": "code",
        "colab": {
          "base_uri": "https://localhost:8080/",
          "height": 420
        },
        "outputId": "d767989e-60a2-46ab-9848-f717d6b2925f"
      },
      "source": [
        "# Split Dataset with a 8:2 ratio for training and testing\n",
        "#         sampple data:: the 'text' column only.\n",
        "x_train,x_test,y_train,y_test = train_test_split(df, labels, test_size=0.2, \n",
        "                                                 random_state=7)\n",
        "print(x_train)\n",
        "print(y_train)"
      ],
      "execution_count": 6,
      "outputs": [
        {
          "output_type": "stream",
          "text": [
            "6890     It only took what 14 years for this to happen?...\n",
            "45936    CHICAGO (Reuters) - Chicago Mayor Rahm Emanuel...\n",
            "22230    WASHINGTON (Reuters) - Advisers to President D...\n",
            "40082    LISBON (Reuters) - At least 20 people died in ...\n",
            "42905                This woman nails it! LANGUAGE ALERT! \n",
            "                               ...                        \n",
            "13927    The following statements were posted to the ve...\n",
            "919      ENOUGH ALREADY! A California Dem and two dozen...\n",
            "38467     Episode #160 of SUNDAY WIRE SHOW resumes this...\n",
            "10742    It sure didn t take long for Donald Trump to c...\n",
            "49689    LONDON (Reuters) - Britain is less likely to l...\n",
            "Name: text, Length: 40986, dtype: object\n",
            "6890     FAKE\n",
            "45936    TRUE\n",
            "22230    TRUE\n",
            "40082    TRUE\n",
            "42905    FAKE\n",
            "         ... \n",
            "13927    TRUE\n",
            "919      FAKE\n",
            "38467    FAKE\n",
            "10742    FAKE\n",
            "49689    TRUE\n",
            "Name: label, Length: 40986, dtype: object\n"
          ],
          "name": "stdout"
        }
      ]
    },
    {
      "cell_type": "markdown",
      "metadata": {
        "id": "__6XR0KevMfv",
        "colab_type": "text"
      },
      "source": [
        "# **Dataset Preprocessing using a TfidfVectorizer**\n",
        "\n",
        "Let’s initialize a ***TfidfVectorizer*** with stop words from the English language and a maximum document frequency of 0.7 (terms with a higher document frequency will be discarded). Stop words are the most common words in a language that are to be filtered out before processing the natural language data. And a *TfidfVectorizer* turns a collection of raw documents into a matrix of TF-IDF features.\n",
        "\n",
        "*  **TF (Term Frequency)**: The number of times a word appears in a document is its Term Frequency. A higher value means a term appears more often than others, and so, the document is a good match when the term is part of the search terms.\n",
        "*  **IDF (Inverse Document Frequency):** Words that occur many times a document, but also occur many times in many others, may be irrelevant. IDF is a measure of how significant a term is in the entire corpus."
      ]
    },
    {
      "cell_type": "code",
      "metadata": {
        "id": "fHnwFNFixhag",
        "colab_type": "code",
        "colab": {
          "base_uri": "https://localhost:8080/",
          "height": 874
        },
        "outputId": "00558b1d-0e50-4b53-965b-97643aa94b84"
      },
      "source": [
        "# Initialize a TfidfVectorizer\n",
        "tfidf_vectorizer = TfidfVectorizer(stop_words='english', max_df=0.7)\n",
        "\n",
        "# Fit and transform train set, transform test set\n",
        "tfidf_train = tfidf_vectorizer.fit_transform(x_train) \n",
        "tfidf_test = tfidf_vectorizer.transform(x_test)\n",
        "\n",
        "print(tfidf_test)"
      ],
      "execution_count": 7,
      "outputs": [
        {
          "output_type": "stream",
          "text": [
            "  (0, 124981)\t0.08451178237154328\n",
            "  (0, 124783)\t0.07829457310746414\n",
            "  (0, 123114)\t0.06318422487885175\n",
            "  (0, 122839)\t0.1010661020938192\n",
            "  (0, 122777)\t0.03650732026956057\n",
            "  (0, 120068)\t0.03613581857935138\n",
            "  (0, 119072)\t0.043057624451706404\n",
            "  (0, 119023)\t0.08552531822895557\n",
            "  (0, 118599)\t0.09602959357715411\n",
            "  (0, 117450)\t0.07975671472906734\n",
            "  (0, 117255)\t0.045925082829983734\n",
            "  (0, 116583)\t0.1492730346114787\n",
            "  (0, 116575)\t0.13730689840777377\n",
            "  (0, 115281)\t0.0832444405119004\n",
            "  (0, 115016)\t0.025186615146429118\n",
            "  (0, 113138)\t0.05622219287963321\n",
            "  (0, 112038)\t0.2052075229019071\n",
            "  (0, 112037)\t0.09772657476558322\n",
            "  (0, 111009)\t0.08451178237154328\n",
            "  (0, 110354)\t0.040491004915061746\n",
            "  (0, 109578)\t0.04351129080576121\n",
            "  (0, 109504)\t0.06946013951067598\n",
            "  (0, 109260)\t0.08151584663140223\n",
            "  (0, 108513)\t0.032851979723485816\n",
            "  (0, 106823)\t0.16138454665346633\n",
            "  :\t:\n",
            "  (10246, 27131)\t0.03158282478182805\n",
            "  (10246, 26877)\t0.025829859035047774\n",
            "  (10246, 26470)\t0.03795537378655852\n",
            "  (10246, 25759)\t0.10789065616994001\n",
            "  (10246, 24972)\t0.050034674489537925\n",
            "  (10246, 24785)\t0.027343109518897117\n",
            "  (10246, 23119)\t0.1467133896432185\n",
            "  (10246, 23075)\t0.020816751247389235\n",
            "  (10246, 21711)\t0.042627072883035494\n",
            "  (10246, 20969)\t0.12460609904245867\n",
            "  (10246, 18862)\t0.07338091238552508\n",
            "  (10246, 17371)\t0.04860998150995413\n",
            "  (10246, 15566)\t0.02476937711052092\n",
            "  (10246, 14129)\t0.054762899940473266\n",
            "  (10246, 14128)\t0.033762933176264116\n",
            "  (10246, 14106)\t0.0404418521712178\n",
            "  (10246, 13594)\t0.031451153336507325\n",
            "  (10246, 12887)\t0.032202256442621195\n",
            "  (10246, 12409)\t0.07101452387605732\n",
            "  (10246, 11061)\t0.034450021610767816\n",
            "  (10246, 11000)\t0.03037517228431444\n",
            "  (10246, 10935)\t0.025972494571032595\n",
            "  (10246, 8655)\t0.026001388886511406\n",
            "  (10246, 4168)\t0.02621019354719163\n",
            "  (10246, 2705)\t0.025459223847420377\n"
          ],
          "name": "stdout"
        }
      ]
    },
    {
      "cell_type": "markdown",
      "metadata": {
        "id": "eXaW5IEN3qtz",
        "colab_type": "text"
      },
      "source": [
        "# **Learning Model Selection**\n",
        "\n",
        "Choose a Learning Model, Methodology or Schema for training the dataset.\n",
        "\n",
        "Here, as it's a classification problem, we are using a ***PassiveAggressiveClassifier*** due to the fact that we have vectorized the sample data during the preprocessing step using a *TfidfVectorizer*.\n",
        "\n",
        "For explaination purpose, **Passive Aggressive algorithms** are online learning algorithms. Such an algorithm remains passive for a correct classification outcome, and turns aggressive in the event of a miscalculation, updating and adjusting. Unlike most other algorithms, it does not converge. Its purpose is to make updates that correct the loss, causing very little change in the norm of the weight vector.\n"
      ]
    },
    {
      "cell_type": "code",
      "metadata": {
        "id": "beJfbKbToOlv",
        "colab_type": "code",
        "colab": {
          "base_uri": "https://localhost:8080/",
          "height": 118
        },
        "outputId": "14494e48-5867-41cb-f715-1789af55b28b"
      },
      "source": [
        "# Initialize a PassiveAggressiveClassifier\n",
        "model = PassiveAggressiveClassifier(max_iter=50)\n",
        "model"
      ],
      "execution_count": 8,
      "outputs": [
        {
          "output_type": "execute_result",
          "data": {
            "text/plain": [
              "PassiveAggressiveClassifier(C=1.0, average=False, class_weight=None,\n",
              "                            early_stopping=False, fit_intercept=True,\n",
              "                            loss='hinge', max_iter=50, n_iter_no_change=5,\n",
              "                            n_jobs=None, random_state=None, shuffle=True,\n",
              "                            tol=0.001, validation_fraction=0.1, verbose=0,\n",
              "                            warm_start=False)"
            ]
          },
          "metadata": {
            "tags": []
          },
          "execution_count": 8
        }
      ]
    },
    {
      "cell_type": "markdown",
      "metadata": {
        "id": "qUrGSRHm7wwf",
        "colab_type": "text"
      },
      "source": [
        "# **Fitting the Model and Predicting its outcomes.**\n",
        "\n",
        "Here we will fit the model with the trained vectorized sample data from ```tfidf_train``` of the **TfidfVectorizer** and the ```y_train``` of the initial sample data."
      ]
    },
    {
      "cell_type": "code",
      "metadata": {
        "id": "kf8T-xIt73Rs",
        "colab_type": "code",
        "colab": {
          "base_uri": "https://localhost:8080/",
          "height": 67
        },
        "outputId": "c7d07035-0de1-4e7f-b9ac-34cef30332da"
      },
      "source": [
        "# Fitting the Model with the tfidf_train & y_train.\n",
        "model.fit(tfidf_train,y_train)\n",
        "\n",
        "# Predict on the test set tfidf_test from the TfidfVectorizer\n",
        "y_pred = model.predict(tfidf_test)\n",
        "print('Predicted Outcomes -->', y_pred, y_pred.shape)\n",
        "\n",
        "#           and \n",
        "\n",
        "# Calculate the accuracy with accuracy_score()\n",
        "score = accuracy_score(y_test,y_pred)\n",
        "print(f'\\nModel-Accuracy: {round(score*100,2)}%')"
      ],
      "execution_count": 9,
      "outputs": [
        {
          "output_type": "stream",
          "text": [
            "Predicted Outcomes --> ['TRUE' 'FAKE' 'FAKE' ... 'FAKE' 'TRUE' 'FAKE'] (10247,)\n",
            "\n",
            "Model-Accuracy: 97.29%\n"
          ],
          "name": "stdout"
        }
      ]
    },
    {
      "cell_type": "markdown",
      "metadata": {
        "id": "K5Bgu9cIwEiO",
        "colab_type": "text"
      },
      "source": [
        "# **Report and Visualization on the selected Model**\n",
        "\n",
        "From the Previous Step, after training and testing the model using *PassiveAggressiveClassifier* we got an *accuracy* of more than **97.44%** on the testing sample.\n",
        "\n",
        "For more insights, we will print out the **confusion matrix** to view the number of false and true negatives and positives.\n",
        "\n",
        "We will also print out the **heat map** generated from the confusion matrix.\n"
      ]
    },
    {
      "cell_type": "code",
      "metadata": {
        "id": "3zpDS9QBzHLG",
        "colab_type": "code",
        "colab": {
          "base_uri": "https://localhost:8080/",
          "height": 420
        },
        "outputId": "da560808-8c5c-4285-9c5e-13d495f029f6"
      },
      "source": [
        "# Model Report\n",
        "report = classification_report(y_test,y_pred, labels=['FAKE','REAL'])\n",
        "\n",
        "print('----------------=====Model Report=====----------------\\n')\n",
        "print(report)\n",
        "print('------------------------------------------------------\\n')\n",
        "\n",
        "\n",
        "# Confusion-Matrix\n",
        "conf_mat = confusion_matrix(y_test,y_pred, labels=['FAKE','REAL'])\n",
        "\n",
        "print('::Confusion-Matrix::')\n",
        "print('',conf_mat)\n",
        "print('------------------------------------------------------\\n')\n",
        "\n",
        "\n",
        "# Model Precision: what percentage of positive tuples are labeled as such?\n",
        "print(\"Precision: \\t%.2f\\n\" % metrics.precision_score(y_test, y_pred, average='weighted'))\n",
        "\n",
        "# Model Recall: what percentage of positive tuples are labelled as such?\n",
        "print(\"Recall: \\t%.2f\\n\" % metrics.recall_score(y_test, y_pred, average='weighted'))\n",
        "print('------------------------------------------------------\\n')"
      ],
      "execution_count": 10,
      "outputs": [
        {
          "output_type": "stream",
          "text": [
            "----------------=====Model Report=====----------------\n",
            "\n",
            "              precision    recall  f1-score   support\n",
            "\n",
            "        FAKE       0.97      0.98      0.98      5353\n",
            "        REAL       0.90      0.76      0.82       666\n",
            "\n",
            "   micro avg       0.96      0.96      0.96      6019\n",
            "   macro avg       0.93      0.87      0.90      6019\n",
            "weighted avg       0.96      0.96      0.96      6019\n",
            "\n",
            "------------------------------------------------------\n",
            "\n",
            "::Confusion-Matrix::\n",
            " [[5264   54]\n",
            " [ 133  504]]\n",
            "------------------------------------------------------\n",
            "\n",
            "Precision: \t0.97\n",
            "\n",
            "Recall: \t0.97\n",
            "\n",
            "------------------------------------------------------\n",
            "\n"
          ],
          "name": "stdout"
        }
      ]
    },
    {
      "cell_type": "code",
      "metadata": {
        "id": "v6LwIFCY2MM-",
        "colab_type": "code",
        "colab": {
          "base_uri": "https://localhost:8080/",
          "height": 281
        },
        "outputId": "8fdd40d8-fbe3-480e-c42c-8a9bd07554e8"
      },
      "source": [
        "# Visualization of confusion-matrix with a heat-map\n",
        "# fig = plt.figure(figsize=(10,6))\n",
        "plt.title('Confusion Matrix')\n",
        "plt.xlabel('Predicted Label')\n",
        "plt.ylabel('True Label')\n",
        "\n",
        "sns.heatmap(conf_mat, annot=True, cmap=plt.cm.ocean_r,\n",
        "            xticklabels=['FAKE','REAL'], \n",
        "            yticklabels=['FAKE','REAL'])\n",
        "plt.show()\n"
      ],
      "execution_count": 11,
      "outputs": [
        {
          "output_type": "display_data",
          "data": {
            "image/png": "[encoded data removed]",
            "text/plain": [
              "<Figure size 432x288 with 2 Axes>"
            ]
          },
          "metadata": {
            "tags": [],
            "needs_background": "light"
          }
        }
      ]
    }
  ]
}